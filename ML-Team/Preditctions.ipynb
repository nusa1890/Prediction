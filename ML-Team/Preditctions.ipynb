{
 "cells": [
  {
   "cell_type": "code",
   "execution_count": 139,
   "id": "divided-paste",
   "metadata": {},
   "outputs": [],
   "source": [
    "import matplotlib.pyplot as plt\n",
    "import tensorflow as tf\n",
    "import tensorflowjs as tfjs\n",
    "import numpy as np\n",
    "import pandas as pd\n",
    "import os\n",
    "from math import sqrt\n",
    "from datetime import datetime, timedelta\n",
    "#tf.compat.v1.disable_eager_execution()\n",
    "from sklearn.preprocessing import MinMaxScaler\n",
    "from pandas.io import gbq\n"
   ]
  },
  {
   "cell_type": "code",
   "execution_count": 2,
   "id": "behind-numbers",
   "metadata": {},
   "outputs": [],
   "source": [
    "df=pd.read_csv('/home/nusa/Documents/ProjectBangkit2021/data/pollution_data.csv')"
   ]
  },
  {
   "cell_type": "code",
   "execution_count": 3,
   "id": "seasonal-porcelain",
   "metadata": {},
   "outputs": [
    {
     "data": {
      "text/html": [
       "<div>\n",
       "<style scoped>\n",
       "    .dataframe tbody tr th:only-of-type {\n",
       "        vertical-align: middle;\n",
       "    }\n",
       "\n",
       "    .dataframe tbody tr th {\n",
       "        vertical-align: top;\n",
       "    }\n",
       "\n",
       "    .dataframe thead th {\n",
       "        text-align: right;\n",
       "    }\n",
       "</style>\n",
       "<table border=\"1\" class=\"dataframe\">\n",
       "  <thead>\n",
       "    <tr style=\"text-align: right;\">\n",
       "      <th></th>\n",
       "      <th>tanggal</th>\n",
       "      <th>pm10</th>\n",
       "      <th>so2</th>\n",
       "      <th>co</th>\n",
       "      <th>o3</th>\n",
       "      <th>no2</th>\n",
       "      <th>max</th>\n",
       "      <th>critical</th>\n",
       "      <th>categori</th>\n",
       "      <th>lokasi_spku</th>\n",
       "    </tr>\n",
       "  </thead>\n",
       "  <tbody>\n",
       "    <tr>\n",
       "      <th>0</th>\n",
       "      <td>1/1/2010</td>\n",
       "      <td>60.0</td>\n",
       "      <td>4.0</td>\n",
       "      <td>73.0</td>\n",
       "      <td>27.0</td>\n",
       "      <td>14.0</td>\n",
       "      <td>73.0</td>\n",
       "      <td>CO</td>\n",
       "      <td>SEDANG</td>\n",
       "      <td>JAKARTA</td>\n",
       "    </tr>\n",
       "    <tr>\n",
       "      <th>1</th>\n",
       "      <td>1/2/2010</td>\n",
       "      <td>32.0</td>\n",
       "      <td>2.0</td>\n",
       "      <td>16.0</td>\n",
       "      <td>33.0</td>\n",
       "      <td>9.0</td>\n",
       "      <td>33.0</td>\n",
       "      <td>O3</td>\n",
       "      <td>BAIK</td>\n",
       "      <td>JAKARTA</td>\n",
       "    </tr>\n",
       "    <tr>\n",
       "      <th>2</th>\n",
       "      <td>1/3/2010</td>\n",
       "      <td>27.0</td>\n",
       "      <td>2.0</td>\n",
       "      <td>19.0</td>\n",
       "      <td>20.0</td>\n",
       "      <td>9.0</td>\n",
       "      <td>27.0</td>\n",
       "      <td>PM10</td>\n",
       "      <td>BAIK</td>\n",
       "      <td>JAKARTA</td>\n",
       "    </tr>\n",
       "    <tr>\n",
       "      <th>3</th>\n",
       "      <td>1/4/2010</td>\n",
       "      <td>22.0</td>\n",
       "      <td>2.0</td>\n",
       "      <td>16.0</td>\n",
       "      <td>15.0</td>\n",
       "      <td>6.0</td>\n",
       "      <td>22.0</td>\n",
       "      <td>PM10</td>\n",
       "      <td>BAIK</td>\n",
       "      <td>JAKARTA</td>\n",
       "    </tr>\n",
       "    <tr>\n",
       "      <th>4</th>\n",
       "      <td>1/5/2010</td>\n",
       "      <td>25.0</td>\n",
       "      <td>2.0</td>\n",
       "      <td>17.0</td>\n",
       "      <td>15.0</td>\n",
       "      <td>8.0</td>\n",
       "      <td>25.0</td>\n",
       "      <td>PM10</td>\n",
       "      <td>BAIK</td>\n",
       "      <td>JAKARTA</td>\n",
       "    </tr>\n",
       "    <tr>\n",
       "      <th>...</th>\n",
       "      <td>...</td>\n",
       "      <td>...</td>\n",
       "      <td>...</td>\n",
       "      <td>...</td>\n",
       "      <td>...</td>\n",
       "      <td>...</td>\n",
       "      <td>...</td>\n",
       "      <td>...</td>\n",
       "      <td>...</td>\n",
       "      <td>...</td>\n",
       "    </tr>\n",
       "    <tr>\n",
       "      <th>4083</th>\n",
       "      <td>3/27/2021</td>\n",
       "      <td>62.0</td>\n",
       "      <td>49.0</td>\n",
       "      <td>13.0</td>\n",
       "      <td>63.0</td>\n",
       "      <td>33.0</td>\n",
       "      <td>91.0</td>\n",
       "      <td>PM25</td>\n",
       "      <td>SEDANG</td>\n",
       "      <td>JAKARTA</td>\n",
       "    </tr>\n",
       "    <tr>\n",
       "      <th>4084</th>\n",
       "      <td>3/28/2021</td>\n",
       "      <td>57.0</td>\n",
       "      <td>43.0</td>\n",
       "      <td>15.0</td>\n",
       "      <td>71.0</td>\n",
       "      <td>31.0</td>\n",
       "      <td>78.0</td>\n",
       "      <td>PM25</td>\n",
       "      <td>SEDANG</td>\n",
       "      <td>JAKARTA</td>\n",
       "    </tr>\n",
       "    <tr>\n",
       "      <th>4085</th>\n",
       "      <td>3/29/2021</td>\n",
       "      <td>65.0</td>\n",
       "      <td>48.0</td>\n",
       "      <td>19.0</td>\n",
       "      <td>67.0</td>\n",
       "      <td>37.0</td>\n",
       "      <td>91.0</td>\n",
       "      <td>PM25</td>\n",
       "      <td>SEDANG</td>\n",
       "      <td>JAKARTA</td>\n",
       "    </tr>\n",
       "    <tr>\n",
       "      <th>4086</th>\n",
       "      <td>3/30/2021</td>\n",
       "      <td>59.0</td>\n",
       "      <td>42.0</td>\n",
       "      <td>15.0</td>\n",
       "      <td>55.0</td>\n",
       "      <td>30.0</td>\n",
       "      <td>76.0</td>\n",
       "      <td>PM25</td>\n",
       "      <td>SEDANG</td>\n",
       "      <td>JAKARTA</td>\n",
       "    </tr>\n",
       "    <tr>\n",
       "      <th>4087</th>\n",
       "      <td>3/31/2021</td>\n",
       "      <td>56.0</td>\n",
       "      <td>43.0</td>\n",
       "      <td>18.0</td>\n",
       "      <td>48.0</td>\n",
       "      <td>25.0</td>\n",
       "      <td>69.0</td>\n",
       "      <td>PM25</td>\n",
       "      <td>SEDANG</td>\n",
       "      <td>JAKARTA</td>\n",
       "    </tr>\n",
       "  </tbody>\n",
       "</table>\n",
       "<p>4088 rows × 10 columns</p>\n",
       "</div>"
      ],
      "text/plain": [
       "        tanggal  pm10   so2    co    o3   no2   max critical categori  \\\n",
       "0      1/1/2010  60.0   4.0  73.0  27.0  14.0  73.0       CO   SEDANG   \n",
       "1      1/2/2010  32.0   2.0  16.0  33.0   9.0  33.0       O3     BAIK   \n",
       "2      1/3/2010  27.0   2.0  19.0  20.0   9.0  27.0     PM10     BAIK   \n",
       "3      1/4/2010  22.0   2.0  16.0  15.0   6.0  22.0     PM10     BAIK   \n",
       "4      1/5/2010  25.0   2.0  17.0  15.0   8.0  25.0     PM10     BAIK   \n",
       "...         ...   ...   ...   ...   ...   ...   ...      ...      ...   \n",
       "4083  3/27/2021  62.0  49.0  13.0  63.0  33.0  91.0     PM25   SEDANG   \n",
       "4084  3/28/2021  57.0  43.0  15.0  71.0  31.0  78.0     PM25   SEDANG   \n",
       "4085  3/29/2021  65.0  48.0  19.0  67.0  37.0  91.0     PM25   SEDANG   \n",
       "4086  3/30/2021  59.0  42.0  15.0  55.0  30.0  76.0     PM25   SEDANG   \n",
       "4087  3/31/2021  56.0  43.0  18.0  48.0  25.0  69.0     PM25   SEDANG   \n",
       "\n",
       "     lokasi_spku  \n",
       "0        JAKARTA  \n",
       "1        JAKARTA  \n",
       "2        JAKARTA  \n",
       "3        JAKARTA  \n",
       "4        JAKARTA  \n",
       "...          ...  \n",
       "4083     JAKARTA  \n",
       "4084     JAKARTA  \n",
       "4085     JAKARTA  \n",
       "4086     JAKARTA  \n",
       "4087     JAKARTA  \n",
       "\n",
       "[4088 rows x 10 columns]"
      ]
     },
     "execution_count": 3,
     "metadata": {},
     "output_type": "execute_result"
    }
   ],
   "source": [
    "df"
   ]
  },
  {
   "cell_type": "code",
   "execution_count": 4,
   "id": "virtual-stock",
   "metadata": {},
   "outputs": [
    {
     "data": {
      "text/plain": [
       "(4088, 10)"
      ]
     },
     "execution_count": 4,
     "metadata": {},
     "output_type": "execute_result"
    }
   ],
   "source": [
    "df.values.shape"
   ]
  },
  {
   "cell_type": "code",
   "execution_count": 5,
   "id": "fabulous-conviction",
   "metadata": {},
   "outputs": [],
   "source": [
    "df.drop('critical', axis=1, inplace=True)\n",
    "df.drop('categori', axis=1, inplace=True)\n",
    "df.drop('lokasi_spku', axis=1, inplace=True)"
   ]
  },
  {
   "cell_type": "code",
   "execution_count": 6,
   "id": "quick-portal",
   "metadata": {},
   "outputs": [
    {
     "data": {
      "text/plain": [
       "(4088, 7)"
      ]
     },
     "execution_count": 6,
     "metadata": {},
     "output_type": "execute_result"
    }
   ],
   "source": [
    "df.values.shape"
   ]
  },
  {
   "cell_type": "code",
   "execution_count": 7,
   "id": "nervous-bibliography",
   "metadata": {},
   "outputs": [
    {
     "data": {
      "text/html": [
       "<div>\n",
       "<style scoped>\n",
       "    .dataframe tbody tr th:only-of-type {\n",
       "        vertical-align: middle;\n",
       "    }\n",
       "\n",
       "    .dataframe tbody tr th {\n",
       "        vertical-align: top;\n",
       "    }\n",
       "\n",
       "    .dataframe thead th {\n",
       "        text-align: right;\n",
       "    }\n",
       "</style>\n",
       "<table border=\"1\" class=\"dataframe\">\n",
       "  <thead>\n",
       "    <tr style=\"text-align: right;\">\n",
       "      <th></th>\n",
       "      <th>tanggal</th>\n",
       "      <th>pm10</th>\n",
       "      <th>so2</th>\n",
       "      <th>co</th>\n",
       "      <th>o3</th>\n",
       "      <th>no2</th>\n",
       "      <th>max</th>\n",
       "    </tr>\n",
       "  </thead>\n",
       "  <tbody>\n",
       "    <tr>\n",
       "      <th>0</th>\n",
       "      <td>1/1/2010</td>\n",
       "      <td>60.0</td>\n",
       "      <td>4.0</td>\n",
       "      <td>73.0</td>\n",
       "      <td>27.0</td>\n",
       "      <td>14.0</td>\n",
       "      <td>73.0</td>\n",
       "    </tr>\n",
       "  </tbody>\n",
       "</table>\n",
       "</div>"
      ],
      "text/plain": [
       "    tanggal  pm10  so2    co    o3   no2   max\n",
       "0  1/1/2010  60.0  4.0  73.0  27.0  14.0  73.0"
      ]
     },
     "execution_count": 7,
     "metadata": {},
     "output_type": "execute_result"
    }
   ],
   "source": [
    "df.head(1)"
   ]
  },
  {
   "cell_type": "code",
   "execution_count": 8,
   "id": "infectious-dairy",
   "metadata": {},
   "outputs": [
    {
     "name": "stdout",
     "output_type": "stream",
     "text": [
      "<class 'pandas.core.frame.DataFrame'>\n",
      "DatetimeIndex: 4088 entries, 2010-01-01 to 2021-03-31\n",
      "Data columns (total 6 columns):\n",
      " #   Column  Non-Null Count  Dtype  \n",
      "---  ------  --------------  -----  \n",
      " 0   pm10    4088 non-null   float64\n",
      " 1   so2     4088 non-null   float64\n",
      " 2   co      4088 non-null   float64\n",
      " 3   o3      4088 non-null   float64\n",
      " 4   no2     4088 non-null   float64\n",
      " 5   max     4088 non-null   float64\n",
      "dtypes: float64(6)\n",
      "memory usage: 223.6 KB\n"
     ]
    }
   ],
   "source": [
    "df['tanggal'] = pd.to_datetime(df['tanggal'])\n",
    "df.set_index('tanggal', inplace=True)\n",
    "df.info()"
   ]
  },
  {
   "cell_type": "code",
   "execution_count": 9,
   "id": "junior-neutral",
   "metadata": {},
   "outputs": [
    {
     "data": {
      "text/html": [
       "<div>\n",
       "<style scoped>\n",
       "    .dataframe tbody tr th:only-of-type {\n",
       "        vertical-align: middle;\n",
       "    }\n",
       "\n",
       "    .dataframe tbody tr th {\n",
       "        vertical-align: top;\n",
       "    }\n",
       "\n",
       "    .dataframe thead th {\n",
       "        text-align: right;\n",
       "    }\n",
       "</style>\n",
       "<table border=\"1\" class=\"dataframe\">\n",
       "  <thead>\n",
       "    <tr style=\"text-align: right;\">\n",
       "      <th></th>\n",
       "      <th>pm10</th>\n",
       "      <th>so2</th>\n",
       "      <th>co</th>\n",
       "      <th>o3</th>\n",
       "      <th>no2</th>\n",
       "      <th>max</th>\n",
       "    </tr>\n",
       "    <tr>\n",
       "      <th>tanggal</th>\n",
       "      <th></th>\n",
       "      <th></th>\n",
       "      <th></th>\n",
       "      <th></th>\n",
       "      <th></th>\n",
       "      <th></th>\n",
       "    </tr>\n",
       "  </thead>\n",
       "  <tbody>\n",
       "    <tr>\n",
       "      <th>2010-01-01</th>\n",
       "      <td>60.0</td>\n",
       "      <td>4.0</td>\n",
       "      <td>73.0</td>\n",
       "      <td>27.0</td>\n",
       "      <td>14.0</td>\n",
       "      <td>73.0</td>\n",
       "    </tr>\n",
       "    <tr>\n",
       "      <th>2010-01-02</th>\n",
       "      <td>32.0</td>\n",
       "      <td>2.0</td>\n",
       "      <td>16.0</td>\n",
       "      <td>33.0</td>\n",
       "      <td>9.0</td>\n",
       "      <td>33.0</td>\n",
       "    </tr>\n",
       "    <tr>\n",
       "      <th>2010-01-03</th>\n",
       "      <td>27.0</td>\n",
       "      <td>2.0</td>\n",
       "      <td>19.0</td>\n",
       "      <td>20.0</td>\n",
       "      <td>9.0</td>\n",
       "      <td>27.0</td>\n",
       "    </tr>\n",
       "    <tr>\n",
       "      <th>2010-01-04</th>\n",
       "      <td>22.0</td>\n",
       "      <td>2.0</td>\n",
       "      <td>16.0</td>\n",
       "      <td>15.0</td>\n",
       "      <td>6.0</td>\n",
       "      <td>22.0</td>\n",
       "    </tr>\n",
       "    <tr>\n",
       "      <th>2010-01-05</th>\n",
       "      <td>25.0</td>\n",
       "      <td>2.0</td>\n",
       "      <td>17.0</td>\n",
       "      <td>15.0</td>\n",
       "      <td>8.0</td>\n",
       "      <td>25.0</td>\n",
       "    </tr>\n",
       "  </tbody>\n",
       "</table>\n",
       "</div>"
      ],
      "text/plain": [
       "            pm10  so2    co    o3   no2   max\n",
       "tanggal                                      \n",
       "2010-01-01  60.0  4.0  73.0  27.0  14.0  73.0\n",
       "2010-01-02  32.0  2.0  16.0  33.0   9.0  33.0\n",
       "2010-01-03  27.0  2.0  19.0  20.0   9.0  27.0\n",
       "2010-01-04  22.0  2.0  16.0  15.0   6.0  22.0\n",
       "2010-01-05  25.0  2.0  17.0  15.0   8.0  25.0"
      ]
     },
     "execution_count": 9,
     "metadata": {},
     "output_type": "execute_result"
    }
   ],
   "source": [
    "df.head()"
   ]
  },
  {
   "cell_type": "code",
   "execution_count": 10,
   "id": "optimum-explanation",
   "metadata": {},
   "outputs": [
    {
     "data": {
      "image/png": "[encoded data removed]",
      "text/plain": [
       "<Figure size 432x288 with 1 Axes>"
      ]
     },
     "metadata": {
      "needs_background": "light"
     },
     "output_type": "display_data"
    }
   ],
   "source": [
    "df['pm10'].plot();"
   ]
  },
  {
   "cell_type": "code",
   "execution_count": 11,
   "id": "western-wallet",
   "metadata": {},
   "outputs": [],
   "source": [
    "target_names = ['pm10', 'so2', 'co', 'o3', 'no2']"
   ]
  },
  {
   "cell_type": "code",
   "execution_count": 12,
   "id": "brutal-shade",
   "metadata": {},
   "outputs": [],
   "source": [
    "shift_steps = 1"
   ]
  },
  {
   "cell_type": "code",
   "execution_count": 13,
   "id": "herbal-tucson",
   "metadata": {},
   "outputs": [],
   "source": [
    "df_targets = df[target_names].shift(-shift_steps)"
   ]
  },
  {
   "cell_type": "code",
   "execution_count": 14,
   "id": "described-indication",
   "metadata": {},
   "outputs": [
    {
     "data": {
      "text/html": [
       "<div>\n",
       "<style scoped>\n",
       "    .dataframe tbody tr th:only-of-type {\n",
       "        vertical-align: middle;\n",
       "    }\n",
       "\n",
       "    .dataframe tbody tr th {\n",
       "        vertical-align: top;\n",
       "    }\n",
       "\n",
       "    .dataframe thead th {\n",
       "        text-align: right;\n",
       "    }\n",
       "</style>\n",
       "<table border=\"1\" class=\"dataframe\">\n",
       "  <thead>\n",
       "    <tr style=\"text-align: right;\">\n",
       "      <th></th>\n",
       "      <th>pm10</th>\n",
       "      <th>so2</th>\n",
       "      <th>co</th>\n",
       "      <th>o3</th>\n",
       "      <th>no2</th>\n",
       "    </tr>\n",
       "    <tr>\n",
       "      <th>tanggal</th>\n",
       "      <th></th>\n",
       "      <th></th>\n",
       "      <th></th>\n",
       "      <th></th>\n",
       "      <th></th>\n",
       "    </tr>\n",
       "  </thead>\n",
       "  <tbody>\n",
       "    <tr>\n",
       "      <th>2010-01-01</th>\n",
       "      <td>60.0</td>\n",
       "      <td>4.0</td>\n",
       "      <td>73.0</td>\n",
       "      <td>27.0</td>\n",
       "      <td>14.0</td>\n",
       "    </tr>\n",
       "    <tr>\n",
       "      <th>2010-01-02</th>\n",
       "      <td>32.0</td>\n",
       "      <td>2.0</td>\n",
       "      <td>16.0</td>\n",
       "      <td>33.0</td>\n",
       "      <td>9.0</td>\n",
       "    </tr>\n",
       "    <tr>\n",
       "      <th>2010-01-03</th>\n",
       "      <td>27.0</td>\n",
       "      <td>2.0</td>\n",
       "      <td>19.0</td>\n",
       "      <td>20.0</td>\n",
       "      <td>9.0</td>\n",
       "    </tr>\n",
       "    <tr>\n",
       "      <th>2010-01-04</th>\n",
       "      <td>22.0</td>\n",
       "      <td>2.0</td>\n",
       "      <td>16.0</td>\n",
       "      <td>15.0</td>\n",
       "      <td>6.0</td>\n",
       "    </tr>\n",
       "    <tr>\n",
       "      <th>2010-01-05</th>\n",
       "      <td>25.0</td>\n",
       "      <td>2.0</td>\n",
       "      <td>17.0</td>\n",
       "      <td>15.0</td>\n",
       "      <td>8.0</td>\n",
       "    </tr>\n",
       "    <tr>\n",
       "      <th>2010-01-06</th>\n",
       "      <td>30.0</td>\n",
       "      <td>3.0</td>\n",
       "      <td>22.0</td>\n",
       "      <td>19.0</td>\n",
       "      <td>11.0</td>\n",
       "    </tr>\n",
       "  </tbody>\n",
       "</table>\n",
       "</div>"
      ],
      "text/plain": [
       "            pm10  so2    co    o3   no2\n",
       "tanggal                                \n",
       "2010-01-01  60.0  4.0  73.0  27.0  14.0\n",
       "2010-01-02  32.0  2.0  16.0  33.0   9.0\n",
       "2010-01-03  27.0  2.0  19.0  20.0   9.0\n",
       "2010-01-04  22.0  2.0  16.0  15.0   6.0\n",
       "2010-01-05  25.0  2.0  17.0  15.0   8.0\n",
       "2010-01-06  30.0  3.0  22.0  19.0  11.0"
      ]
     },
     "execution_count": 14,
     "metadata": {},
     "output_type": "execute_result"
    }
   ],
   "source": [
    "df[target_names].head(shift_steps + 5)"
   ]
  },
  {
   "cell_type": "code",
   "execution_count": 15,
   "id": "extended-phenomenon",
   "metadata": {},
   "outputs": [
    {
     "data": {
      "text/html": [
       "<div>\n",
       "<style scoped>\n",
       "    .dataframe tbody tr th:only-of-type {\n",
       "        vertical-align: middle;\n",
       "    }\n",
       "\n",
       "    .dataframe tbody tr th {\n",
       "        vertical-align: top;\n",
       "    }\n",
       "\n",
       "    .dataframe thead th {\n",
       "        text-align: right;\n",
       "    }\n",
       "</style>\n",
       "<table border=\"1\" class=\"dataframe\">\n",
       "  <thead>\n",
       "    <tr style=\"text-align: right;\">\n",
       "      <th></th>\n",
       "      <th>pm10</th>\n",
       "      <th>so2</th>\n",
       "      <th>co</th>\n",
       "      <th>o3</th>\n",
       "      <th>no2</th>\n",
       "    </tr>\n",
       "    <tr>\n",
       "      <th>tanggal</th>\n",
       "      <th></th>\n",
       "      <th></th>\n",
       "      <th></th>\n",
       "      <th></th>\n",
       "      <th></th>\n",
       "    </tr>\n",
       "  </thead>\n",
       "  <tbody>\n",
       "    <tr>\n",
       "      <th>2010-01-01</th>\n",
       "      <td>32.0</td>\n",
       "      <td>2.0</td>\n",
       "      <td>16.0</td>\n",
       "      <td>33.0</td>\n",
       "      <td>9.0</td>\n",
       "    </tr>\n",
       "    <tr>\n",
       "      <th>2010-01-02</th>\n",
       "      <td>27.0</td>\n",
       "      <td>2.0</td>\n",
       "      <td>19.0</td>\n",
       "      <td>20.0</td>\n",
       "      <td>9.0</td>\n",
       "    </tr>\n",
       "    <tr>\n",
       "      <th>2010-01-03</th>\n",
       "      <td>22.0</td>\n",
       "      <td>2.0</td>\n",
       "      <td>16.0</td>\n",
       "      <td>15.0</td>\n",
       "      <td>6.0</td>\n",
       "    </tr>\n",
       "    <tr>\n",
       "      <th>2010-01-04</th>\n",
       "      <td>25.0</td>\n",
       "      <td>2.0</td>\n",
       "      <td>17.0</td>\n",
       "      <td>15.0</td>\n",
       "      <td>8.0</td>\n",
       "    </tr>\n",
       "    <tr>\n",
       "      <th>2010-01-05</th>\n",
       "      <td>30.0</td>\n",
       "      <td>3.0</td>\n",
       "      <td>22.0</td>\n",
       "      <td>19.0</td>\n",
       "      <td>11.0</td>\n",
       "    </tr>\n",
       "  </tbody>\n",
       "</table>\n",
       "</div>"
      ],
      "text/plain": [
       "            pm10  so2    co    o3   no2\n",
       "tanggal                                \n",
       "2010-01-01  32.0  2.0  16.0  33.0   9.0\n",
       "2010-01-02  27.0  2.0  19.0  20.0   9.0\n",
       "2010-01-03  22.0  2.0  16.0  15.0   6.0\n",
       "2010-01-04  25.0  2.0  17.0  15.0   8.0\n",
       "2010-01-05  30.0  3.0  22.0  19.0  11.0"
      ]
     },
     "execution_count": 15,
     "metadata": {},
     "output_type": "execute_result"
    }
   ],
   "source": [
    "df_targets.head(5)"
   ]
  },
  {
   "cell_type": "code",
   "execution_count": 16,
   "id": "chronic-telescope",
   "metadata": {},
   "outputs": [
    {
     "data": {
      "text/html": [
       "<div>\n",
       "<style scoped>\n",
       "    .dataframe tbody tr th:only-of-type {\n",
       "        vertical-align: middle;\n",
       "    }\n",
       "\n",
       "    .dataframe tbody tr th {\n",
       "        vertical-align: top;\n",
       "    }\n",
       "\n",
       "    .dataframe thead th {\n",
       "        text-align: right;\n",
       "    }\n",
       "</style>\n",
       "<table border=\"1\" class=\"dataframe\">\n",
       "  <thead>\n",
       "    <tr style=\"text-align: right;\">\n",
       "      <th></th>\n",
       "      <th>pm10</th>\n",
       "      <th>so2</th>\n",
       "      <th>co</th>\n",
       "      <th>o3</th>\n",
       "      <th>no2</th>\n",
       "    </tr>\n",
       "    <tr>\n",
       "      <th>tanggal</th>\n",
       "      <th></th>\n",
       "      <th></th>\n",
       "      <th></th>\n",
       "      <th></th>\n",
       "      <th></th>\n",
       "    </tr>\n",
       "  </thead>\n",
       "  <tbody>\n",
       "    <tr>\n",
       "      <th>2021-03-27</th>\n",
       "      <td>57.0</td>\n",
       "      <td>43.0</td>\n",
       "      <td>15.0</td>\n",
       "      <td>71.0</td>\n",
       "      <td>31.0</td>\n",
       "    </tr>\n",
       "    <tr>\n",
       "      <th>2021-03-28</th>\n",
       "      <td>65.0</td>\n",
       "      <td>48.0</td>\n",
       "      <td>19.0</td>\n",
       "      <td>67.0</td>\n",
       "      <td>37.0</td>\n",
       "    </tr>\n",
       "    <tr>\n",
       "      <th>2021-03-29</th>\n",
       "      <td>59.0</td>\n",
       "      <td>42.0</td>\n",
       "      <td>15.0</td>\n",
       "      <td>55.0</td>\n",
       "      <td>30.0</td>\n",
       "    </tr>\n",
       "    <tr>\n",
       "      <th>2021-03-30</th>\n",
       "      <td>56.0</td>\n",
       "      <td>43.0</td>\n",
       "      <td>18.0</td>\n",
       "      <td>48.0</td>\n",
       "      <td>25.0</td>\n",
       "    </tr>\n",
       "    <tr>\n",
       "      <th>2021-03-31</th>\n",
       "      <td>NaN</td>\n",
       "      <td>NaN</td>\n",
       "      <td>NaN</td>\n",
       "      <td>NaN</td>\n",
       "      <td>NaN</td>\n",
       "    </tr>\n",
       "  </tbody>\n",
       "</table>\n",
       "</div>"
      ],
      "text/plain": [
       "            pm10   so2    co    o3   no2\n",
       "tanggal                                 \n",
       "2021-03-27  57.0  43.0  15.0  71.0  31.0\n",
       "2021-03-28  65.0  48.0  19.0  67.0  37.0\n",
       "2021-03-29  59.0  42.0  15.0  55.0  30.0\n",
       "2021-03-30  56.0  43.0  18.0  48.0  25.0\n",
       "2021-03-31   NaN   NaN   NaN   NaN   NaN"
      ]
     },
     "execution_count": 16,
     "metadata": {},
     "output_type": "execute_result"
    }
   ],
   "source": [
    "df_targets.tail()"
   ]
  },
  {
   "cell_type": "code",
   "execution_count": 17,
   "id": "straight-murray",
   "metadata": {},
   "outputs": [],
   "source": [
    "x_data = df.values[0:-shift_steps]"
   ]
  },
  {
   "cell_type": "code",
   "execution_count": 18,
   "id": "incredible-fourth",
   "metadata": {},
   "outputs": [
    {
     "name": "stdout",
     "output_type": "stream",
     "text": [
      "<class 'numpy.ndarray'>\n",
      "Shape: (4087, 6)\n"
     ]
    }
   ],
   "source": [
    "print(type(x_data))\n",
    "print(\"Shape:\", x_data.shape)"
   ]
  },
  {
   "cell_type": "code",
   "execution_count": 19,
   "id": "caroline-elite",
   "metadata": {},
   "outputs": [],
   "source": [
    "y_data = df_targets.values[:-shift_steps]"
   ]
  },
  {
   "cell_type": "code",
   "execution_count": 20,
   "id": "formal-elimination",
   "metadata": {},
   "outputs": [
    {
     "name": "stdout",
     "output_type": "stream",
     "text": [
      "<class 'numpy.ndarray'>\n",
      "Shape: (4087, 5)\n"
     ]
    }
   ],
   "source": [
    "print(type(y_data))\n",
    "print(\"Shape:\", y_data.shape)"
   ]
  },
  {
   "cell_type": "code",
   "execution_count": 21,
   "id": "provincial-corps",
   "metadata": {},
   "outputs": [
    {
     "data": {
      "text/plain": [
       "4087"
      ]
     },
     "execution_count": 21,
     "metadata": {},
     "output_type": "execute_result"
    }
   ],
   "source": [
    "num_data = len(x_data)\n",
    "num_data"
   ]
  },
  {
   "cell_type": "code",
   "execution_count": 22,
   "id": "processed-pottery",
   "metadata": {},
   "outputs": [],
   "source": [
    "train_split = 0.9"
   ]
  },
  {
   "cell_type": "code",
   "execution_count": 23,
   "id": "hired-vienna",
   "metadata": {},
   "outputs": [
    {
     "data": {
      "text/plain": [
       "3678"
      ]
     },
     "execution_count": 23,
     "metadata": {},
     "output_type": "execute_result"
    }
   ],
   "source": [
    "num_train = int(train_split * num_data)\n",
    "num_train"
   ]
  },
  {
   "cell_type": "code",
   "execution_count": 24,
   "id": "crucial-romance",
   "metadata": {},
   "outputs": [
    {
     "data": {
      "text/plain": [
       "409"
      ]
     },
     "execution_count": 24,
     "metadata": {},
     "output_type": "execute_result"
    }
   ],
   "source": [
    "num_test = num_data - num_train\n",
    "num_test"
   ]
  },
  {
   "cell_type": "code",
   "execution_count": 25,
   "id": "removable-salmon",
   "metadata": {},
   "outputs": [
    {
     "data": {
      "text/plain": [
       "4087"
      ]
     },
     "execution_count": 25,
     "metadata": {},
     "output_type": "execute_result"
    }
   ],
   "source": [
    "x_train = x_data[0:num_train]\n",
    "x_test = x_data[num_train:]\n",
    "len(x_train) + len(x_test)"
   ]
  },
  {
   "cell_type": "code",
   "execution_count": 26,
   "id": "stunning-driving",
   "metadata": {},
   "outputs": [
    {
     "data": {
      "text/plain": [
       "4087"
      ]
     },
     "execution_count": 26,
     "metadata": {},
     "output_type": "execute_result"
    }
   ],
   "source": [
    "y_train = y_data[0:num_train]\n",
    "y_test = y_data[num_train:]\n",
    "len(y_train) + len(y_test)"
   ]
  },
  {
   "cell_type": "code",
   "execution_count": 27,
   "id": "complicated-deposit",
   "metadata": {},
   "outputs": [
    {
     "data": {
      "text/plain": [
       "6"
      ]
     },
     "execution_count": 27,
     "metadata": {},
     "output_type": "execute_result"
    }
   ],
   "source": [
    "num_x_signals = x_data.shape[1]\n",
    "num_x_signals"
   ]
  },
  {
   "cell_type": "code",
   "execution_count": 28,
   "id": "apparent-least",
   "metadata": {},
   "outputs": [
    {
     "data": {
      "text/plain": [
       "5"
      ]
     },
     "execution_count": 28,
     "metadata": {},
     "output_type": "execute_result"
    }
   ],
   "source": [
    "num_y_signals = y_data.shape[1]\n",
    "num_y_signals"
   ]
  },
  {
   "cell_type": "code",
   "execution_count": 29,
   "id": "favorite-hughes",
   "metadata": {},
   "outputs": [
    {
     "name": "stdout",
     "output_type": "stream",
     "text": [
      "Min: 0.0\n",
      "Max: 314.0\n"
     ]
    }
   ],
   "source": [
    "print(\"Min:\", np.min(x_train))\n",
    "print(\"Max:\", np.max(x_train))"
   ]
  },
  {
   "cell_type": "code",
   "execution_count": 30,
   "id": "adequate-firmware",
   "metadata": {},
   "outputs": [],
   "source": [
    "x_scaler = MinMaxScaler()"
   ]
  },
  {
   "cell_type": "code",
   "execution_count": 31,
   "id": "broad-massachusetts",
   "metadata": {},
   "outputs": [],
   "source": [
    "x_train_scaled = x_scaler.fit_transform(x_train)"
   ]
  },
  {
   "cell_type": "code",
   "execution_count": 32,
   "id": "healthy-frontier",
   "metadata": {},
   "outputs": [
    {
     "name": "stdout",
     "output_type": "stream",
     "text": [
      "Min: 0.0\n",
      "Max: 1.0\n"
     ]
    }
   ],
   "source": [
    "print(\"Min:\", np.min(x_train_scaled))\n",
    "print(\"Max:\", np.max(x_train_scaled))"
   ]
  },
  {
   "cell_type": "code",
   "execution_count": 33,
   "id": "informed-republic",
   "metadata": {},
   "outputs": [],
   "source": [
    "x_test_scaled = x_scaler.transform(x_test)"
   ]
  },
  {
   "cell_type": "code",
   "execution_count": 34,
   "id": "future-mining",
   "metadata": {},
   "outputs": [],
   "source": [
    "y_scaler = MinMaxScaler()\n",
    "y_train_scaled = y_scaler.fit_transform(y_train)\n",
    "y_test_scaled = y_scaler.transform(y_test)"
   ]
  },
  {
   "cell_type": "code",
   "execution_count": 35,
   "id": "nasty-remark",
   "metadata": {},
   "outputs": [
    {
     "name": "stdout",
     "output_type": "stream",
     "text": [
      "(3678, 6)\n",
      "(3678, 5)\n"
     ]
    }
   ],
   "source": [
    "print(x_train_scaled.shape)\n",
    "print(y_train_scaled.shape)"
   ]
  },
  {
   "cell_type": "code",
   "execution_count": 36,
   "id": "athletic-indianapolis",
   "metadata": {},
   "outputs": [],
   "source": [
    "def batch_generator(batch_size, sequence_length):\n",
    "    \"\"\"\n",
    "    Generator function for creating random batches of training-data.\n",
    "    \"\"\"\n",
    "\n",
    "    while True:\n",
    "        x_shape = (batch_size, sequence_length, num_x_signals)\n",
    "        x_batch = np.zeros(shape=x_shape, dtype=np.float16)\n",
    "\n",
    "        y_shape = (batch_size, sequence_length, num_y_signals)\n",
    "        y_batch = np.zeros(shape=y_shape, dtype=np.float16)\n",
    "\n",
    "        for i in range(batch_size):\n",
    "            idx = np.random.randint(num_train - sequence_length)\n",
    "            \n",
    "            x_batch[i] = x_train_scaled[idx:idx+sequence_length]\n",
    "            y_batch[i] = y_train_scaled[idx:idx+sequence_length]\n",
    "        \n",
    "        yield (x_batch, y_batch)"
   ]
  },
  {
   "cell_type": "code",
   "execution_count": 37,
   "id": "three-torture",
   "metadata": {},
   "outputs": [],
   "source": [
    "batch_size = 128"
   ]
  },
  {
   "cell_type": "code",
   "execution_count": 38,
   "id": "informational-services",
   "metadata": {},
   "outputs": [],
   "source": [
    "sequence_length = 366"
   ]
  },
  {
   "cell_type": "code",
   "execution_count": 39,
   "id": "resident-struggle",
   "metadata": {},
   "outputs": [],
   "source": [
    "generator = batch_generator(batch_size=batch_size,\n",
    "                            sequence_length=sequence_length)"
   ]
  },
  {
   "cell_type": "code",
   "execution_count": 40,
   "id": "subject-prefix",
   "metadata": {},
   "outputs": [],
   "source": [
    "x_batch, y_batch = next(generator)"
   ]
  },
  {
   "cell_type": "code",
   "execution_count": 41,
   "id": "favorite-liver",
   "metadata": {},
   "outputs": [
    {
     "name": "stdout",
     "output_type": "stream",
     "text": [
      "(128, 366, 6)\n",
      "(128, 366, 5)\n"
     ]
    }
   ],
   "source": [
    "print(x_batch.shape)\n",
    "print(y_batch.shape)"
   ]
  },
  {
   "cell_type": "code",
   "execution_count": 42,
   "id": "gorgeous-support",
   "metadata": {},
   "outputs": [
    {
     "data": {
      "text/plain": [
       "[<matplotlib.lines.Line2D at 0x7f8dbc230e50>]"
      ]
     },
     "execution_count": 42,
     "metadata": {},
     "output_type": "execute_result"
    },
    {
     "data": {
      "image/png": "[encoded data removed]",
      "text/plain": [
       "<Figure size 432x288 with 1 Axes>"
      ]
     },
     "metadata": {
      "needs_background": "light"
     },
     "output_type": "display_data"
    }
   ],
   "source": [
    "batch = 0\n",
    "signal = 0\n",
    "seq = x_batch[batch, :, signal]\n",
    "plt.plot(seq)"
   ]
  },
  {
   "cell_type": "code",
   "execution_count": 43,
   "id": "metric-commission",
   "metadata": {},
   "outputs": [
    {
     "data": {
      "text/plain": [
       "[<matplotlib.lines.Line2D at 0x7f8dbc2209a0>]"
      ]
     },
     "execution_count": 43,
     "metadata": {},
     "output_type": "execute_result"
    },
    {
     "data": {
      "image/png": "[encoded data removed]",
      "text/plain": [
       "<Figure size 432x288 with 1 Axes>"
      ]
     },
     "metadata": {
      "needs_background": "light"
     },
     "output_type": "display_data"
    }
   ],
   "source": [
    "seq = y_batch[batch, :, signal]\n",
    "plt.plot(seq)"
   ]
  },
  {
   "cell_type": "code",
   "execution_count": 44,
   "id": "introductory-double",
   "metadata": {},
   "outputs": [],
   "source": [
    "validation_data = (np.expand_dims(x_test_scaled, axis=0),\n",
    "                   np.expand_dims(y_test_scaled, axis=0))"
   ]
  },
  {
   "cell_type": "code",
   "execution_count": 45,
   "id": "corporate-grant",
   "metadata": {},
   "outputs": [],
   "source": [
    "path_checkpoint = 'checkpoint.keras'\n",
    "callback_checkpoint = tf.keras.callbacks.ModelCheckpoint(filepath=path_checkpoint,\n",
    "                                      monitor='val_loss',\n",
    "                                      verbose=1,\n",
    "                                      save_weights_only=True,\n",
    "                                      save_best_only=True)"
   ]
  },
  {
   "cell_type": "code",
   "execution_count": 46,
   "id": "pressing-matthew",
   "metadata": {},
   "outputs": [],
   "source": [
    "callback_early_stopping = tf.keras.callbacks.EarlyStopping(monitor='val_loss',\n",
    "                                                           patience=1, verbose=1)"
   ]
  },
  {
   "cell_type": "code",
   "execution_count": 47,
   "id": "correct-wireless",
   "metadata": {},
   "outputs": [],
   "source": [
    "callback_tensorboard = tf.keras.callbacks.TensorBoard(log_dir='./logs/',\n",
    "                                                      histogram_freq=0,\n",
    "                                                      write_graph=False)"
   ]
  },
  {
   "cell_type": "code",
   "execution_count": 48,
   "id": "boolean-wrist",
   "metadata": {},
   "outputs": [],
   "source": [
    "callback_reduce_lr = tf.keras.callbacks.ReduceLROnPlateau(monitor='val_loss',\n",
    "                                                          factor=0.1,\n",
    "                                                          min_lr=1e-4,\n",
    "                                                          patience=0,\n",
    "                                                          verbose=1)"
   ]
  },
  {
   "cell_type": "code",
   "execution_count": 49,
   "id": "binding-modification",
   "metadata": {},
   "outputs": [],
   "source": [
    "model = tf.keras.models.Sequential([tf.keras.layers.GRU(units=256,\n",
    "                                                        return_sequences=True,\n",
    "                                                        input_shape=(None, num_x_signals,),\n",
    "                                                        activation='tanh'),\n",
    "                                    tf.keras.layers.GRU(units=512,\n",
    "                                                        return_sequences=True,\n",
    "                                                        input_shape=(None, num_x_signals,),\n",
    "                                                        activation='tanh'),\n",
    "                                    tf.keras.layers.GRU(units=256,\n",
    "                                                        return_sequences=True,\n",
    "                                                        input_shape=(None, num_x_signals,),\n",
    "                                                        activation='tanh'),\n",
    "                                    tf.keras.layers.Dense(num_y_signals, activation='sigmoid')\n",
    "])\n",
    "optimizer = tf.keras.optimizers.Adam(lr=1e-3)\n",
    "model.compile(loss=tf.keras.losses.MSE,\n",
    "              optimizer=optimizer,\n",
    "              metrics=[\"mae\"])"
   ]
  },
  {
   "cell_type": "code",
   "execution_count": 50,
   "id": "baking-speech",
   "metadata": {},
   "outputs": [
    {
     "name": "stdout",
     "output_type": "stream",
     "text": [
      "Model: \"sequential\"\n",
      "_________________________________________________________________\n",
      "Layer (type)                 Output Shape              Param #   \n",
      "=================================================================\n",
      "gru (GRU)                    (None, None, 256)         202752    \n",
      "_________________________________________________________________\n",
      "gru_1 (GRU)                  (None, None, 512)         1182720   \n",
      "_________________________________________________________________\n",
      "gru_2 (GRU)                  (None, None, 256)         591360    \n",
      "_________________________________________________________________\n",
      "dense (Dense)                (None, None, 5)           1285      \n",
      "=================================================================\n",
      "Total params: 1,978,117\n",
      "Trainable params: 1,978,117\n",
      "Non-trainable params: 0\n",
      "_________________________________________________________________\n"
     ]
    }
   ],
   "source": [
    "model.summary()"
   ]
  },
  {
   "cell_type": "code",
   "execution_count": 51,
   "id": "healthy-skiing",
   "metadata": {
    "scrolled": true
   },
   "outputs": [
    {
     "name": "stdout",
     "output_type": "stream",
     "text": [
      "Epoch 1/20\n",
      "200/200 [==============================] - 122s 591ms/step - loss: 0.0141 - mae: 0.0866 - val_loss: 0.0292 - val_mae: 0.0996\n",
      "\n",
      "Epoch 00001: val_loss improved from inf to 0.02920, saving model to checkpoint.keras\n",
      "Epoch 2/20\n",
      "200/200 [==============================] - 121s 603ms/step - loss: 0.0062 - mae: 0.0559 - val_loss: 0.0492 - val_mae: 0.1170\n",
      "\n",
      "Epoch 00002: val_loss did not improve from 0.02920\n",
      "\n",
      "Epoch 00002: ReduceLROnPlateau reducing learning rate to 0.00010000000474974513.\n",
      "Epoch 00002: early stopping\n"
     ]
    },
    {
     "data": {
      "text/plain": [
       "<tensorflow.python.keras.callbacks.History at 0x7f5f6c25fbb0>"
      ]
     },
     "execution_count": 51,
     "metadata": {},
     "output_type": "execute_result"
    }
   ],
   "source": [
    "model.fit(x=generator,\n",
    "          epochs=20,\n",
    "          steps_per_epoch=200,\n",
    "          validation_data=validation_data,\n",
    "          callbacks = [callback_early_stopping,\n",
    "                       callback_checkpoint,\n",
    "                       callback_tensorboard,\n",
    "                       callback_reduce_lr])"
   ]
  },
  {
   "cell_type": "code",
   "execution_count": 52,
   "id": "experienced-identity",
   "metadata": {},
   "outputs": [
    {
     "name": "stdout",
     "output_type": "stream",
     "text": [
      "Error trying to load checkpoint.\n",
      "You are trying to load a weight file containing 4 layers into a model with 3 layers.\n"
     ]
    }
   ],
   "source": [
    "try:\n",
    "    model.load_weights(path_checkpoint)\n",
    "except Exception as error:\n",
    "    print(\"Error trying to load checkpoint.\")\n",
    "    print(error)"
   ]
  },
  {
   "cell_type": "code",
   "execution_count": 59,
   "id": "upset-designation",
   "metadata": {},
   "outputs": [
    {
     "name": "stdout",
     "output_type": "stream",
     "text": [
      "1/1 [==============================] - 0s 66ms/step - loss: 0.0279 - mae: 0.0915\n"
     ]
    }
   ],
   "source": [
    "result = model.evaluate(x=np.expand_dims(x_test_scaled, axis=0),\n",
    "                        y=np.expand_dims(y_test_scaled, axis=0))"
   ]
  },
  {
   "cell_type": "code",
   "execution_count": 54,
   "id": "trying-invalid",
   "metadata": {},
   "outputs": [
    {
     "name": "stdout",
     "output_type": "stream",
     "text": [
      "loss (test-set): [0.027855319902300835, 0.09149332344532013]\n"
     ]
    }
   ],
   "source": [
    "print(\"loss (test-set):\", result)"
   ]
  },
  {
   "cell_type": "code",
   "execution_count": 55,
   "id": "independent-magnitude",
   "metadata": {},
   "outputs": [],
   "source": [
    "def plot_comparison(start_idx, length=100, train=True):\n",
    "    \"\"\"\n",
    "    Plot the predicted and true output-signals.\n",
    "    \n",
    "    :param start_idx: Start-index for the time-series.\n",
    "    :param length: Sequence-length to process and plot.\n",
    "    :param train: Boolean whether to use training- or test-set.\n",
    "    \"\"\"\n",
    "    if train:\n",
    "        x = x_train_scaled\n",
    "        y_true = y_train\n",
    "    else:\n",
    "        x = x_test_scaled\n",
    "        y_true = y_test\n",
    "    \n",
    "    end_idx = start_idx + length\n",
    "    \n",
    "    x = x[start_idx:end_idx]\n",
    "    y_true = y_true[start_idx:end_idx]\n",
    "    \n",
    "    x = np.expand_dims(x, axis=0)\n",
    "\n",
    "    y_pred = model.predict(x)\n",
    "    \n",
    "    y_pred_rescaled = y_scaler.inverse_transform(y_pred[0])\n",
    "    _\n",
    "    for signal in range(len(target_names)):\n",
    "        signal_pred = y_pred_rescaled[:, signal]\n",
    "        \n",
    "        signal_true = y_true[:, signal]\n",
    "\n",
    "        plt.figure(figsize=(7,3))\n",
    "        \n",
    "        plt.plot(signal_true, label='true')\n",
    "        plt.plot(signal_pred, label='pred')\n",
    "        \n",
    "        #p = plt.axvspan(0, 50, facecolor='black', alpha=0.15)\n",
    "        \n",
    "        plt.ylabel(target_names[signal])\n",
    "        plt.legend()\n",
    "        plt.show()"
   ]
  },
  {
   "cell_type": "code",
   "execution_count": 56,
   "id": "hired-showcase",
   "metadata": {},
   "outputs": [
    {
     "data": {
      "image/png": "[encoded data removed]",
      "text/plain": [
       "<Figure size 504x216 with 1 Axes>"
      ]
     },
     "metadata": {
      "needs_background": "light"
     },
     "output_type": "display_data"
    },
    {
     "data": {
      "image/png": "[encoded data removed]",
      "text/plain": [
       "<Figure size 504x216 with 1 Axes>"
      ]
     },
     "metadata": {
      "needs_background": "light"
     },
     "output_type": "display_data"
    },
    {
     "data": {
      "image/png": "[encoded data removed]",
      "text/plain": [
       "<Figure size 504x216 with 1 Axes>"
      ]
     },
     "metadata": {
      "needs_background": "light"
     },
     "output_type": "display_data"
    },
    {
     "data": {
      "image/png": "[encoded data removed]",
      "text/plain": [
       "<Figure size 504x216 with 1 Axes>"
      ]
     },
     "metadata": {
      "needs_background": "light"
     },
     "output_type": "display_data"
    },
    {
     "data": {
      "image/png": "[encoded data removed]",
      "text/plain": [
       "<Figure size 504x216 with 1 Axes>"
      ]
     },
     "metadata": {
      "needs_background": "light"
     },
     "output_type": "display_data"
    }
   ],
   "source": [
    "plot_comparison(start_idx=1, length=409, train=False)"
   ]
  },
  {
   "cell_type": "code",
   "execution_count": 57,
   "id": "focal-essence",
   "metadata": {
    "scrolled": true
   },
   "outputs": [],
   "source": [
    "#model.save(\"modelPredictall(=0.0279)5var.h5\")"
   ]
  },
  {
   "cell_type": "code",
   "execution_count": 51,
   "id": "optional-making",
   "metadata": {},
   "outputs": [],
   "source": [
    "#model = tf.keras.models.load_model('modelPredictall(=0.032510507851839066).h5')\n",
    "#model = tf.keras.models.load_model('modelPredictall(=0.02950630523264408).h5')\n",
    "model = tf.keras.models.load_model('modelPredict')\n",
    "#model = tf.keras.models.load_model('modelPredictall(=0.023562125861644745).h5')"
   ]
  },
  {
   "cell_type": "code",
   "execution_count": 370,
   "id": "dimensional-flash",
   "metadata": {},
   "outputs": [
    {
     "data": {
      "text/plain": [
       "array([[ 76.146286 ,  28.619234 ,  52.917454 , 152.63713  ,  23.340473 ],\n",
       "       [ 68.33756  ,  25.100754 ,  44.559853 , 152.32936  ,  17.552528 ],\n",
       "       [ 56.417904 ,  22.368399 ,  37.04921  ,  96.59109  ,  11.9639015],\n",
       "       [ 53.447258 ,  20.564726 ,  33.62974  ,  87.58977  ,  10.856805 ],\n",
       "       [ 50.909435 ,  19.9299   ,  32.62447  ,  87.69547  ,  10.974268 ],\n",
       "       [ 49.60847  ,  17.368273 ,  35.878647 ,  84.78273  ,  10.286073 ],\n",
       "       [ 47.89903  ,  16.216208 ,  37.2325   ,  86.52861  ,   9.9123745],\n",
       "       [ 45.855965 ,  16.807095 ,  35.57951  ,  86.06564  ,   9.482981 ],\n",
       "       [ 46.902546 ,  17.229364 ,  34.472935 ,  88.825294 ,   9.723587 ],\n",
       "       [ 49.48386  ,  17.310919 ,  33.433624 ,  88.937065 ,   9.910923 ]],\n",
       "      dtype=float32)"
      ]
     },
     "execution_count": 370,
     "metadata": {},
     "output_type": "execute_result"
    }
   ],
   "source": [
    "x = x_test_scaled\n",
    "y_true = y_test\n",
    "start_idx=1 \n",
    "length=10\n",
    "end_idx = start_idx + length\n",
    "x = x[start_idx:end_idx]\n",
    "y_true = y_true[start_idx:end_idx]\n",
    "x = np.expand_dims(x, axis=0)\n",
    "y_pred = model.predict(x)\n",
    "y_pred_rescaled = y_scaler.inverse_transform(y_pred[0])"
   ]
  },
  {
   "cell_type": "code",
   "execution_count": 371,
   "id": "analyzed-trigger",
   "metadata": {},
   "outputs": [
    {
     "data": {
      "text/plain": [
       "array([[0.42778814, 0.39748937, 0.39490637, 0.4861055 , 0.3704837 ],\n",
       "       [0.3839189 , 0.34862158, 0.33253622, 0.48512533, 0.27861157],\n",
       "       [0.31695452, 0.3106722 , 0.27648664, 0.30761492, 0.1899032 ],\n",
       "       [0.3002655 , 0.2856212 , 0.25096822, 0.2789483 , 0.17233023],\n",
       "       [0.28600806, 0.27680415, 0.24346618, 0.27928495, 0.17419472],\n",
       "       [0.27869928, 0.241226  , 0.2677511 , 0.27000868, 0.163271  ],\n",
       "       [0.26909566, 0.2252251 , 0.27785447, 0.2755688 , 0.15733927],\n",
       "       [0.25761777, 0.23343188, 0.26551872, 0.2740944 , 0.1505235 ],\n",
       "       [0.26349744, 0.23929672, 0.2572607 , 0.2828831 , 0.15434265],\n",
       "       [0.27799922, 0.24042943, 0.24950466, 0.28323907, 0.15731624]],\n",
       "      dtype=float32)"
      ]
     },
     "execution_count": 371,
     "metadata": {},
     "output_type": "execute_result"
    }
   ],
   "source": [
    "y_pred[0]"
   ]
  },
  {
   "cell_type": "code",
   "execution_count": 58,
   "id": "overall-breakdown",
   "metadata": {},
   "outputs": [
    {
     "ename": "NameError",
     "evalue": "name 'inverse' is not defined",
     "output_type": "error",
     "traceback": [
      "\u001b[0;31m---------------------------------------------------------------------------\u001b[0m",
      "\u001b[0;31mNameError\u001b[0m                                 Traceback (most recent call last)",
      "\u001b[0;32m<ipython-input-58-8c6cd0460de6>\u001b[0m in \u001b[0;36m<module>\u001b[0;34m\u001b[0m\n\u001b[0;32m----> 1\u001b[0;31m \u001b[0mx\u001b[0m\u001b[0;34m=\u001b[0m\u001b[0mx_test_scaled\u001b[0m\u001b[0;34m*\u001b[0m\u001b[0minverse\u001b[0m\u001b[0;34m\u001b[0m\u001b[0;34m\u001b[0m\u001b[0m\n\u001b[0m\u001b[1;32m      2\u001b[0m \u001b[0mx\u001b[0m\u001b[0;34m=\u001b[0m\u001b[0mx_scaler\u001b[0m\u001b[0;34m.\u001b[0m\u001b[0minverse_transform\u001b[0m\u001b[0;34m(\u001b[0m\u001b[0mx_test_scaled\u001b[0m\u001b[0;34m)\u001b[0m\u001b[0;34m\u001b[0m\u001b[0;34m\u001b[0m\u001b[0m\n\u001b[1;32m      3\u001b[0m \u001b[0mx\u001b[0m\u001b[0;34m\u001b[0m\u001b[0;34m\u001b[0m\u001b[0m\n",
      "\u001b[0;31mNameError\u001b[0m: name 'inverse' is not defined"
     ]
    }
   ],
   "source": [
    "x=x_test_scaled*inverse\n",
    "x=x_scaler.inverse_transform(x_test_scaled)\n",
    "x"
   ]
  },
  {
   "cell_type": "code",
   "execution_count": 201,
   "id": "substantial-matrix",
   "metadata": {},
   "outputs": [
    {
     "data": {
      "text/plain": [
       "array([[ 43.,  21.,  30., 170.,  12., 170.],\n",
       "       [ 62.,  30.,  55., 182.,  15., 182.],\n",
       "       [ 54.,  22.,  28.,  62.,  11.,  62.],\n",
       "       ...,\n",
       "       [ 57.,  43.,  15.,  71.,  31.,  78.],\n",
       "       [ 65.,  48.,  19.,  67.,  37.,  91.],\n",
       "       [ 59.,  42.,  15.,  55.,  30.,  76.]])"
      ]
     },
     "execution_count": 201,
     "metadata": {},
     "output_type": "execute_result"
    }
   ],
   "source": [
    "x_test[1:409]"
   ]
  },
  {
   "cell_type": "code",
   "execution_count": 387,
   "id": "afraid-surveillance",
   "metadata": {},
   "outputs": [
    {
     "data": {
      "text/plain": [
       "array([[43., 40., 11., 37., 15., 64.],\n",
       "       [38., 41.,  9., 41., 17., 68.],\n",
       "       [57., 42., 19., 53., 28., 83.],\n",
       "       [62., 49., 13., 63., 33., 91.],\n",
       "       [57., 43., 15., 71., 31., 78.],\n",
       "       [65., 48., 19., 67., 37., 91.],\n",
       "       [59., 42., 15., 55., 30., 76.]])"
      ]
     },
     "execution_count": 387,
     "metadata": {},
     "output_type": "execute_result"
    }
   ],
   "source": [
    "x = x_data[-7:]\n",
    "x"
   ]
  },
  {
   "cell_type": "code",
   "execution_count": 219,
   "id": "medical-market",
   "metadata": {},
   "outputs": [
    {
     "data": {
      "text/plain": [
       "{'tanggal': [Timestamp('2021-06-09 00:00:00'),\n",
       "  Timestamp('2021-06-10 00:00:00'),\n",
       "  Timestamp('2021-06-11 00:00:00'),\n",
       "  Timestamp('2021-06-12 00:00:00'),\n",
       "  Timestamp('2021-06-13 00:00:00'),\n",
       "  Timestamp('2021-06-14 00:00:00'),\n",
       "  Timestamp('2021-06-15 00:00:00')],\n",
       " 'pm10': [60.78, 60.49, 58.04, 55.12, 52.44, 50.17, 48.28],\n",
       " 'so2': [45.52, 44.99, 44.28, 43.18, 41.88, 40.51, 39.13],\n",
       " 'co': [24.51, 23.63, 22.94, 22.32, 21.81, 21.46, 21.24],\n",
       " 'o3': [70.95, 85.96, 90.09, 90.16, 89.72, 89.6, 89.76],\n",
       " 'no2': [25.88, 26.28, 25.31, 23.84, 22.3, 20.81, 19.38],\n",
       " 'max': [70.95, 85.96, 90.09, 90.16, 89.72, 89.6, 89.76],\n",
       " 'city': ['JAKARTA',\n",
       "  'JAKARTA',\n",
       "  'JAKARTA',\n",
       "  'JAKARTA',\n",
       "  'JAKARTA',\n",
       "  'JAKARTA',\n",
       "  'JAKARTA']}"
      ]
     },
     "execution_count": 219,
     "metadata": {},
     "output_type": "execute_result"
    }
   ],
   "source": [
    "x = x_data[-7:]\n",
    "x = x/inverse\n",
    "x = np.expand_dims(x, axis=0)\n",
    "for predict in range(7):\n",
    "    x_pred = model.predict(x)\n",
    "    x_new = x_pred[0][-1:]\n",
    "    x_new = np.append(x_new, np.max(x_new))\n",
    "    x = np.append(x, [[x_new]], axis=1)\n",
    "    x = x.tolist()\n",
    "x = np.delete(x[0], 5, 1)*rescale\n",
    "x = x[-7:].round(2)    \n",
    "pdata = pd.DataFrame(x, columns=['pm10', 'so2', 'co', 'o3', 'no2'])\n",
    "pdata['max'] = np.max(pdata, axis=1)\n",
    "pdata.insert(loc = 0, column = 'tanggal', value = pd.date_range(datetime.now()+timedelta(1), periods=len(pdata), freq='D').normalize())\n",
    "#pdata.to_gbq(destination_table = 'AirQuality.predictions',\n",
    "#     project_id = 'euphoric-fusion-312609',\n",
    "#     if_exists = 'replace')\n",
    "x = np.array(pdata)\n",
    "x = np.expand_dims(x, axis=0)\n",
    "tanggal, pm10, so2, co, o3, no2, max = np.dsplit(x, 7)\n",
    "pollutant = {}\n",
    "pollutant['tanggal'] = tanggal[0][-7:].tolist()\n",
    "pollutant['pm10'] = pm10[0][-7:].tolist()\n",
    "pollutant['so2'] = so2[0][-7:].tolist()\n",
    "pollutant['co'] = co[0][-7:].tolist()\n",
    "pollutant['o3'] = o3[0][-7:].tolist()\n",
    "pollutant['no2'] = no2[0][-7:].tolist()\n",
    "pollutant['max'] = max[0][-7:].tolist()\n",
    "for substance, value in pollutant.items():\n",
    "    pollutant[substance] = [value[0][0], value[1][0], value[2][0], value[3][0], \n",
    "                            value[4][0], value[5][0], value[6][0]]\n",
    "pollutant['city'] = [\"JAKARTA\" for x in range(len(pollutant))]\n",
    "pollutant\n",
    "#x = np.expand_dims(x, axis=0)\n",
    "#y.to_gbq(destination_table = 'AirQuality.predictions',\n",
    "#         project_id = 'euphoric-fusion-312609',\n",
    "#         if_exists = 'replace')"
   ]
  },
  {
   "cell_type": "code",
   "execution_count": 215,
   "id": "revised-binding",
   "metadata": {},
   "outputs": [
    {
     "data": {
      "text/plain": [
       "[{'tanggal': Timestamp('2021-06-09 00:00:00'),\n",
       "  'pm10': 60.78,\n",
       "  'so2': 45.52,\n",
       "  'co': 24.51,\n",
       "  'o3': 70.95,\n",
       "  'no2': 25.88,\n",
       "  'max': 70.95,\n",
       "  'city': 'JAKARTA'},\n",
       " {'tanggal': Timestamp('2021-06-10 00:00:00'),\n",
       "  'pm10': 60.49,\n",
       "  'so2': 44.99,\n",
       "  'co': 23.63,\n",
       "  'o3': 85.96,\n",
       "  'no2': 26.28,\n",
       "  'max': 85.96,\n",
       "  'city': 'JAKARTA'},\n",
       " {'tanggal': Timestamp('2021-06-11 00:00:00'),\n",
       "  'pm10': 58.04,\n",
       "  'so2': 44.28,\n",
       "  'co': 22.94,\n",
       "  'o3': 90.09,\n",
       "  'no2': 25.31,\n",
       "  'max': 90.09,\n",
       "  'city': 'JAKARTA'},\n",
       " {'tanggal': Timestamp('2021-06-12 00:00:00'),\n",
       "  'pm10': 55.12,\n",
       "  'so2': 43.18,\n",
       "  'co': 22.32,\n",
       "  'o3': 90.16,\n",
       "  'no2': 23.84,\n",
       "  'max': 90.16,\n",
       "  'city': 'JAKARTA'},\n",
       " {'tanggal': Timestamp('2021-06-13 00:00:00'),\n",
       "  'pm10': 52.44,\n",
       "  'so2': 41.88,\n",
       "  'co': 21.81,\n",
       "  'o3': 89.72,\n",
       "  'no2': 22.3,\n",
       "  'max': 89.72,\n",
       "  'city': 'JAKARTA'},\n",
       " {'tanggal': Timestamp('2021-06-14 00:00:00'),\n",
       "  'pm10': 50.17,\n",
       "  'so2': 40.51,\n",
       "  'co': 21.46,\n",
       "  'o3': 89.6,\n",
       "  'no2': 20.81,\n",
       "  'max': 89.6,\n",
       "  'city': 'JAKARTA'},\n",
       " {'tanggal': Timestamp('2021-06-15 00:00:00'),\n",
       "  'pm10': 48.28,\n",
       "  'so2': 39.13,\n",
       "  'co': 21.24,\n",
       "  'o3': 89.76,\n",
       "  'no2': 19.38,\n",
       "  'max': 89.76,\n",
       "  'city': 'JAKARTA'}]"
      ]
     },
     "execution_count": 215,
     "metadata": {},
     "output_type": "execute_result"
    }
   ],
   "source": [
    "def split_tensor_dict_list(tensor_dict):\n",
    "    keys = list(tensor_dict.keys())\n",
    "    ret = None\n",
    "    for k in keys:\n",
    "        vals = tensor_dict[k]\n",
    "        if isinstance(vals, dict):\n",
    "            vals = split_tensor_dict_list(vals)\n",
    "        if ret is None:\n",
    "            ret = [{k: v} for v in vals]\n",
    "        else:\n",
    "            for v, cur_dict in zip(vals, ret):\n",
    "                cur_dict[k] = v\n",
    "    return ret \n",
    "pollutant=split_tensor_dict_list(pollutant)\n",
    "pollutant"
   ]
  },
  {
   "cell_type": "code",
   "execution_count": 55,
   "id": "distinguished-assist",
   "metadata": {},
   "outputs": [
    {
     "data": {
      "text/plain": [
       "{'pm10': (60.78, 60.49, 58.04, 55.12, 52.44, 50.17, 48.28),\n",
       " 'so2': (45.52, 44.99, 44.28, 43.18, 41.88, 40.51, 39.13),\n",
       " 'co': (24.51, 23.63, 22.94, 22.32, 21.81, 21.46, 21.24),\n",
       " 'o3': (70.95, 85.96, 90.09, 90.16, 89.72, 89.6, 89.76),\n",
       " 'no2': (25.88, 26.28, 25.31, 23.84, 22.3, 20.81, 19.38)}"
      ]
     },
     "execution_count": 55,
     "metadata": {},
     "output_type": "execute_result"
    }
   ],
   "source": [
    "pm10, so2, co, o3, no2 = np.dsplit(x, 5)\n",
    "pollutant = {}\n",
    "pollutant['pm10'] = pm10[0][-7:].tolist()\n",
    "pollutant['so2'] = so2[0][-7:].tolist()\n",
    "pollutant['co'] = co[0][-7:].tolist()\n",
    "pollutant['o3'] = o3[0][-7:].tolist()\n",
    "pollutant['no2'] = no2[0][-7:].tolist()\n",
    "for substance, value in pollutant.items():\n",
    "    pollutant[substance] = value[0][0], value[1][0], value[2][0], value[3][0], value[4][0], value[5][0], value[6][0]\n",
    "pollutant"
   ]
  },
  {
   "cell_type": "code",
   "execution_count": 356,
   "id": "ignored-vegetable",
   "metadata": {},
   "outputs": [
    {
     "data": {
      "text/plain": [
       "(1, 14, 6)"
      ]
     },
     "execution_count": 356,
     "metadata": {},
     "output_type": "execute_result"
    }
   ],
   "source": [
    "pm10, so2, co, o3, no2 = np.dsplit(x, 5)\n",
    "pollutant = {}\n",
    "pollutant['pm10'] = pm10[0][-7:].tolist()\n",
    "pollutant['so2'] = so2[0][-7:].tolist()\n",
    "pollutant['co'] = co[0][-7:].tolist()\n",
    "pollutant['o3'] = o3[0][-7:].tolist()\n",
    "pollutant['no2'] = no2[0][-7:].tolist()"
   ]
  },
  {
   "cell_type": "code",
   "execution_count": 122,
   "id": "authentic-partition",
   "metadata": {},
   "outputs": [
    {
     "data": {
      "text/plain": [
       "array([[[0.24157303, 0.29166667, 0.2238806 , 0.54140127, 0.19047619,\n",
       "         0.54140127],\n",
       "        [0.34831461, 0.41666667, 0.41044776, 0.57961783, 0.23809524,\n",
       "         0.57961783]]])"
      ]
     },
     "execution_count": 122,
     "metadata": {},
     "output_type": "execute_result"
    }
   ],
   "source": [
    "z=np.array([[ 43.,  21.,  30., 170.,  12., 170.],\n",
    "            [ 62.,  30.,  55., 182.,  15., 182.],\n",
    "           ])\n",
    "#z=x_scaler.transform(z)\n",
    "z=np.expand_dims(z, axis=0)\n",
    "z=z/inverse\n",
    "z\n",
    "#z_pred = model.predict(z)\n"
   ]
  },
  {
   "cell_type": "code",
   "execution_count": 110,
   "id": "improving-bibliography",
   "metadata": {},
   "outputs": [
    {
     "name": "stdout",
     "output_type": "stream",
     "text": [
      "{\"instances\": \n",
      " [[[0.24157303, 0.29166667, 0.2238806 , 0.54140127, 0.19047619,\n",
      "   0.54140127],\n",
      "  [0.34831461, 0.41666667, 0.41044776, 0.57961783, 0.23809524,\n",
      "   0.57961783]]] \n",
      "}\n"
     ]
    }
   ],
   "source": [
    "print('{\"instances\": \\n',np.array2string(z, separator=', '),'\\n}')"
   ]
  },
  {
   "cell_type": "code",
   "execution_count": 58,
   "id": "worthy-waters",
   "metadata": {},
   "outputs": [
    {
     "data": {
      "text/plain": [
       "array([[0.24157303, 0.29166667, 0.2238806 , 0.54140127, 0.19047619,\n",
       "        0.54140127],\n",
       "       [0.34831461, 0.41666667, 0.41044776, 0.57961783, 0.23809524,\n",
       "        0.57961783],\n",
       "       [0.30337079, 0.30555556, 0.20895522, 0.19745223, 0.17460317,\n",
       "        0.19745223],\n",
       "       [0.24157303, 0.27777778, 0.15671642, 0.23248408, 0.20634921,\n",
       "        0.23248408],\n",
       "       [0.19662921, 0.27777778, 0.18656716, 0.25477707, 0.22222222,\n",
       "        0.25477707],\n",
       "       [0.3258427 , 0.26388889, 0.55970149, 0.27070064, 0.20634921,\n",
       "        0.27070064],\n",
       "       [0.21910112, 0.20833333, 0.2761194 , 0.28025478, 0.14285714,\n",
       "        0.28025478],\n",
       "       [0.17977528, 0.26388889, 0.15671642, 0.28343949, 0.14285714,\n",
       "        0.28343949],\n",
       "       [0.2247191 , 0.26388889, 0.18656716, 0.29299363, 0.20634921,\n",
       "        0.29299363]])"
      ]
     },
     "execution_count": 58,
     "metadata": {},
     "output_type": "execute_result"
    }
   ],
   "source": [
    "x_test_scaled[1:10]"
   ]
  },
  {
   "cell_type": "code",
   "execution_count": 55,
   "id": "arctic-smith",
   "metadata": {
    "scrolled": true
   },
   "outputs": [
    {
     "data": {
      "text/plain": [
       "array([[ 62.,  30.,  55., 182.,  15.],\n",
       "       [ 54.,  22.,  28.,  62.,  11.],\n",
       "       [ 43.,  20.,  21.,  73.,  13.],\n",
       "       [ 35.,  20.,  25.,  80.,  14.],\n",
       "       [ 58.,  19.,  75.,  85.,  13.],\n",
       "       [ 39.,  15.,  37.,  88.,   9.],\n",
       "       [ 32.,  19.,  21.,  89.,   9.],\n",
       "       [ 40.,  19.,  25.,  92.,  13.],\n",
       "       [ 52.,  19.,  27.,  89.,  13.],\n",
       "       [ 54.,  18.,  40.,  84.,  13.]])"
      ]
     },
     "execution_count": 55,
     "metadata": {},
     "output_type": "execute_result"
    }
   ],
   "source": [
    "y_true"
   ]
  },
  {
   "cell_type": "code",
   "execution_count": 54,
   "id": "distinguished-steal",
   "metadata": {},
   "outputs": [
    {
     "data": {
      "text/plain": [
       "array([[[0.24157303, 0.29166667, 0.2238806 , 0.54140127, 0.19047619,\n",
       "         0.54140127],\n",
       "        [0.34831461, 0.41666667, 0.41044776, 0.57961783, 0.23809524,\n",
       "         0.57961783],\n",
       "        [0.30337079, 0.30555556, 0.20895522, 0.19745223, 0.17460317,\n",
       "         0.19745223]]])"
      ]
     },
     "execution_count": 54,
     "metadata": {},
     "output_type": "execute_result"
    }
   ],
   "source": [
    "z=np.array([[[0.24157303, 0.29166667, 0.2238806 , 0.54140127, 0.19047619, 0.54140127],\n",
    "             [0.34831461, 0.41666667, 0.41044776, 0.57961783, 0.23809524, 0.57961783],\n",
    "             [0.30337079, 0.30555556, 0.20895522, 0.19745223, 0.17460317, 0.19745223]]])\n",
    "#z=np.expand_dims(z, axis=0)\n",
    "z"
   ]
  },
  {
   "cell_type": "code",
   "execution_count": 57,
   "id": "monetary-commerce",
   "metadata": {},
   "outputs": [
    {
     "name": "stdout",
     "output_type": "stream",
     "text": [
      "[[[64.96740764]\n",
      "  [50.46944284]\n",
      "  [44.42704025]]]\n",
      "[[[27.75417709]\n",
      "  [21.60859466]\n",
      "  [18.29098535]]]\n",
      "[[[54.03923112]\n",
      "  [44.31462801]\n",
      "  [39.80424863]]]\n",
      "[[[112.19915712]\n",
      "  [ 92.25686717]\n",
      "  [ 87.32832658]]]\n",
      "[[[23.2341249 ]\n",
      "  [18.31854719]\n",
      "  [16.31937531]]]\n"
     ]
    }
   ],
   "source": [
    "z=model.predict(z)\n",
    "z=z*inverse\n",
    "pm10, so2, co, o3, no2 = np.dsplit(z, 5)\n",
    "print(pm10)\n",
    "print(so2)\n",
    "print(co)\n",
    "print(o3)\n",
    "print(no2)"
   ]
  },
  {
   "cell_type": "code",
   "execution_count": 1,
   "id": "indie-bench",
   "metadata": {},
   "outputs": [],
   "source": [
    "y_pred"
   ]
  },
  {
   "cell_type": "code",
   "execution_count": 89,
   "id": "dominican-standing",
   "metadata": {
    "scrolled": true
   },
   "outputs": [
    {
     "data": {
      "text/plain": [
       "array([[ 76.146286 ,  28.619234 ,  52.917454 , 152.63713  ,  23.340473 ],\n",
       "       [ 68.33756  ,  25.100754 ,  44.559853 , 152.32936  ,  17.552528 ],\n",
       "       [ 56.417904 ,  22.368399 ,  37.04921  ,  96.59109  ,  11.9639015],\n",
       "       [ 53.447258 ,  20.564726 ,  33.62974  ,  87.58977  ,  10.856805 ],\n",
       "       [ 50.909435 ,  19.9299   ,  32.62447  ,  87.69547  ,  10.974268 ],\n",
       "       [ 49.60847  ,  17.368273 ,  35.878647 ,  84.78273  ,  10.286073 ],\n",
       "       [ 47.89903  ,  16.216208 ,  37.2325   ,  86.52861  ,   9.9123745],\n",
       "       [ 45.855965 ,  16.807095 ,  35.57951  ,  86.06564  ,   9.482981 ],\n",
       "       [ 46.902546 ,  17.229364 ,  34.472935 ,  88.825294 ,   9.723587 ],\n",
       "       [ 49.48386  ,  17.310919 ,  33.433624 ,  88.937065 ,   9.910923 ]],\n",
       "      dtype=float32)"
      ]
     },
     "execution_count": 89,
     "metadata": {},
     "output_type": "execute_result"
    }
   ],
   "source": [
    "y_pred_rescaled"
   ]
  },
  {
   "cell_type": "code",
   "execution_count": 65,
   "id": "strong-trinidad",
   "metadata": {},
   "outputs": [],
   "source": [
    "error=y_true-y_pred_rescaled"
   ]
  },
  {
   "cell_type": "code",
   "execution_count": 66,
   "id": "affiliated-manhattan",
   "metadata": {},
   "outputs": [
    {
     "data": {
      "text/plain": [
       "array([ 9.80446512,  8.77282145,  7.24068196, 18.02030243, 10.63599659])"
      ]
     },
     "execution_count": 66,
     "metadata": {},
     "output_type": "execute_result"
    }
   ],
   "source": [
    "RMSE=sum((error**2)**0.5)/num_test\n",
    "RMSE"
   ]
  },
  {
   "cell_type": "code",
   "execution_count": 72,
   "id": "intermediate-bahamas",
   "metadata": {},
   "outputs": [
    {
     "data": {
      "text/plain": [
       "array([ 9.80446512,  8.77282145,  7.24068196, 18.02030243, 10.63599659])"
      ]
     },
     "execution_count": 72,
     "metadata": {},
     "output_type": "execute_result"
    }
   ],
   "source": [
    "RMSE=sum((error**2)**0.5)/num_test\n",
    "RMSE"
   ]
  },
  {
   "cell_type": "code",
   "execution_count": 55,
   "id": "surgical-municipality",
   "metadata": {},
   "outputs": [
    {
     "data": {
      "text/plain": [
       "array([178., 126., 134., 314., 148., 314.])"
      ]
     },
     "execution_count": 55,
     "metadata": {},
     "output_type": "execute_result"
    }
   ],
   "source": [
    "inverse= np.max(x_data,axis=0)\n",
    "inverse"
   ]
  },
  {
   "cell_type": "code",
   "execution_count": 165,
   "id": "elegant-syria",
   "metadata": {},
   "outputs": [],
   "source": [
    "#tfjs.converters.save_keras_model(model, '/home/nusa/Desktop/model')"
   ]
  },
  {
   "cell_type": "code",
   "execution_count": 53,
   "id": "fifty-memphis",
   "metadata": {},
   "outputs": [
    {
     "data": {
      "text/plain": [
       "array([178.,  72., 134., 314.,  63., 314.])"
      ]
     },
     "execution_count": 53,
     "metadata": {},
     "output_type": "execute_result"
    }
   ],
   "source": [
    "inverse = np.max(x_train,axis=0)\n",
    "rescale = np.max(y_train,axis=0)\n",
    "inverse"
   ]
  }
 ],
 "metadata": {
  "kernelspec": {
   "display_name": "Python 3",
   "language": "python",
   "name": "python3"
  },
  "language_info": {
   "codemirror_mode": {
    "name": "ipython",
    "version": 3
   },
   "file_extension": ".py",
   "mimetype": "text/x-python",
   "name": "python",
   "nbconvert_exporter": "python",
   "pygments_lexer": "ipython3",
   "version": "3.8.5"
  }
 },
 "nbformat": 4,
 "nbformat_minor": 5
}
