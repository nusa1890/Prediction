{
 "cells": [
  {
   "cell_type": "code",
   "execution_count": 7,
   "id": "unnecessary-handling",
   "metadata": {},
   "outputs": [],
   "source": [
    "import flask\n",
    "import googleapiclient.discovery\n",
    "import numpy as np\n",
    "import pandas as pd\n",
    "import os, json\n",
    "from numpy import array\n",
    "from google.api_core.client_options import ClientOptions\n",
    "from flask import Flask, request, jsonify"
   ]
  },
  {
   "cell_type": "code",
   "execution_count": 8,
   "id": "physical-lobby",
   "metadata": {},
   "outputs": [],
   "source": [
    "df=pd.read_csv('/home/nusa/Documents/ProjectBangkit2021/data/Merged3.1.csv')"
   ]
  },
  {
   "cell_type": "code",
   "execution_count": 9,
   "id": "attractive-popularity",
   "metadata": {},
   "outputs": [
    {
     "name": "stdout",
     "output_type": "stream",
     "text": [
      "<class 'pandas.core.frame.DataFrame'>\n",
      "DatetimeIndex: 4088 entries, 2010-01-01 to 2021-03-31\n",
      "Data columns (total 6 columns):\n",
      " #   Column  Non-Null Count  Dtype  \n",
      "---  ------  --------------  -----  \n",
      " 0   pm10    4088 non-null   int64  \n",
      " 1   so2     4088 non-null   int64  \n",
      " 2   co      4088 non-null   float64\n",
      " 3   o3      4088 non-null   int64  \n",
      " 4   no2     4088 non-null   int64  \n",
      " 5   max     4088 non-null   int64  \n",
      "dtypes: float64(1), int64(5)\n",
      "memory usage: 223.6 KB\n"
     ]
    }
   ],
   "source": [
    "df['tanggal'] = pd.to_datetime(df['tanggal'])\n",
    "df.drop('critical', axis=1, inplace=True)\n",
    "df.drop('categori', axis=1, inplace=True)\n",
    "df.drop('lokasi_spku', axis=1, inplace=True)\n",
    "df.set_index('tanggal', inplace=True)\n",
    "df.info()"
   ]
  },
  {
   "cell_type": "code",
   "execution_count": 20,
   "id": "corrected-madrid",
   "metadata": {},
   "outputs": [
    {
     "data": {
      "text/plain": [
       "array([[[38., 41.,  9., 41., 17., 68.],\n",
       "        [57., 42., 19., 53., 28., 83.],\n",
       "        [62., 49., 13., 63., 33., 91.],\n",
       "        [57., 43., 15., 71., 31., 78.],\n",
       "        [65., 48., 19., 67., 37., 91.],\n",
       "        [59., 42., 15., 55., 30., 76.],\n",
       "        [56., 43., 18., 48., 25., 69.]]])"
      ]
     },
     "execution_count": 20,
     "metadata": {},
     "output_type": "execute_result"
    }
   ],
   "source": [
    "data = df.values[-7:]\n",
    "data = np.expand_dims(data, axis=0)\n",
    "data"
   ]
  },
  {
   "cell_type": "code",
   "execution_count": 3,
   "id": "junior-walter",
   "metadata": {},
   "outputs": [],
   "source": [
    "def predict_json(project, region, model, instances, version=None):\n",
    "    # Create the ML Engine service object.\n",
    "    # To authenticate set the environment variable\n",
    "    os.environ[\"GOOGLE_APPLICATION_CREDENTIALS\"]=\"/home/nusa/Documents/euphoric-fusion-312609-e20f53f87718.json\"\n",
    "\n",
    "    prefix = \"{}-ml\".format(region) if region else \"ml\"\n",
    "    api_endpoint = \"https://{}.googleapis.com\".format(prefix)\n",
    "    client_options = ClientOptions(api_endpoint=api_endpoint)\n",
    "    service = googleapiclient.discovery.build(\n",
    "        'ml', 'v1', client_options=client_options)\n",
    "    name = 'projects/{}/models/{}'.format(project, model)\n",
    "\n",
    "    if version is not None:\n",
    "        name += '/versions/{}'.format(version)\n",
    "\n",
    "    response = service.projects().predict(\n",
    "        name=name,\n",
    "        body={'instances': instances}\n",
    "    ).execute()\n",
    "\n",
    "    if 'error' in response:\n",
    "        raise RuntimeError(response['error'])\n",
    "\n",
    "    return response['predictions']"
   ]
  },
  {
   "cell_type": "code",
   "execution_count": 4,
   "id": "solid-jason",
   "metadata": {},
   "outputs": [],
   "source": [
    "app = flask.Flask(__name__)\n",
    "app.config[\"DEBUG\"] = True"
   ]
  },
  {
   "cell_type": "code",
   "execution_count": 5,
   "id": "harmful-mandate",
   "metadata": {},
   "outputs": [],
   "source": [
    "@app.route('/', methods=[\"GET\"])\n",
    "def index():\n",
    "    project = request.args.get('project')\n",
    "    region = request.args.get('region')\n",
    "    model = request.args.get('model')\n",
    "    instances = data\n",
    "    version = request.args.get('version')\n",
    "    inverse=np.array([178.,  72., 134., 314.,  63.])\n",
    "    x = predict_json(project, region, model, instances, version)\n",
    "    x = x*inverse\n",
    "    x = x.round(2)\n",
    "    pm10, so2, co, o3, no2 = np.dsplit(x, 5)\n",
    "    pollutant = {}\n",
    "    pollutant['pm10'] = pm10[0][1].tolist()\n",
    "    pollutant['so2'] = so2[0][1].tolist()\n",
    "    pollutant['co'] = co[0][1].tolist()\n",
    "    pollutant['o3'] = o3[0][1].tolist()\n",
    "    pollutant['no2'] = no2[0][1].tolist()\n",
    "    pollutant = jsonify(pollutant)\n",
    "    return pollutant"
   ]
  },
  {
   "cell_type": "code",
   "execution_count": 6,
   "id": "ignored-southwest",
   "metadata": {},
   "outputs": [
    {
     "name": "stdout",
     "output_type": "stream",
     "text": [
      " * Serving Flask app '__main__' (lazy loading)\n",
      " * Environment: production\n",
      "\u001b[31m   WARNING: This is a development server. Do not use it in a production deployment.\u001b[0m\n",
      "\u001b[2m   Use a production WSGI server instead.\u001b[0m\n",
      " * Debug mode: on\n"
     ]
    },
    {
     "name": "stderr",
     "output_type": "stream",
     "text": [
      " * Running on http://127.0.0.1:5000/ (Press CTRL+C to quit)\n",
      " * Restarting with stat\n"
     ]
    },
    {
     "ename": "SystemExit",
     "evalue": "1",
     "output_type": "error",
     "traceback": [
      "An exception has occurred, use %tb to see the full traceback.\n",
      "\u001b[0;31mSystemExit\u001b[0m\u001b[0;31m:\u001b[0m 1\n"
     ]
    },
    {
     "name": "stderr",
     "output_type": "stream",
     "text": [
      "/home/nusa/.local/lib/python3.8/site-packages/IPython/core/interactiveshell.py:3445: UserWarning: To exit: use 'exit', 'quit', or Ctrl-D.\n",
      "  warn(\"To exit: use 'exit', 'quit', or Ctrl-D.\", stacklevel=1)\n"
     ]
    }
   ],
   "source": [
    "app.run()"
   ]
  },
  {
   "cell_type": "code",
   "execution_count": null,
   "id": "indonesian-maine",
   "metadata": {},
   "outputs": [],
   "source": []
  }
 ],
 "metadata": {
  "kernelspec": {
   "display_name": "Python 3",
   "language": "python",
   "name": "python3"
  },
  "language_info": {
   "codemirror_mode": {
    "name": "ipython",
    "version": 3
   },
   "file_extension": ".py",
   "mimetype": "text/x-python",
   "name": "python",
   "nbconvert_exporter": "python",
   "pygments_lexer": "ipython3",
   "version": "3.8.5"
  }
 },
 "nbformat": 4,
 "nbformat_minor": 5
}
