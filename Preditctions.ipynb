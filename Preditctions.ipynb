{
 "cells": [
  {
   "cell_type": "code",
   "execution_count": 2,
   "id": "divided-paste",
   "metadata": {},
   "outputs": [
    {
     "data": {
      "text/plain": [
       "'2.4.1'"
      ]
     },
     "execution_count": 2,
     "metadata": {},
     "output_type": "execute_result"
    }
   ],
   "source": [
    "import matplotlib.pyplot as plt\n",
    "import tensorflow as tf\n",
    "import tensorflowjs as tfjs\n",
    "import numpy as np\n",
    "import pandas as pd\n",
    "import os\n",
    "from math import sqrt\n",
    "#tf.compat.v1.disable_eager_execution()\n",
    "from sklearn.preprocessing import MinMaxScaler\n",
    "tf.__version__"
   ]
  },
  {
   "cell_type": "code",
   "execution_count": 3,
   "id": "behind-numbers",
   "metadata": {},
   "outputs": [],
   "source": [
    "df=pd.read_csv('/home/nusa/Documents/ProjectBangkit2021/data/Merged3.1.csv')"
   ]
  },
  {
   "cell_type": "code",
   "execution_count": 4,
   "id": "seasonal-porcelain",
   "metadata": {},
   "outputs": [
    {
     "data": {
      "text/html": [
       "<div>\n",
       "<style scoped>\n",
       "    .dataframe tbody tr th:only-of-type {\n",
       "        vertical-align: middle;\n",
       "    }\n",
       "\n",
       "    .dataframe tbody tr th {\n",
       "        vertical-align: top;\n",
       "    }\n",
       "\n",
       "    .dataframe thead th {\n",
       "        text-align: right;\n",
       "    }\n",
       "</style>\n",
       "<table border=\"1\" class=\"dataframe\">\n",
       "  <thead>\n",
       "    <tr style=\"text-align: right;\">\n",
       "      <th></th>\n",
       "      <th>tanggal</th>\n",
       "      <th>pm10</th>\n",
       "      <th>so2</th>\n",
       "      <th>co</th>\n",
       "      <th>o3</th>\n",
       "      <th>no2</th>\n",
       "      <th>max</th>\n",
       "      <th>critical</th>\n",
       "      <th>categori</th>\n",
       "      <th>lokasi_spku</th>\n",
       "    </tr>\n",
       "  </thead>\n",
       "  <tbody>\n",
       "    <tr>\n",
       "      <th>0</th>\n",
       "      <td>1/1/2010</td>\n",
       "      <td>60</td>\n",
       "      <td>4</td>\n",
       "      <td>73.0</td>\n",
       "      <td>27</td>\n",
       "      <td>14</td>\n",
       "      <td>73</td>\n",
       "      <td>CO</td>\n",
       "      <td>SEDANG</td>\n",
       "      <td>JAKARTA</td>\n",
       "    </tr>\n",
       "    <tr>\n",
       "      <th>1</th>\n",
       "      <td>1/2/2010</td>\n",
       "      <td>32</td>\n",
       "      <td>2</td>\n",
       "      <td>16.0</td>\n",
       "      <td>33</td>\n",
       "      <td>9</td>\n",
       "      <td>33</td>\n",
       "      <td>O3</td>\n",
       "      <td>BAIK</td>\n",
       "      <td>JAKARTA</td>\n",
       "    </tr>\n",
       "    <tr>\n",
       "      <th>2</th>\n",
       "      <td>1/3/2010</td>\n",
       "      <td>27</td>\n",
       "      <td>2</td>\n",
       "      <td>19.0</td>\n",
       "      <td>20</td>\n",
       "      <td>9</td>\n",
       "      <td>27</td>\n",
       "      <td>PM10</td>\n",
       "      <td>BAIK</td>\n",
       "      <td>JAKARTA</td>\n",
       "    </tr>\n",
       "    <tr>\n",
       "      <th>3</th>\n",
       "      <td>1/4/2010</td>\n",
       "      <td>22</td>\n",
       "      <td>2</td>\n",
       "      <td>16.0</td>\n",
       "      <td>15</td>\n",
       "      <td>6</td>\n",
       "      <td>22</td>\n",
       "      <td>PM10</td>\n",
       "      <td>BAIK</td>\n",
       "      <td>JAKARTA</td>\n",
       "    </tr>\n",
       "    <tr>\n",
       "      <th>4</th>\n",
       "      <td>1/5/2010</td>\n",
       "      <td>25</td>\n",
       "      <td>2</td>\n",
       "      <td>17.0</td>\n",
       "      <td>15</td>\n",
       "      <td>8</td>\n",
       "      <td>25</td>\n",
       "      <td>PM10</td>\n",
       "      <td>BAIK</td>\n",
       "      <td>JAKARTA</td>\n",
       "    </tr>\n",
       "    <tr>\n",
       "      <th>...</th>\n",
       "      <td>...</td>\n",
       "      <td>...</td>\n",
       "      <td>...</td>\n",
       "      <td>...</td>\n",
       "      <td>...</td>\n",
       "      <td>...</td>\n",
       "      <td>...</td>\n",
       "      <td>...</td>\n",
       "      <td>...</td>\n",
       "      <td>...</td>\n",
       "    </tr>\n",
       "    <tr>\n",
       "      <th>4083</th>\n",
       "      <td>3/27/2021</td>\n",
       "      <td>62</td>\n",
       "      <td>49</td>\n",
       "      <td>13.0</td>\n",
       "      <td>63</td>\n",
       "      <td>33</td>\n",
       "      <td>91</td>\n",
       "      <td>PM25</td>\n",
       "      <td>SEDANG</td>\n",
       "      <td>JAKARTA</td>\n",
       "    </tr>\n",
       "    <tr>\n",
       "      <th>4084</th>\n",
       "      <td>3/28/2021</td>\n",
       "      <td>57</td>\n",
       "      <td>43</td>\n",
       "      <td>15.0</td>\n",
       "      <td>71</td>\n",
       "      <td>31</td>\n",
       "      <td>78</td>\n",
       "      <td>PM25</td>\n",
       "      <td>SEDANG</td>\n",
       "      <td>JAKARTA</td>\n",
       "    </tr>\n",
       "    <tr>\n",
       "      <th>4085</th>\n",
       "      <td>3/29/2021</td>\n",
       "      <td>65</td>\n",
       "      <td>48</td>\n",
       "      <td>19.0</td>\n",
       "      <td>67</td>\n",
       "      <td>37</td>\n",
       "      <td>91</td>\n",
       "      <td>PM25</td>\n",
       "      <td>SEDANG</td>\n",
       "      <td>JAKARTA</td>\n",
       "    </tr>\n",
       "    <tr>\n",
       "      <th>4086</th>\n",
       "      <td>3/30/2021</td>\n",
       "      <td>59</td>\n",
       "      <td>42</td>\n",
       "      <td>15.0</td>\n",
       "      <td>55</td>\n",
       "      <td>30</td>\n",
       "      <td>76</td>\n",
       "      <td>PM25</td>\n",
       "      <td>SEDANG</td>\n",
       "      <td>JAKARTA</td>\n",
       "    </tr>\n",
       "    <tr>\n",
       "      <th>4087</th>\n",
       "      <td>3/31/2021</td>\n",
       "      <td>56</td>\n",
       "      <td>43</td>\n",
       "      <td>18.0</td>\n",
       "      <td>48</td>\n",
       "      <td>25</td>\n",
       "      <td>69</td>\n",
       "      <td>PM25</td>\n",
       "      <td>SEDANG</td>\n",
       "      <td>JAKARTA</td>\n",
       "    </tr>\n",
       "  </tbody>\n",
       "</table>\n",
       "<p>4088 rows × 10 columns</p>\n",
       "</div>"
      ],
      "text/plain": [
       "        tanggal  pm10  so2    co  o3  no2  max critical categori lokasi_spku\n",
       "0      1/1/2010    60    4  73.0  27   14   73       CO   SEDANG     JAKARTA\n",
       "1      1/2/2010    32    2  16.0  33    9   33       O3     BAIK     JAKARTA\n",
       "2      1/3/2010    27    2  19.0  20    9   27     PM10     BAIK     JAKARTA\n",
       "3      1/4/2010    22    2  16.0  15    6   22     PM10     BAIK     JAKARTA\n",
       "4      1/5/2010    25    2  17.0  15    8   25     PM10     BAIK     JAKARTA\n",
       "...         ...   ...  ...   ...  ..  ...  ...      ...      ...         ...\n",
       "4083  3/27/2021    62   49  13.0  63   33   91     PM25   SEDANG     JAKARTA\n",
       "4084  3/28/2021    57   43  15.0  71   31   78     PM25   SEDANG     JAKARTA\n",
       "4085  3/29/2021    65   48  19.0  67   37   91     PM25   SEDANG     JAKARTA\n",
       "4086  3/30/2021    59   42  15.0  55   30   76     PM25   SEDANG     JAKARTA\n",
       "4087  3/31/2021    56   43  18.0  48   25   69     PM25   SEDANG     JAKARTA\n",
       "\n",
       "[4088 rows x 10 columns]"
      ]
     },
     "execution_count": 4,
     "metadata": {},
     "output_type": "execute_result"
    }
   ],
   "source": [
    "df"
   ]
  },
  {
   "cell_type": "code",
   "execution_count": 5,
   "id": "virtual-stock",
   "metadata": {},
   "outputs": [
    {
     "data": {
      "text/plain": [
       "(4088, 10)"
      ]
     },
     "execution_count": 5,
     "metadata": {},
     "output_type": "execute_result"
    }
   ],
   "source": [
    "df.values.shape"
   ]
  },
  {
   "cell_type": "code",
   "execution_count": 6,
   "id": "fabulous-conviction",
   "metadata": {},
   "outputs": [],
   "source": [
    "df.drop('critical', axis=1, inplace=True)\n",
    "df.drop('categori', axis=1, inplace=True)\n",
    "df.drop('lokasi_spku', axis=1, inplace=True)"
   ]
  },
  {
   "cell_type": "code",
   "execution_count": 7,
   "id": "quick-portal",
   "metadata": {},
   "outputs": [
    {
     "data": {
      "text/plain": [
       "(4088, 7)"
      ]
     },
     "execution_count": 7,
     "metadata": {},
     "output_type": "execute_result"
    }
   ],
   "source": [
    "df.values.shape"
   ]
  },
  {
   "cell_type": "code",
   "execution_count": 8,
   "id": "nervous-bibliography",
   "metadata": {},
   "outputs": [
    {
     "data": {
      "text/html": [
       "<div>\n",
       "<style scoped>\n",
       "    .dataframe tbody tr th:only-of-type {\n",
       "        vertical-align: middle;\n",
       "    }\n",
       "\n",
       "    .dataframe tbody tr th {\n",
       "        vertical-align: top;\n",
       "    }\n",
       "\n",
       "    .dataframe thead th {\n",
       "        text-align: right;\n",
       "    }\n",
       "</style>\n",
       "<table border=\"1\" class=\"dataframe\">\n",
       "  <thead>\n",
       "    <tr style=\"text-align: right;\">\n",
       "      <th></th>\n",
       "      <th>tanggal</th>\n",
       "      <th>pm10</th>\n",
       "      <th>so2</th>\n",
       "      <th>co</th>\n",
       "      <th>o3</th>\n",
       "      <th>no2</th>\n",
       "      <th>max</th>\n",
       "    </tr>\n",
       "  </thead>\n",
       "  <tbody>\n",
       "    <tr>\n",
       "      <th>0</th>\n",
       "      <td>1/1/2010</td>\n",
       "      <td>60</td>\n",
       "      <td>4</td>\n",
       "      <td>73.0</td>\n",
       "      <td>27</td>\n",
       "      <td>14</td>\n",
       "      <td>73</td>\n",
       "    </tr>\n",
       "  </tbody>\n",
       "</table>\n",
       "</div>"
      ],
      "text/plain": [
       "    tanggal  pm10  so2    co  o3  no2  max\n",
       "0  1/1/2010    60    4  73.0  27   14   73"
      ]
     },
     "execution_count": 8,
     "metadata": {},
     "output_type": "execute_result"
    }
   ],
   "source": [
    "df.head(1)"
   ]
  },
  {
   "cell_type": "code",
   "execution_count": 9,
   "id": "infectious-dairy",
   "metadata": {},
   "outputs": [
    {
     "name": "stdout",
     "output_type": "stream",
     "text": [
      "<class 'pandas.core.frame.DataFrame'>\n",
      "DatetimeIndex: 4088 entries, 2010-01-01 to 2021-03-31\n",
      "Data columns (total 6 columns):\n",
      " #   Column  Non-Null Count  Dtype  \n",
      "---  ------  --------------  -----  \n",
      " 0   pm10    4088 non-null   int64  \n",
      " 1   so2     4088 non-null   int64  \n",
      " 2   co      4088 non-null   float64\n",
      " 3   o3      4088 non-null   int64  \n",
      " 4   no2     4088 non-null   int64  \n",
      " 5   max     4088 non-null   int64  \n",
      "dtypes: float64(1), int64(5)\n",
      "memory usage: 223.6 KB\n"
     ]
    }
   ],
   "source": [
    "df['tanggal'] = pd.to_datetime(df['tanggal'])\n",
    "df.set_index('tanggal', inplace=True)\n",
    "df.info()"
   ]
  },
  {
   "cell_type": "code",
   "execution_count": 10,
   "id": "junior-neutral",
   "metadata": {},
   "outputs": [
    {
     "data": {
      "text/html": [
       "<div>\n",
       "<style scoped>\n",
       "    .dataframe tbody tr th:only-of-type {\n",
       "        vertical-align: middle;\n",
       "    }\n",
       "\n",
       "    .dataframe tbody tr th {\n",
       "        vertical-align: top;\n",
       "    }\n",
       "\n",
       "    .dataframe thead th {\n",
       "        text-align: right;\n",
       "    }\n",
       "</style>\n",
       "<table border=\"1\" class=\"dataframe\">\n",
       "  <thead>\n",
       "    <tr style=\"text-align: right;\">\n",
       "      <th></th>\n",
       "      <th>pm10</th>\n",
       "      <th>so2</th>\n",
       "      <th>co</th>\n",
       "      <th>o3</th>\n",
       "      <th>no2</th>\n",
       "      <th>max</th>\n",
       "    </tr>\n",
       "    <tr>\n",
       "      <th>tanggal</th>\n",
       "      <th></th>\n",
       "      <th></th>\n",
       "      <th></th>\n",
       "      <th></th>\n",
       "      <th></th>\n",
       "      <th></th>\n",
       "    </tr>\n",
       "  </thead>\n",
       "  <tbody>\n",
       "    <tr>\n",
       "      <th>2010-01-01</th>\n",
       "      <td>60</td>\n",
       "      <td>4</td>\n",
       "      <td>73.0</td>\n",
       "      <td>27</td>\n",
       "      <td>14</td>\n",
       "      <td>73</td>\n",
       "    </tr>\n",
       "    <tr>\n",
       "      <th>2010-01-02</th>\n",
       "      <td>32</td>\n",
       "      <td>2</td>\n",
       "      <td>16.0</td>\n",
       "      <td>33</td>\n",
       "      <td>9</td>\n",
       "      <td>33</td>\n",
       "    </tr>\n",
       "    <tr>\n",
       "      <th>2010-01-03</th>\n",
       "      <td>27</td>\n",
       "      <td>2</td>\n",
       "      <td>19.0</td>\n",
       "      <td>20</td>\n",
       "      <td>9</td>\n",
       "      <td>27</td>\n",
       "    </tr>\n",
       "    <tr>\n",
       "      <th>2010-01-04</th>\n",
       "      <td>22</td>\n",
       "      <td>2</td>\n",
       "      <td>16.0</td>\n",
       "      <td>15</td>\n",
       "      <td>6</td>\n",
       "      <td>22</td>\n",
       "    </tr>\n",
       "    <tr>\n",
       "      <th>2010-01-05</th>\n",
       "      <td>25</td>\n",
       "      <td>2</td>\n",
       "      <td>17.0</td>\n",
       "      <td>15</td>\n",
       "      <td>8</td>\n",
       "      <td>25</td>\n",
       "    </tr>\n",
       "  </tbody>\n",
       "</table>\n",
       "</div>"
      ],
      "text/plain": [
       "            pm10  so2    co  o3  no2  max\n",
       "tanggal                                  \n",
       "2010-01-01    60    4  73.0  27   14   73\n",
       "2010-01-02    32    2  16.0  33    9   33\n",
       "2010-01-03    27    2  19.0  20    9   27\n",
       "2010-01-04    22    2  16.0  15    6   22\n",
       "2010-01-05    25    2  17.0  15    8   25"
      ]
     },
     "execution_count": 10,
     "metadata": {},
     "output_type": "execute_result"
    }
   ],
   "source": [
    "df.head()"
   ]
  },
  {
   "cell_type": "code",
   "execution_count": 11,
   "id": "optimum-explanation",
   "metadata": {},
   "outputs": [
    {
     "data": {
      "image/png": "[encoded data removed]",
      "text/plain": [
       "<Figure size 432x288 with 1 Axes>"
      ]
     },
     "metadata": {
      "needs_background": "light"
     },
     "output_type": "display_data"
    }
   ],
   "source": [
    "df['pm10'].plot();"
   ]
  },
  {
   "cell_type": "code",
   "execution_count": 12,
   "id": "western-wallet",
   "metadata": {},
   "outputs": [],
   "source": [
    "target_names = ['pm10', 'so2', 'co', 'o3', 'no2']"
   ]
  },
  {
   "cell_type": "code",
   "execution_count": 13,
   "id": "brutal-shade",
   "metadata": {},
   "outputs": [],
   "source": [
    "shift_steps = 1"
   ]
  },
  {
   "cell_type": "code",
   "execution_count": 14,
   "id": "herbal-tucson",
   "metadata": {},
   "outputs": [],
   "source": [
    "df_targets = df[target_names].shift(-shift_steps)"
   ]
  },
  {
   "cell_type": "code",
   "execution_count": 15,
   "id": "described-indication",
   "metadata": {},
   "outputs": [
    {
     "data": {
      "text/html": [
       "<div>\n",
       "<style scoped>\n",
       "    .dataframe tbody tr th:only-of-type {\n",
       "        vertical-align: middle;\n",
       "    }\n",
       "\n",
       "    .dataframe tbody tr th {\n",
       "        vertical-align: top;\n",
       "    }\n",
       "\n",
       "    .dataframe thead th {\n",
       "        text-align: right;\n",
       "    }\n",
       "</style>\n",
       "<table border=\"1\" class=\"dataframe\">\n",
       "  <thead>\n",
       "    <tr style=\"text-align: right;\">\n",
       "      <th></th>\n",
       "      <th>pm10</th>\n",
       "      <th>so2</th>\n",
       "      <th>co</th>\n",
       "      <th>o3</th>\n",
       "      <th>no2</th>\n",
       "    </tr>\n",
       "    <tr>\n",
       "      <th>tanggal</th>\n",
       "      <th></th>\n",
       "      <th></th>\n",
       "      <th></th>\n",
       "      <th></th>\n",
       "      <th></th>\n",
       "    </tr>\n",
       "  </thead>\n",
       "  <tbody>\n",
       "    <tr>\n",
       "      <th>2010-01-01</th>\n",
       "      <td>60</td>\n",
       "      <td>4</td>\n",
       "      <td>73.0</td>\n",
       "      <td>27</td>\n",
       "      <td>14</td>\n",
       "    </tr>\n",
       "    <tr>\n",
       "      <th>2010-01-02</th>\n",
       "      <td>32</td>\n",
       "      <td>2</td>\n",
       "      <td>16.0</td>\n",
       "      <td>33</td>\n",
       "      <td>9</td>\n",
       "    </tr>\n",
       "    <tr>\n",
       "      <th>2010-01-03</th>\n",
       "      <td>27</td>\n",
       "      <td>2</td>\n",
       "      <td>19.0</td>\n",
       "      <td>20</td>\n",
       "      <td>9</td>\n",
       "    </tr>\n",
       "    <tr>\n",
       "      <th>2010-01-04</th>\n",
       "      <td>22</td>\n",
       "      <td>2</td>\n",
       "      <td>16.0</td>\n",
       "      <td>15</td>\n",
       "      <td>6</td>\n",
       "    </tr>\n",
       "    <tr>\n",
       "      <th>2010-01-05</th>\n",
       "      <td>25</td>\n",
       "      <td>2</td>\n",
       "      <td>17.0</td>\n",
       "      <td>15</td>\n",
       "      <td>8</td>\n",
       "    </tr>\n",
       "    <tr>\n",
       "      <th>2010-01-06</th>\n",
       "      <td>30</td>\n",
       "      <td>3</td>\n",
       "      <td>22.0</td>\n",
       "      <td>19</td>\n",
       "      <td>11</td>\n",
       "    </tr>\n",
       "  </tbody>\n",
       "</table>\n",
       "</div>"
      ],
      "text/plain": [
       "            pm10  so2    co  o3  no2\n",
       "tanggal                             \n",
       "2010-01-01    60    4  73.0  27   14\n",
       "2010-01-02    32    2  16.0  33    9\n",
       "2010-01-03    27    2  19.0  20    9\n",
       "2010-01-04    22    2  16.0  15    6\n",
       "2010-01-05    25    2  17.0  15    8\n",
       "2010-01-06    30    3  22.0  19   11"
      ]
     },
     "execution_count": 15,
     "metadata": {},
     "output_type": "execute_result"
    }
   ],
   "source": [
    "df[target_names].head(shift_steps + 5)"
   ]
  },
  {
   "cell_type": "code",
   "execution_count": 16,
   "id": "extended-phenomenon",
   "metadata": {},
   "outputs": [
    {
     "data": {
      "text/html": [
       "<div>\n",
       "<style scoped>\n",
       "    .dataframe tbody tr th:only-of-type {\n",
       "        vertical-align: middle;\n",
       "    }\n",
       "\n",
       "    .dataframe tbody tr th {\n",
       "        vertical-align: top;\n",
       "    }\n",
       "\n",
       "    .dataframe thead th {\n",
       "        text-align: right;\n",
       "    }\n",
       "</style>\n",
       "<table border=\"1\" class=\"dataframe\">\n",
       "  <thead>\n",
       "    <tr style=\"text-align: right;\">\n",
       "      <th></th>\n",
       "      <th>pm10</th>\n",
       "      <th>so2</th>\n",
       "      <th>co</th>\n",
       "      <th>o3</th>\n",
       "      <th>no2</th>\n",
       "    </tr>\n",
       "    <tr>\n",
       "      <th>tanggal</th>\n",
       "      <th></th>\n",
       "      <th></th>\n",
       "      <th></th>\n",
       "      <th></th>\n",
       "      <th></th>\n",
       "    </tr>\n",
       "  </thead>\n",
       "  <tbody>\n",
       "    <tr>\n",
       "      <th>2010-01-01</th>\n",
       "      <td>32.0</td>\n",
       "      <td>2.0</td>\n",
       "      <td>16.0</td>\n",
       "      <td>33.0</td>\n",
       "      <td>9.0</td>\n",
       "    </tr>\n",
       "    <tr>\n",
       "      <th>2010-01-02</th>\n",
       "      <td>27.0</td>\n",
       "      <td>2.0</td>\n",
       "      <td>19.0</td>\n",
       "      <td>20.0</td>\n",
       "      <td>9.0</td>\n",
       "    </tr>\n",
       "    <tr>\n",
       "      <th>2010-01-03</th>\n",
       "      <td>22.0</td>\n",
       "      <td>2.0</td>\n",
       "      <td>16.0</td>\n",
       "      <td>15.0</td>\n",
       "      <td>6.0</td>\n",
       "    </tr>\n",
       "    <tr>\n",
       "      <th>2010-01-04</th>\n",
       "      <td>25.0</td>\n",
       "      <td>2.0</td>\n",
       "      <td>17.0</td>\n",
       "      <td>15.0</td>\n",
       "      <td>8.0</td>\n",
       "    </tr>\n",
       "    <tr>\n",
       "      <th>2010-01-05</th>\n",
       "      <td>30.0</td>\n",
       "      <td>3.0</td>\n",
       "      <td>22.0</td>\n",
       "      <td>19.0</td>\n",
       "      <td>11.0</td>\n",
       "    </tr>\n",
       "  </tbody>\n",
       "</table>\n",
       "</div>"
      ],
      "text/plain": [
       "            pm10  so2    co    o3   no2\n",
       "tanggal                                \n",
       "2010-01-01  32.0  2.0  16.0  33.0   9.0\n",
       "2010-01-02  27.0  2.0  19.0  20.0   9.0\n",
       "2010-01-03  22.0  2.0  16.0  15.0   6.0\n",
       "2010-01-04  25.0  2.0  17.0  15.0   8.0\n",
       "2010-01-05  30.0  3.0  22.0  19.0  11.0"
      ]
     },
     "execution_count": 16,
     "metadata": {},
     "output_type": "execute_result"
    }
   ],
   "source": [
    "df_targets.head(5)"
   ]
  },
  {
   "cell_type": "code",
   "execution_count": 17,
   "id": "chronic-telescope",
   "metadata": {},
   "outputs": [
    {
     "data": {
      "text/html": [
       "<div>\n",
       "<style scoped>\n",
       "    .dataframe tbody tr th:only-of-type {\n",
       "        vertical-align: middle;\n",
       "    }\n",
       "\n",
       "    .dataframe tbody tr th {\n",
       "        vertical-align: top;\n",
       "    }\n",
       "\n",
       "    .dataframe thead th {\n",
       "        text-align: right;\n",
       "    }\n",
       "</style>\n",
       "<table border=\"1\" class=\"dataframe\">\n",
       "  <thead>\n",
       "    <tr style=\"text-align: right;\">\n",
       "      <th></th>\n",
       "      <th>pm10</th>\n",
       "      <th>so2</th>\n",
       "      <th>co</th>\n",
       "      <th>o3</th>\n",
       "      <th>no2</th>\n",
       "    </tr>\n",
       "    <tr>\n",
       "      <th>tanggal</th>\n",
       "      <th></th>\n",
       "      <th></th>\n",
       "      <th></th>\n",
       "      <th></th>\n",
       "      <th></th>\n",
       "    </tr>\n",
       "  </thead>\n",
       "  <tbody>\n",
       "    <tr>\n",
       "      <th>2021-03-27</th>\n",
       "      <td>57.0</td>\n",
       "      <td>43.0</td>\n",
       "      <td>15.0</td>\n",
       "      <td>71.0</td>\n",
       "      <td>31.0</td>\n",
       "    </tr>\n",
       "    <tr>\n",
       "      <th>2021-03-28</th>\n",
       "      <td>65.0</td>\n",
       "      <td>48.0</td>\n",
       "      <td>19.0</td>\n",
       "      <td>67.0</td>\n",
       "      <td>37.0</td>\n",
       "    </tr>\n",
       "    <tr>\n",
       "      <th>2021-03-29</th>\n",
       "      <td>59.0</td>\n",
       "      <td>42.0</td>\n",
       "      <td>15.0</td>\n",
       "      <td>55.0</td>\n",
       "      <td>30.0</td>\n",
       "    </tr>\n",
       "    <tr>\n",
       "      <th>2021-03-30</th>\n",
       "      <td>56.0</td>\n",
       "      <td>43.0</td>\n",
       "      <td>18.0</td>\n",
       "      <td>48.0</td>\n",
       "      <td>25.0</td>\n",
       "    </tr>\n",
       "    <tr>\n",
       "      <th>2021-03-31</th>\n",
       "      <td>NaN</td>\n",
       "      <td>NaN</td>\n",
       "      <td>NaN</td>\n",
       "      <td>NaN</td>\n",
       "      <td>NaN</td>\n",
       "    </tr>\n",
       "  </tbody>\n",
       "</table>\n",
       "</div>"
      ],
      "text/plain": [
       "            pm10   so2    co    o3   no2\n",
       "tanggal                                 \n",
       "2021-03-27  57.0  43.0  15.0  71.0  31.0\n",
       "2021-03-28  65.0  48.0  19.0  67.0  37.0\n",
       "2021-03-29  59.0  42.0  15.0  55.0  30.0\n",
       "2021-03-30  56.0  43.0  18.0  48.0  25.0\n",
       "2021-03-31   NaN   NaN   NaN   NaN   NaN"
      ]
     },
     "execution_count": 17,
     "metadata": {},
     "output_type": "execute_result"
    }
   ],
   "source": [
    "df_targets.tail()"
   ]
  },
  {
   "cell_type": "code",
   "execution_count": 18,
   "id": "straight-murray",
   "metadata": {},
   "outputs": [],
   "source": [
    "x_data = df.values[0:-shift_steps]"
   ]
  },
  {
   "cell_type": "code",
   "execution_count": 19,
   "id": "incredible-fourth",
   "metadata": {},
   "outputs": [
    {
     "name": "stdout",
     "output_type": "stream",
     "text": [
      "<class 'numpy.ndarray'>\n",
      "Shape: (4087, 6)\n"
     ]
    }
   ],
   "source": [
    "print(type(x_data))\n",
    "print(\"Shape:\", x_data.shape)"
   ]
  },
  {
   "cell_type": "code",
   "execution_count": 20,
   "id": "caroline-elite",
   "metadata": {},
   "outputs": [],
   "source": [
    "y_data = df_targets.values[:-shift_steps]"
   ]
  },
  {
   "cell_type": "code",
   "execution_count": 21,
   "id": "formal-elimination",
   "metadata": {},
   "outputs": [
    {
     "name": "stdout",
     "output_type": "stream",
     "text": [
      "<class 'numpy.ndarray'>\n",
      "Shape: (4087, 5)\n"
     ]
    }
   ],
   "source": [
    "print(type(y_data))\n",
    "print(\"Shape:\", y_data.shape)"
   ]
  },
  {
   "cell_type": "code",
   "execution_count": 22,
   "id": "provincial-corps",
   "metadata": {},
   "outputs": [
    {
     "data": {
      "text/plain": [
       "4087"
      ]
     },
     "execution_count": 22,
     "metadata": {},
     "output_type": "execute_result"
    }
   ],
   "source": [
    "num_data = len(x_data)\n",
    "num_data"
   ]
  },
  {
   "cell_type": "code",
   "execution_count": 23,
   "id": "processed-pottery",
   "metadata": {},
   "outputs": [],
   "source": [
    "train_split = 0.9"
   ]
  },
  {
   "cell_type": "code",
   "execution_count": 24,
   "id": "hired-vienna",
   "metadata": {},
   "outputs": [
    {
     "data": {
      "text/plain": [
       "3678"
      ]
     },
     "execution_count": 24,
     "metadata": {},
     "output_type": "execute_result"
    }
   ],
   "source": [
    "num_train = int(train_split * num_data)\n",
    "num_train"
   ]
  },
  {
   "cell_type": "code",
   "execution_count": 25,
   "id": "crucial-romance",
   "metadata": {},
   "outputs": [
    {
     "data": {
      "text/plain": [
       "409"
      ]
     },
     "execution_count": 25,
     "metadata": {},
     "output_type": "execute_result"
    }
   ],
   "source": [
    "num_test = num_data - num_train\n",
    "num_test"
   ]
  },
  {
   "cell_type": "code",
   "execution_count": 26,
   "id": "removable-salmon",
   "metadata": {},
   "outputs": [
    {
     "data": {
      "text/plain": [
       "4087"
      ]
     },
     "execution_count": 26,
     "metadata": {},
     "output_type": "execute_result"
    }
   ],
   "source": [
    "x_train = x_data[0:num_train]\n",
    "x_test = x_data[num_train:]\n",
    "len(x_train) + len(x_test)"
   ]
  },
  {
   "cell_type": "code",
   "execution_count": 27,
   "id": "stunning-driving",
   "metadata": {},
   "outputs": [
    {
     "data": {
      "text/plain": [
       "4087"
      ]
     },
     "execution_count": 27,
     "metadata": {},
     "output_type": "execute_result"
    }
   ],
   "source": [
    "y_train = y_data[0:num_train]\n",
    "y_test = y_data[num_train:]\n",
    "len(y_train) + len(y_test)"
   ]
  },
  {
   "cell_type": "code",
   "execution_count": 28,
   "id": "complicated-deposit",
   "metadata": {},
   "outputs": [
    {
     "data": {
      "text/plain": [
       "6"
      ]
     },
     "execution_count": 28,
     "metadata": {},
     "output_type": "execute_result"
    }
   ],
   "source": [
    "num_x_signals = x_data.shape[1]\n",
    "num_x_signals"
   ]
  },
  {
   "cell_type": "code",
   "execution_count": 29,
   "id": "apparent-least",
   "metadata": {},
   "outputs": [
    {
     "data": {
      "text/plain": [
       "5"
      ]
     },
     "execution_count": 29,
     "metadata": {},
     "output_type": "execute_result"
    }
   ],
   "source": [
    "num_y_signals = y_data.shape[1]\n",
    "num_y_signals"
   ]
  },
  {
   "cell_type": "code",
   "execution_count": 30,
   "id": "favorite-hughes",
   "metadata": {},
   "outputs": [
    {
     "name": "stdout",
     "output_type": "stream",
     "text": [
      "Min: 0.0\n",
      "Max: 314.0\n"
     ]
    }
   ],
   "source": [
    "print(\"Min:\", np.min(x_train))\n",
    "print(\"Max:\", np.max(x_train))"
   ]
  },
  {
   "cell_type": "code",
   "execution_count": 31,
   "id": "adequate-firmware",
   "metadata": {},
   "outputs": [],
   "source": [
    "x_scaler = MinMaxScaler()"
   ]
  },
  {
   "cell_type": "code",
   "execution_count": 32,
   "id": "broad-massachusetts",
   "metadata": {},
   "outputs": [],
   "source": [
    "x_train_scaled = x_scaler.fit_transform(x_train)"
   ]
  },
  {
   "cell_type": "code",
   "execution_count": 33,
   "id": "healthy-frontier",
   "metadata": {},
   "outputs": [
    {
     "name": "stdout",
     "output_type": "stream",
     "text": [
      "Min: 0.0\n",
      "Max: 1.0\n"
     ]
    }
   ],
   "source": [
    "print(\"Min:\", np.min(x_train_scaled))\n",
    "print(\"Max:\", np.max(x_train_scaled))"
   ]
  },
  {
   "cell_type": "code",
   "execution_count": 34,
   "id": "informed-republic",
   "metadata": {},
   "outputs": [],
   "source": [
    "x_test_scaled = x_scaler.transform(x_test)"
   ]
  },
  {
   "cell_type": "code",
   "execution_count": 35,
   "id": "future-mining",
   "metadata": {},
   "outputs": [],
   "source": [
    "y_scaler = MinMaxScaler()\n",
    "y_train_scaled = y_scaler.fit_transform(y_train)\n",
    "y_test_scaled = y_scaler.transform(y_test)"
   ]
  },
  {
   "cell_type": "code",
   "execution_count": 36,
   "id": "nasty-remark",
   "metadata": {},
   "outputs": [
    {
     "name": "stdout",
     "output_type": "stream",
     "text": [
      "(3678, 6)\n",
      "(3678, 5)\n"
     ]
    }
   ],
   "source": [
    "print(x_train_scaled.shape)\n",
    "print(y_train_scaled.shape)"
   ]
  },
  {
   "cell_type": "code",
   "execution_count": 37,
   "id": "athletic-indianapolis",
   "metadata": {},
   "outputs": [],
   "source": [
    "def batch_generator(batch_size, sequence_length):\n",
    "    \"\"\"\n",
    "    Generator function for creating random batches of training-data.\n",
    "    \"\"\"\n",
    "\n",
    "    while True:\n",
    "        x_shape = (batch_size, sequence_length, num_x_signals)\n",
    "        x_batch = np.zeros(shape=x_shape, dtype=np.float16)\n",
    "\n",
    "        y_shape = (batch_size, sequence_length, num_y_signals)\n",
    "        y_batch = np.zeros(shape=y_shape, dtype=np.float16)\n",
    "\n",
    "        for i in range(batch_size):\n",
    "            idx = np.random.randint(num_train - sequence_length)\n",
    "            \n",
    "            x_batch[i] = x_train_scaled[idx:idx+sequence_length]\n",
    "            y_batch[i] = y_train_scaled[idx:idx+sequence_length]\n",
    "        \n",
    "        yield (x_batch, y_batch)"
   ]
  },
  {
   "cell_type": "code",
   "execution_count": 38,
   "id": "three-torture",
   "metadata": {},
   "outputs": [],
   "source": [
    "batch_size = 128"
   ]
  },
  {
   "cell_type": "code",
   "execution_count": 39,
   "id": "informational-services",
   "metadata": {},
   "outputs": [],
   "source": [
    "sequence_length = 366"
   ]
  },
  {
   "cell_type": "code",
   "execution_count": 40,
   "id": "resident-struggle",
   "metadata": {},
   "outputs": [],
   "source": [
    "generator = batch_generator(batch_size=batch_size,\n",
    "                            sequence_length=sequence_length)"
   ]
  },
  {
   "cell_type": "code",
   "execution_count": 41,
   "id": "subject-prefix",
   "metadata": {},
   "outputs": [],
   "source": [
    "x_batch, y_batch = next(generator)"
   ]
  },
  {
   "cell_type": "code",
   "execution_count": 42,
   "id": "favorite-liver",
   "metadata": {},
   "outputs": [
    {
     "name": "stdout",
     "output_type": "stream",
     "text": [
      "(128, 366, 6)\n",
      "(128, 366, 5)\n"
     ]
    }
   ],
   "source": [
    "print(x_batch.shape)\n",
    "print(y_batch.shape)"
   ]
  },
  {
   "cell_type": "code",
   "execution_count": 43,
   "id": "gorgeous-support",
   "metadata": {},
   "outputs": [
    {
     "data": {
      "text/plain": [
       "[<matplotlib.lines.Line2D at 0x7f7e4c672400>]"
      ]
     },
     "execution_count": 43,
     "metadata": {},
     "output_type": "execute_result"
    },
    {
     "data": {
      "image/png": "[encoded data removed]",
      "text/plain": [
       "<Figure size 432x288 with 1 Axes>"
      ]
     },
     "metadata": {
      "needs_background": "light"
     },
     "output_type": "display_data"
    }
   ],
   "source": [
    "batch = 0\n",
    "signal = 0\n",
    "seq = x_batch[batch, :, signal]\n",
    "plt.plot(seq)"
   ]
  },
  {
   "cell_type": "code",
   "execution_count": 44,
   "id": "metric-commission",
   "metadata": {},
   "outputs": [
    {
     "data": {
      "text/plain": [
       "[<matplotlib.lines.Line2D at 0x7f7e4c666220>]"
      ]
     },
     "execution_count": 44,
     "metadata": {},
     "output_type": "execute_result"
    },
    {
     "data": {
      "image/png": "[encoded data removed]",
      "text/plain": [
       "<Figure size 432x288 with 1 Axes>"
      ]
     },
     "metadata": {
      "needs_background": "light"
     },
     "output_type": "display_data"
    }
   ],
   "source": [
    "seq = y_batch[batch, :, signal]\n",
    "plt.plot(seq)"
   ]
  },
  {
   "cell_type": "code",
   "execution_count": 45,
   "id": "introductory-double",
   "metadata": {},
   "outputs": [],
   "source": [
    "validation_data = (np.expand_dims(x_test_scaled, axis=0),\n",
    "                   np.expand_dims(y_test_scaled, axis=0))"
   ]
  },
  {
   "cell_type": "code",
   "execution_count": 46,
   "id": "corporate-grant",
   "metadata": {},
   "outputs": [],
   "source": [
    "path_checkpoint = 'checkpoint.keras'\n",
    "callback_checkpoint = tf.keras.callbacks.ModelCheckpoint(filepath=path_checkpoint,\n",
    "                                      monitor='val_loss',\n",
    "                                      verbose=1,\n",
    "                                      save_weights_only=True,\n",
    "                                      save_best_only=True)"
   ]
  },
  {
   "cell_type": "code",
   "execution_count": 47,
   "id": "pressing-matthew",
   "metadata": {},
   "outputs": [],
   "source": [
    "callback_early_stopping = tf.keras.callbacks.EarlyStopping(monitor='val_loss',\n",
    "                                                           patience=5, verbose=1)"
   ]
  },
  {
   "cell_type": "code",
   "execution_count": 48,
   "id": "correct-wireless",
   "metadata": {},
   "outputs": [],
   "source": [
    "callback_tensorboard = tf.keras.callbacks.TensorBoard(log_dir='./logs/',\n",
    "                                                      histogram_freq=0,\n",
    "                                                      write_graph=False)"
   ]
  },
  {
   "cell_type": "code",
   "execution_count": 49,
   "id": "boolean-wrist",
   "metadata": {},
   "outputs": [],
   "source": [
    "callback_reduce_lr = tf.keras.callbacks.ReduceLROnPlateau(monitor='val_loss',\n",
    "                                                          factor=0.1,\n",
    "                                                          min_lr=1e-4,\n",
    "                                                          patience=0,\n",
    "                                                          verbose=1)"
   ]
  },
  {
   "cell_type": "code",
   "execution_count": 50,
   "id": "binding-modification",
   "metadata": {},
   "outputs": [],
   "source": [
    "model = tf.keras.models.Sequential([tf.keras.layers.GRU(units=512,\n",
    "                                                        return_sequences=True,\n",
    "                                                        input_shape=(None, num_x_signals,),\n",
    "                                                        activation='tanh'),\n",
    "                                    tf.keras.layers.GRU(units=512,\n",
    "                                                        return_sequences=True,\n",
    "                                                        input_shape=(None, num_x_signals,),\n",
    "                                                        activation='tanh'),\n",
    "                                    tf.keras.layers.Dense(num_y_signals, activation='sigmoid')\n",
    "])\n",
    "optimizer = tf.keras.optimizers.Adam(lr=1e-3)\n",
    "model.compile(loss=tf.keras.losses.MSE,\n",
    "              optimizer=optimizer,\n",
    "              metrics=[\"mae\"])"
   ]
  },
  {
   "cell_type": "code",
   "execution_count": 51,
   "id": "baking-speech",
   "metadata": {},
   "outputs": [
    {
     "name": "stdout",
     "output_type": "stream",
     "text": [
      "Model: \"sequential\"\n",
      "_________________________________________________________________\n",
      "Layer (type)                 Output Shape              Param #   \n",
      "=================================================================\n",
      "gru (GRU)                    (None, None, 512)         798720    \n",
      "_________________________________________________________________\n",
      "gru_1 (GRU)                  (None, None, 512)         1575936   \n",
      "_________________________________________________________________\n",
      "dense (Dense)                (None, None, 5)           2565      \n",
      "=================================================================\n",
      "Total params: 2,377,221\n",
      "Trainable params: 2,377,221\n",
      "Non-trainable params: 0\n",
      "_________________________________________________________________\n"
     ]
    }
   ],
   "source": [
    "model.summary()"
   ]
  },
  {
   "cell_type": "code",
   "execution_count": 156,
   "id": "healthy-skiing",
   "metadata": {
    "scrolled": true
   },
   "outputs": [
    {
     "name": "stdout",
     "output_type": "stream",
     "text": [
      "Epoch 1/20\n",
      "100/100 [==============================] - 63s 614ms/step - loss: 0.0049 - mae: 0.0475 - val_loss: 0.0279 - val_mae: 0.0915\n",
      "\n",
      "Epoch 00001: val_loss improved from inf to 0.02786, saving model to checkpoint.keras\n",
      "Epoch 2/20\n",
      "100/100 [==============================] - 61s 615ms/step - loss: 0.0048 - mae: 0.0468 - val_loss: 0.0281 - val_mae: 0.0925\n",
      "\n",
      "Epoch 00002: val_loss did not improve from 0.02786\n",
      "Epoch 3/20\n",
      "100/100 [==============================] - 62s 625ms/step - loss: 0.0048 - mae: 0.0465 - val_loss: 0.0282 - val_mae: 0.0931\n",
      "\n",
      "Epoch 00003: val_loss did not improve from 0.02786\n",
      "Epoch 4/20\n",
      "100/100 [==============================] - 63s 630ms/step - loss: 0.0047 - mae: 0.0463 - val_loss: 0.0284 - val_mae: 0.0937\n",
      "\n",
      "Epoch 00004: val_loss did not improve from 0.02786\n",
      "Epoch 5/20\n",
      "100/100 [==============================] - 63s 635ms/step - loss: 0.0047 - mae: 0.0460 - val_loss: 0.0286 - val_mae: 0.0937\n",
      "\n",
      "Epoch 00005: val_loss did not improve from 0.02786\n",
      "Epoch 6/20\n",
      "100/100 [==============================] - 64s 637ms/step - loss: 0.0047 - mae: 0.0458 - val_loss: 0.0288 - val_mae: 0.0936\n",
      "\n",
      "Epoch 00006: val_loss did not improve from 0.02786\n",
      "Epoch 00006: early stopping\n"
     ]
    },
    {
     "data": {
      "text/plain": [
       "<tensorflow.python.keras.callbacks.History at 0x7f5220180790>"
      ]
     },
     "execution_count": 156,
     "metadata": {},
     "output_type": "execute_result"
    }
   ],
   "source": [
    "model.fit(x=generator,\n",
    "          epochs=20,\n",
    "          steps_per_epoch=100,\n",
    "          validation_data=validation_data,\n",
    "          callbacks = [callback_early_stopping,\n",
    "                       callback_checkpoint,\n",
    "                       callback_tensorboard,\n",
    "                       callback_reduce_lr])"
   ]
  },
  {
   "cell_type": "code",
   "execution_count": 96,
   "id": "experienced-identity",
   "metadata": {},
   "outputs": [],
   "source": [
    "try:\n",
    "    model.load_weights(path_checkpoint)\n",
    "except Exception as error:\n",
    "    print(\"Error trying to load checkpoint.\")\n",
    "    print(error)"
   ]
  },
  {
   "cell_type": "code",
   "execution_count": 97,
   "id": "upset-designation",
   "metadata": {},
   "outputs": [
    {
     "name": "stdout",
     "output_type": "stream",
     "text": [
      "1/1 [==============================] - 1s 549ms/step - loss: 0.0279 - mae: 0.0915\n"
     ]
    }
   ],
   "source": [
    "result = model.evaluate(x=np.expand_dims(x_test_scaled, axis=0),\n",
    "                        y=np.expand_dims(y_test_scaled, axis=0))"
   ]
  },
  {
   "cell_type": "code",
   "execution_count": 98,
   "id": "trying-invalid",
   "metadata": {},
   "outputs": [
    {
     "name": "stdout",
     "output_type": "stream",
     "text": [
      "loss (test-set): [0.027855319902300835, 0.09149332344532013]\n"
     ]
    }
   ],
   "source": [
    "print(\"loss (test-set):\", result)"
   ]
  },
  {
   "cell_type": "code",
   "execution_count": 52,
   "id": "independent-magnitude",
   "metadata": {},
   "outputs": [],
   "source": [
    "def plot_comparison(start_idx, length=100, train=True):\n",
    "    \"\"\"\n",
    "    Plot the predicted and true output-signals.\n",
    "    \n",
    "    :param start_idx: Start-index for the time-series.\n",
    "    :param length: Sequence-length to process and plot.\n",
    "    :param train: Boolean whether to use training- or test-set.\n",
    "    \"\"\"\n",
    "    if train:\n",
    "        x = x_train_scaled\n",
    "        y_true = y_train\n",
    "    else:\n",
    "        x = x_test_scaled\n",
    "        y_true = y_test\n",
    "    \n",
    "    end_idx = start_idx + length\n",
    "    \n",
    "    x = x[start_idx:end_idx]\n",
    "    y_true = y_true[start_idx:end_idx]\n",
    "    \n",
    "    x = np.expand_dims(x, axis=0)\n",
    "\n",
    "    y_pred = model.predict(x)\n",
    "    \n",
    "    y_pred_rescaled = y_scaler.inverse_transform(y_pred[0])\n",
    "    \n",
    "    for signal in range(len(target_names)):\n",
    "        signal_pred = y_pred_rescaled[:, signal]\n",
    "        \n",
    "        signal_true = y_true[:, signal]\n",
    "\n",
    "        plt.figure(figsize=(7,3))\n",
    "        \n",
    "        plt.plot(signal_true, label='true')\n",
    "        plt.plot(signal_pred, label='pred')\n",
    "        \n",
    "        #p = plt.axvspan(0, 50, facecolor='black', alpha=0.15)\n",
    "        \n",
    "        plt.ylabel(target_names[signal])\n",
    "        plt.legend()\n",
    "        plt.show()"
   ]
  },
  {
   "cell_type": "code",
   "execution_count": 53,
   "id": "hired-showcase",
   "metadata": {},
   "outputs": [
    {
     "data": {
      "image/png": "[encoded data removed]",
      "text/plain": [
       "<Figure size 504x216 with 1 Axes>"
      ]
     },
     "metadata": {
      "needs_background": "light"
     },
     "output_type": "display_data"
    },
    {
     "data": {
      "image/png": "[encoded data removed]",
      "text/plain": [
       "<Figure size 504x216 with 1 Axes>"
      ]
     },
     "metadata": {
      "needs_background": "light"
     },
     "output_type": "display_data"
    },
    {
     "data": {
      "image/png": "[encoded data removed]",
      "text/plain": [
       "<Figure size 504x216 with 1 Axes>"
      ]
     },
     "metadata": {
      "needs_background": "light"
     },
     "output_type": "display_data"
    },
    {
     "data": {
      "image/png": "[encoded data removed]",
      "text/plain": [
       "<Figure size 504x216 with 1 Axes>"
      ]
     },
     "metadata": {
      "needs_background": "light"
     },
     "output_type": "display_data"
    },
    {
     "data": {
      "image/png": "[encoded data removed]",
      "text/plain": [
       "<Figure size 504x216 with 1 Axes>"
      ]
     },
     "metadata": {
      "needs_background": "light"
     },
     "output_type": "display_data"
    }
   ],
   "source": [
    "plot_comparison(start_idx=1, length=409, train=False)"
   ]
  },
  {
   "cell_type": "code",
   "execution_count": 101,
   "id": "focal-essence",
   "metadata": {
    "scrolled": true
   },
   "outputs": [],
   "source": [
    "#model.save(\"modelPredictall(=0.027855319902300835)\")"
   ]
  },
  {
   "cell_type": "code",
   "execution_count": 51,
   "id": "optional-making",
   "metadata": {},
   "outputs": [],
   "source": [
    "#model = tf.keras.models.load_model('modelPredictall(=0.032510507851839066).h5')\n",
    "#model = tf.keras.models.load_model('modelPredictall(=0.02950630523264408).h5')\n",
    "model = tf.keras.models.load_model('modelPredict')\n",
    "#model = tf.keras.models.load_model('modelPredictall(=0.023562125861644745).h5')"
   ]
  },
  {
   "cell_type": "code",
   "execution_count": 114,
   "id": "dimensional-flash",
   "metadata": {},
   "outputs": [],
   "source": [
    "x = x_test_scaled\n",
    "y_true = y_test\n",
    "start_idx=1 \n",
    "length=10\n",
    "end_idx = start_idx + length\n",
    "x = x[start_idx:end_idx]\n",
    "y_true = y_true[start_idx:end_idx]\n",
    "x = np.expand_dims(x, axis=0)\n",
    "y_pred = model.predict(x)\n",
    "y_pred_rescaled = y_scaler.inverse_transform(y_pred[0])"
   ]
  },
  {
   "cell_type": "code",
   "execution_count": 115,
   "id": "overall-breakdown",
   "metadata": {},
   "outputs": [],
   "source": [
    "#x=x_test_scaled*inverse\n",
    "#x=x_scaler.inverse_transform(x_test_scaled)\n",
    "#x"
   ]
  },
  {
   "cell_type": "code",
   "execution_count": 116,
   "id": "substantial-matrix",
   "metadata": {},
   "outputs": [
    {
     "data": {
      "text/plain": [
       "array([[ 43.,  21.,  30., 170.,  12., 170.],\n",
       "       [ 62.,  30.,  55., 182.,  15., 182.],\n",
       "       [ 54.,  22.,  28.,  62.,  11.,  62.],\n",
       "       ...,\n",
       "       [ 57.,  43.,  15.,  71.,  31.,  78.],\n",
       "       [ 65.,  48.,  19.,  67.,  37.,  91.],\n",
       "       [ 59.,  42.,  15.,  55.,  30.,  76.]])"
      ]
     },
     "execution_count": 116,
     "metadata": {},
     "output_type": "execute_result"
    }
   ],
   "source": [
    "x_test[1:409]"
   ]
  },
  {
   "cell_type": "code",
   "execution_count": 118,
   "id": "worth-twenty",
   "metadata": {},
   "outputs": [
    {
     "data": {
      "text/plain": [
       "[array([[ 43.,  21.,  30., 170.,  12., 170.],\n",
       "        [ 62.,  30.,  55., 182.,  15., 182.]]),\n",
       " array([[54., 22., 28., 62., 11., 62.],\n",
       "        [43., 20., 21., 73., 13., 73.]]),\n",
       " array([[35., 20., 25., 80., 14., 80.],\n",
       "        [58., 19., 75., 85., 13., 85.]]),\n",
       " array([[39., 15., 37., 88.,  9., 88.],\n",
       "        [32., 19., 21., 89.,  9., 89.]]),\n",
       " array([[40., 19., 25., 92., 13., 92.]]),\n",
       " array([[52., 19., 27., 89., 13., 89.]])]"
      ]
     },
     "execution_count": 118,
     "metadata": {},
     "output_type": "execute_result"
    }
   ],
   "source": [
    "x = x_test\n",
    "x =x[start_idx:end_idx]\n",
    "x"
   ]
  },
  {
   "cell_type": "code",
   "execution_count": 111,
   "id": "authentic-partition",
   "metadata": {},
   "outputs": [
    {
     "data": {
      "text/plain": [
       "array([[[ 76.14628863,  28.61923456,  52.91745383, 152.63712752,\n",
       "          23.340471  ],\n",
       "        [ 68.33755559,  25.1007514 ,  44.55984557, 152.3293733 ,\n",
       "          17.55252895]]])"
      ]
     },
     "execution_count": 111,
     "metadata": {},
     "output_type": "execute_result"
    }
   ],
   "source": [
    "z=np.array([[ 43.,  21.,  30., 170.,  12., 170.],\n",
    "            [ 62.,  30.,  55., 182.,  15., 182.],\n",
    "           ])\n",
    "z=x_scaler.transform(z)\n",
    "#z=z/inverse\n",
    "z=np.expand_dims(z, axis=0)\n",
    "z\n",
    "z_pred = model.predict(z)\n",
    "z_pred*inverse"
   ]
  },
  {
   "cell_type": "code",
   "execution_count": 110,
   "id": "improving-bibliography",
   "metadata": {},
   "outputs": [
    {
     "name": "stdout",
     "output_type": "stream",
     "text": [
      "{\"instances\": \n",
      " [[[0.24157303, 0.29166667, 0.2238806 , 0.54140127, 0.19047619,\n",
      "   0.54140127],\n",
      "  [0.34831461, 0.41666667, 0.41044776, 0.57961783, 0.23809524,\n",
      "   0.57961783]]] \n",
      "}\n"
     ]
    }
   ],
   "source": [
    "print('{\"instances\": \\n',np.array2string(z, separator=', '),'\\n}')"
   ]
  },
  {
   "cell_type": "code",
   "execution_count": 58,
   "id": "worthy-waters",
   "metadata": {},
   "outputs": [
    {
     "data": {
      "text/plain": [
       "array([[0.24157303, 0.29166667, 0.2238806 , 0.54140127, 0.19047619,\n",
       "        0.54140127],\n",
       "       [0.34831461, 0.41666667, 0.41044776, 0.57961783, 0.23809524,\n",
       "        0.57961783],\n",
       "       [0.30337079, 0.30555556, 0.20895522, 0.19745223, 0.17460317,\n",
       "        0.19745223],\n",
       "       [0.24157303, 0.27777778, 0.15671642, 0.23248408, 0.20634921,\n",
       "        0.23248408],\n",
       "       [0.19662921, 0.27777778, 0.18656716, 0.25477707, 0.22222222,\n",
       "        0.25477707],\n",
       "       [0.3258427 , 0.26388889, 0.55970149, 0.27070064, 0.20634921,\n",
       "        0.27070064],\n",
       "       [0.21910112, 0.20833333, 0.2761194 , 0.28025478, 0.14285714,\n",
       "        0.28025478],\n",
       "       [0.17977528, 0.26388889, 0.15671642, 0.28343949, 0.14285714,\n",
       "        0.28343949],\n",
       "       [0.2247191 , 0.26388889, 0.18656716, 0.29299363, 0.20634921,\n",
       "        0.29299363]])"
      ]
     },
     "execution_count": 58,
     "metadata": {},
     "output_type": "execute_result"
    }
   ],
   "source": [
    "x_test_scaled[1:10]"
   ]
  },
  {
   "cell_type": "code",
   "execution_count": 55,
   "id": "arctic-smith",
   "metadata": {
    "scrolled": true
   },
   "outputs": [
    {
     "data": {
      "text/plain": [
       "array([[ 62.,  30.,  55., 182.,  15.],\n",
       "       [ 54.,  22.,  28.,  62.,  11.],\n",
       "       [ 43.,  20.,  21.,  73.,  13.],\n",
       "       [ 35.,  20.,  25.,  80.,  14.],\n",
       "       [ 58.,  19.,  75.,  85.,  13.],\n",
       "       [ 39.,  15.,  37.,  88.,   9.],\n",
       "       [ 32.,  19.,  21.,  89.,   9.],\n",
       "       [ 40.,  19.,  25.,  92.,  13.],\n",
       "       [ 52.,  19.,  27.,  89.,  13.],\n",
       "       [ 54.,  18.,  40.,  84.,  13.]])"
      ]
     },
     "execution_count": 55,
     "metadata": {},
     "output_type": "execute_result"
    }
   ],
   "source": [
    "y_true"
   ]
  },
  {
   "cell_type": "code",
   "execution_count": 54,
   "id": "distinguished-steal",
   "metadata": {},
   "outputs": [
    {
     "data": {
      "text/plain": [
       "array([[[0.24157303, 0.29166667, 0.2238806 , 0.54140127, 0.19047619,\n",
       "         0.54140127],\n",
       "        [0.34831461, 0.41666667, 0.41044776, 0.57961783, 0.23809524,\n",
       "         0.57961783],\n",
       "        [0.30337079, 0.30555556, 0.20895522, 0.19745223, 0.17460317,\n",
       "         0.19745223]]])"
      ]
     },
     "execution_count": 54,
     "metadata": {},
     "output_type": "execute_result"
    }
   ],
   "source": [
    "z=np.array([[[0.24157303, 0.29166667, 0.2238806 , 0.54140127, 0.19047619, 0.54140127],\n",
    "             [0.34831461, 0.41666667, 0.41044776, 0.57961783, 0.23809524, 0.57961783],\n",
    "             [0.30337079, 0.30555556, 0.20895522, 0.19745223, 0.17460317, 0.19745223]]])\n",
    "#z=np.expand_dims(z, axis=0)\n",
    "z"
   ]
  },
  {
   "cell_type": "code",
   "execution_count": 57,
   "id": "monetary-commerce",
   "metadata": {},
   "outputs": [
    {
     "name": "stdout",
     "output_type": "stream",
     "text": [
      "[[[64.96740764]\n",
      "  [50.46944284]\n",
      "  [44.42704025]]]\n",
      "[[[27.75417709]\n",
      "  [21.60859466]\n",
      "  [18.29098535]]]\n",
      "[[[54.03923112]\n",
      "  [44.31462801]\n",
      "  [39.80424863]]]\n",
      "[[[112.19915712]\n",
      "  [ 92.25686717]\n",
      "  [ 87.32832658]]]\n",
      "[[[23.2341249 ]\n",
      "  [18.31854719]\n",
      "  [16.31937531]]]\n"
     ]
    }
   ],
   "source": [
    "z=model.predict(z)\n",
    "z=z*inverse\n",
    "pm10, so2, co, o3, no2 = np.dsplit(z, 5)\n",
    "print(pm10)\n",
    "print(so2)\n",
    "print(co)\n",
    "print(o3)\n",
    "print(no2)"
   ]
  },
  {
   "cell_type": "code",
   "execution_count": 1,
   "id": "indie-bench",
   "metadata": {},
   "outputs": [],
   "source": [
    "y_pred"
   ]
  },
  {
   "cell_type": "code",
   "execution_count": 89,
   "id": "dominican-standing",
   "metadata": {
    "scrolled": true
   },
   "outputs": [
    {
     "data": {
      "text/plain": [
       "array([[ 76.146286 ,  28.619234 ,  52.917454 , 152.63713  ,  23.340473 ],\n",
       "       [ 68.33756  ,  25.100754 ,  44.559853 , 152.32936  ,  17.552528 ],\n",
       "       [ 56.417904 ,  22.368399 ,  37.04921  ,  96.59109  ,  11.9639015],\n",
       "       [ 53.447258 ,  20.564726 ,  33.62974  ,  87.58977  ,  10.856805 ],\n",
       "       [ 50.909435 ,  19.9299   ,  32.62447  ,  87.69547  ,  10.974268 ],\n",
       "       [ 49.60847  ,  17.368273 ,  35.878647 ,  84.78273  ,  10.286073 ],\n",
       "       [ 47.89903  ,  16.216208 ,  37.2325   ,  86.52861  ,   9.9123745],\n",
       "       [ 45.855965 ,  16.807095 ,  35.57951  ,  86.06564  ,   9.482981 ],\n",
       "       [ 46.902546 ,  17.229364 ,  34.472935 ,  88.825294 ,   9.723587 ],\n",
       "       [ 49.48386  ,  17.310919 ,  33.433624 ,  88.937065 ,   9.910923 ]],\n",
       "      dtype=float32)"
      ]
     },
     "execution_count": 89,
     "metadata": {},
     "output_type": "execute_result"
    }
   ],
   "source": [
    "y_pred_rescaled"
   ]
  },
  {
   "cell_type": "code",
   "execution_count": 65,
   "id": "strong-trinidad",
   "metadata": {},
   "outputs": [],
   "source": [
    "error=y_true-y_pred_rescaled"
   ]
  },
  {
   "cell_type": "code",
   "execution_count": 66,
   "id": "affiliated-manhattan",
   "metadata": {},
   "outputs": [
    {
     "data": {
      "text/plain": [
       "array([ 9.80446512,  8.77282145,  7.24068196, 18.02030243, 10.63599659])"
      ]
     },
     "execution_count": 66,
     "metadata": {},
     "output_type": "execute_result"
    }
   ],
   "source": [
    "RMSE=sum((error**2)**0.5)/num_test\n",
    "RMSE"
   ]
  },
  {
   "cell_type": "code",
   "execution_count": 72,
   "id": "intermediate-bahamas",
   "metadata": {},
   "outputs": [
    {
     "data": {
      "text/plain": [
       "array([ 9.80446512,  8.77282145,  7.24068196, 18.02030243, 10.63599659])"
      ]
     },
     "execution_count": 72,
     "metadata": {},
     "output_type": "execute_result"
    }
   ],
   "source": [
    "RMSE=sum((error**2)**0.5)/num_test\n",
    "RMSE"
   ]
  },
  {
   "cell_type": "code",
   "execution_count": 270,
   "id": "surgical-municipality",
   "metadata": {},
   "outputs": [
    {
     "data": {
      "text/plain": [
       "array([178., 126., 134., 314., 148., 314.])"
      ]
     },
     "execution_count": 270,
     "metadata": {},
     "output_type": "execute_result"
    }
   ],
   "source": [
    "inverse= np.max(x_data,axis=0)\n",
    "inverse"
   ]
  },
  {
   "cell_type": "code",
   "execution_count": 165,
   "id": "elegant-syria",
   "metadata": {},
   "outputs": [],
   "source": [
    "#tfjs.converters.save_keras_model(model, '/home/nusa/Desktop/model')"
   ]
  },
  {
   "cell_type": "code",
   "execution_count": 56,
   "id": "fifty-memphis",
   "metadata": {},
   "outputs": [
    {
     "data": {
      "text/plain": [
       "array([178.,  72., 134., 314.,  63.])"
      ]
     },
     "execution_count": 56,
     "metadata": {},
     "output_type": "execute_result"
    }
   ],
   "source": [
    "inverse= np.max(y_train,axis=0)\n",
    "inverse"
   ]
  },
  {
   "cell_type": "code",
   "execution_count": null,
   "id": "offensive-seven",
   "metadata": {},
   "outputs": [],
   "source": []
  }
 ],
 "metadata": {
  "kernelspec": {
   "display_name": "Python 3",
   "language": "python",
   "name": "python3"
  },
  "language_info": {
   "codemirror_mode": {
    "name": "ipython",
    "version": 3
   },
   "file_extension": ".py",
   "mimetype": "text/x-python",
   "name": "python",
   "nbconvert_exporter": "python",
   "pygments_lexer": "ipython3",
   "version": "3.8.5"
  }
 },
 "nbformat": 4,
 "nbformat_minor": 5
}
