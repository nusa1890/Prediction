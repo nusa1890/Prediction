{
 "cells": [
  {
   "cell_type": "code",
   "execution_count": 95,
   "id": "divided-paste",
   "metadata": {},
   "outputs": [
    {
     "data": {
      "text/plain": [
       "'2.4.1'"
      ]
     },
     "execution_count": 95,
     "metadata": {},
     "output_type": "execute_result"
    }
   ],
   "source": [
    "import matplotlib.pyplot as plt\n",
    "import tensorflow as tf\n",
    "import numpy as np\n",
    "import pandas as pd\n",
    "import os\n",
    "from math import sqrt\n",
    "#tf.compat.v1.disable_eager_execution()\n",
    "from sklearn.preprocessing import MinMaxScaler\n",
    "tf.__version__"
   ]
  },
  {
   "cell_type": "code",
   "execution_count": 2,
   "id": "behind-numbers",
   "metadata": {},
   "outputs": [],
   "source": [
    "df=pd.read_csv('/home/nusa/Documents/ProjectBangkit2021/data/Merged3.1.csv')"
   ]
  },
  {
   "cell_type": "code",
   "execution_count": 3,
   "id": "seasonal-porcelain",
   "metadata": {},
   "outputs": [
    {
     "data": {
      "text/html": [
       "<div>\n",
       "<style scoped>\n",
       "    .dataframe tbody tr th:only-of-type {\n",
       "        vertical-align: middle;\n",
       "    }\n",
       "\n",
       "    .dataframe tbody tr th {\n",
       "        vertical-align: top;\n",
       "    }\n",
       "\n",
       "    .dataframe thead th {\n",
       "        text-align: right;\n",
       "    }\n",
       "</style>\n",
       "<table border=\"1\" class=\"dataframe\">\n",
       "  <thead>\n",
       "    <tr style=\"text-align: right;\">\n",
       "      <th></th>\n",
       "      <th>tanggal</th>\n",
       "      <th>pm10</th>\n",
       "      <th>so2</th>\n",
       "      <th>co</th>\n",
       "      <th>o3</th>\n",
       "      <th>no2</th>\n",
       "      <th>max</th>\n",
       "      <th>critical</th>\n",
       "      <th>categori</th>\n",
       "      <th>lokasi_spku</th>\n",
       "    </tr>\n",
       "  </thead>\n",
       "  <tbody>\n",
       "    <tr>\n",
       "      <th>0</th>\n",
       "      <td>1/1/2010</td>\n",
       "      <td>60</td>\n",
       "      <td>4</td>\n",
       "      <td>73.0</td>\n",
       "      <td>27</td>\n",
       "      <td>14</td>\n",
       "      <td>73</td>\n",
       "      <td>CO</td>\n",
       "      <td>SEDANG</td>\n",
       "      <td>JAKARTA</td>\n",
       "    </tr>\n",
       "    <tr>\n",
       "      <th>1</th>\n",
       "      <td>1/2/2010</td>\n",
       "      <td>32</td>\n",
       "      <td>2</td>\n",
       "      <td>16.0</td>\n",
       "      <td>33</td>\n",
       "      <td>9</td>\n",
       "      <td>33</td>\n",
       "      <td>O3</td>\n",
       "      <td>BAIK</td>\n",
       "      <td>JAKARTA</td>\n",
       "    </tr>\n",
       "    <tr>\n",
       "      <th>2</th>\n",
       "      <td>1/3/2010</td>\n",
       "      <td>27</td>\n",
       "      <td>2</td>\n",
       "      <td>19.0</td>\n",
       "      <td>20</td>\n",
       "      <td>9</td>\n",
       "      <td>27</td>\n",
       "      <td>PM10</td>\n",
       "      <td>BAIK</td>\n",
       "      <td>JAKARTA</td>\n",
       "    </tr>\n",
       "    <tr>\n",
       "      <th>3</th>\n",
       "      <td>1/4/2010</td>\n",
       "      <td>22</td>\n",
       "      <td>2</td>\n",
       "      <td>16.0</td>\n",
       "      <td>15</td>\n",
       "      <td>6</td>\n",
       "      <td>22</td>\n",
       "      <td>PM10</td>\n",
       "      <td>BAIK</td>\n",
       "      <td>JAKARTA</td>\n",
       "    </tr>\n",
       "    <tr>\n",
       "      <th>4</th>\n",
       "      <td>1/5/2010</td>\n",
       "      <td>25</td>\n",
       "      <td>2</td>\n",
       "      <td>17.0</td>\n",
       "      <td>15</td>\n",
       "      <td>8</td>\n",
       "      <td>25</td>\n",
       "      <td>PM10</td>\n",
       "      <td>BAIK</td>\n",
       "      <td>JAKARTA</td>\n",
       "    </tr>\n",
       "    <tr>\n",
       "      <th>...</th>\n",
       "      <td>...</td>\n",
       "      <td>...</td>\n",
       "      <td>...</td>\n",
       "      <td>...</td>\n",
       "      <td>...</td>\n",
       "      <td>...</td>\n",
       "      <td>...</td>\n",
       "      <td>...</td>\n",
       "      <td>...</td>\n",
       "      <td>...</td>\n",
       "    </tr>\n",
       "    <tr>\n",
       "      <th>4083</th>\n",
       "      <td>3/27/2021</td>\n",
       "      <td>62</td>\n",
       "      <td>49</td>\n",
       "      <td>13.0</td>\n",
       "      <td>63</td>\n",
       "      <td>33</td>\n",
       "      <td>91</td>\n",
       "      <td>PM25</td>\n",
       "      <td>SEDANG</td>\n",
       "      <td>JAKARTA</td>\n",
       "    </tr>\n",
       "    <tr>\n",
       "      <th>4084</th>\n",
       "      <td>3/28/2021</td>\n",
       "      <td>57</td>\n",
       "      <td>43</td>\n",
       "      <td>15.0</td>\n",
       "      <td>71</td>\n",
       "      <td>31</td>\n",
       "      <td>78</td>\n",
       "      <td>PM25</td>\n",
       "      <td>SEDANG</td>\n",
       "      <td>JAKARTA</td>\n",
       "    </tr>\n",
       "    <tr>\n",
       "      <th>4085</th>\n",
       "      <td>3/29/2021</td>\n",
       "      <td>65</td>\n",
       "      <td>48</td>\n",
       "      <td>19.0</td>\n",
       "      <td>67</td>\n",
       "      <td>37</td>\n",
       "      <td>91</td>\n",
       "      <td>PM25</td>\n",
       "      <td>SEDANG</td>\n",
       "      <td>JAKARTA</td>\n",
       "    </tr>\n",
       "    <tr>\n",
       "      <th>4086</th>\n",
       "      <td>3/30/2021</td>\n",
       "      <td>59</td>\n",
       "      <td>42</td>\n",
       "      <td>15.0</td>\n",
       "      <td>55</td>\n",
       "      <td>30</td>\n",
       "      <td>76</td>\n",
       "      <td>PM25</td>\n",
       "      <td>SEDANG</td>\n",
       "      <td>JAKARTA</td>\n",
       "    </tr>\n",
       "    <tr>\n",
       "      <th>4087</th>\n",
       "      <td>3/31/2021</td>\n",
       "      <td>56</td>\n",
       "      <td>43</td>\n",
       "      <td>18.0</td>\n",
       "      <td>48</td>\n",
       "      <td>25</td>\n",
       "      <td>69</td>\n",
       "      <td>PM25</td>\n",
       "      <td>SEDANG</td>\n",
       "      <td>JAKARTA</td>\n",
       "    </tr>\n",
       "  </tbody>\n",
       "</table>\n",
       "<p>4088 rows × 10 columns</p>\n",
       "</div>"
      ],
      "text/plain": [
       "        tanggal  pm10  so2    co  o3  no2  max critical categori lokasi_spku\n",
       "0      1/1/2010    60    4  73.0  27   14   73       CO   SEDANG     JAKARTA\n",
       "1      1/2/2010    32    2  16.0  33    9   33       O3     BAIK     JAKARTA\n",
       "2      1/3/2010    27    2  19.0  20    9   27     PM10     BAIK     JAKARTA\n",
       "3      1/4/2010    22    2  16.0  15    6   22     PM10     BAIK     JAKARTA\n",
       "4      1/5/2010    25    2  17.0  15    8   25     PM10     BAIK     JAKARTA\n",
       "...         ...   ...  ...   ...  ..  ...  ...      ...      ...         ...\n",
       "4083  3/27/2021    62   49  13.0  63   33   91     PM25   SEDANG     JAKARTA\n",
       "4084  3/28/2021    57   43  15.0  71   31   78     PM25   SEDANG     JAKARTA\n",
       "4085  3/29/2021    65   48  19.0  67   37   91     PM25   SEDANG     JAKARTA\n",
       "4086  3/30/2021    59   42  15.0  55   30   76     PM25   SEDANG     JAKARTA\n",
       "4087  3/31/2021    56   43  18.0  48   25   69     PM25   SEDANG     JAKARTA\n",
       "\n",
       "[4088 rows x 10 columns]"
      ]
     },
     "execution_count": 3,
     "metadata": {},
     "output_type": "execute_result"
    }
   ],
   "source": [
    "df"
   ]
  },
  {
   "cell_type": "code",
   "execution_count": 4,
   "id": "virtual-stock",
   "metadata": {},
   "outputs": [
    {
     "data": {
      "text/plain": [
       "(4088, 10)"
      ]
     },
     "execution_count": 4,
     "metadata": {},
     "output_type": "execute_result"
    }
   ],
   "source": [
    "df.values.shape"
   ]
  },
  {
   "cell_type": "code",
   "execution_count": 5,
   "id": "fabulous-conviction",
   "metadata": {},
   "outputs": [],
   "source": [
    "df.drop('critical', axis=1, inplace=True)\n",
    "df.drop('categori', axis=1, inplace=True)\n",
    "df.drop('lokasi_spku', axis=1, inplace=True)"
   ]
  },
  {
   "cell_type": "code",
   "execution_count": 6,
   "id": "quick-portal",
   "metadata": {},
   "outputs": [
    {
     "data": {
      "text/plain": [
       "(4088, 7)"
      ]
     },
     "execution_count": 6,
     "metadata": {},
     "output_type": "execute_result"
    }
   ],
   "source": [
    "df.values.shape"
   ]
  },
  {
   "cell_type": "code",
   "execution_count": 7,
   "id": "nervous-bibliography",
   "metadata": {},
   "outputs": [
    {
     "data": {
      "text/html": [
       "<div>\n",
       "<style scoped>\n",
       "    .dataframe tbody tr th:only-of-type {\n",
       "        vertical-align: middle;\n",
       "    }\n",
       "\n",
       "    .dataframe tbody tr th {\n",
       "        vertical-align: top;\n",
       "    }\n",
       "\n",
       "    .dataframe thead th {\n",
       "        text-align: right;\n",
       "    }\n",
       "</style>\n",
       "<table border=\"1\" class=\"dataframe\">\n",
       "  <thead>\n",
       "    <tr style=\"text-align: right;\">\n",
       "      <th></th>\n",
       "      <th>tanggal</th>\n",
       "      <th>pm10</th>\n",
       "      <th>so2</th>\n",
       "      <th>co</th>\n",
       "      <th>o3</th>\n",
       "      <th>no2</th>\n",
       "      <th>max</th>\n",
       "    </tr>\n",
       "  </thead>\n",
       "  <tbody>\n",
       "    <tr>\n",
       "      <th>0</th>\n",
       "      <td>1/1/2010</td>\n",
       "      <td>60</td>\n",
       "      <td>4</td>\n",
       "      <td>73.0</td>\n",
       "      <td>27</td>\n",
       "      <td>14</td>\n",
       "      <td>73</td>\n",
       "    </tr>\n",
       "  </tbody>\n",
       "</table>\n",
       "</div>"
      ],
      "text/plain": [
       "    tanggal  pm10  so2    co  o3  no2  max\n",
       "0  1/1/2010    60    4  73.0  27   14   73"
      ]
     },
     "execution_count": 7,
     "metadata": {},
     "output_type": "execute_result"
    }
   ],
   "source": [
    "df.head(1)"
   ]
  },
  {
   "cell_type": "code",
   "execution_count": 8,
   "id": "infectious-dairy",
   "metadata": {},
   "outputs": [
    {
     "name": "stdout",
     "output_type": "stream",
     "text": [
      "<class 'pandas.core.frame.DataFrame'>\n",
      "DatetimeIndex: 4088 entries, 2010-01-01 to 2021-03-31\n",
      "Data columns (total 6 columns):\n",
      " #   Column  Non-Null Count  Dtype  \n",
      "---  ------  --------------  -----  \n",
      " 0   pm10    4088 non-null   int64  \n",
      " 1   so2     4088 non-null   int64  \n",
      " 2   co      4088 non-null   float64\n",
      " 3   o3      4088 non-null   int64  \n",
      " 4   no2     4088 non-null   int64  \n",
      " 5   max     4088 non-null   int64  \n",
      "dtypes: float64(1), int64(5)\n",
      "memory usage: 223.6 KB\n"
     ]
    }
   ],
   "source": [
    "df['tanggal'] = pd.to_datetime(df['tanggal'])\n",
    "df.set_index('tanggal', inplace=True)\n",
    "df.info()"
   ]
  },
  {
   "cell_type": "code",
   "execution_count": 9,
   "id": "junior-neutral",
   "metadata": {},
   "outputs": [
    {
     "data": {
      "text/html": [
       "<div>\n",
       "<style scoped>\n",
       "    .dataframe tbody tr th:only-of-type {\n",
       "        vertical-align: middle;\n",
       "    }\n",
       "\n",
       "    .dataframe tbody tr th {\n",
       "        vertical-align: top;\n",
       "    }\n",
       "\n",
       "    .dataframe thead th {\n",
       "        text-align: right;\n",
       "    }\n",
       "</style>\n",
       "<table border=\"1\" class=\"dataframe\">\n",
       "  <thead>\n",
       "    <tr style=\"text-align: right;\">\n",
       "      <th></th>\n",
       "      <th>pm10</th>\n",
       "      <th>so2</th>\n",
       "      <th>co</th>\n",
       "      <th>o3</th>\n",
       "      <th>no2</th>\n",
       "      <th>max</th>\n",
       "    </tr>\n",
       "    <tr>\n",
       "      <th>tanggal</th>\n",
       "      <th></th>\n",
       "      <th></th>\n",
       "      <th></th>\n",
       "      <th></th>\n",
       "      <th></th>\n",
       "      <th></th>\n",
       "    </tr>\n",
       "  </thead>\n",
       "  <tbody>\n",
       "    <tr>\n",
       "      <th>2010-01-01</th>\n",
       "      <td>60</td>\n",
       "      <td>4</td>\n",
       "      <td>73.0</td>\n",
       "      <td>27</td>\n",
       "      <td>14</td>\n",
       "      <td>73</td>\n",
       "    </tr>\n",
       "    <tr>\n",
       "      <th>2010-01-02</th>\n",
       "      <td>32</td>\n",
       "      <td>2</td>\n",
       "      <td>16.0</td>\n",
       "      <td>33</td>\n",
       "      <td>9</td>\n",
       "      <td>33</td>\n",
       "    </tr>\n",
       "    <tr>\n",
       "      <th>2010-01-03</th>\n",
       "      <td>27</td>\n",
       "      <td>2</td>\n",
       "      <td>19.0</td>\n",
       "      <td>20</td>\n",
       "      <td>9</td>\n",
       "      <td>27</td>\n",
       "    </tr>\n",
       "    <tr>\n",
       "      <th>2010-01-04</th>\n",
       "      <td>22</td>\n",
       "      <td>2</td>\n",
       "      <td>16.0</td>\n",
       "      <td>15</td>\n",
       "      <td>6</td>\n",
       "      <td>22</td>\n",
       "    </tr>\n",
       "    <tr>\n",
       "      <th>2010-01-05</th>\n",
       "      <td>25</td>\n",
       "      <td>2</td>\n",
       "      <td>17.0</td>\n",
       "      <td>15</td>\n",
       "      <td>8</td>\n",
       "      <td>25</td>\n",
       "    </tr>\n",
       "  </tbody>\n",
       "</table>\n",
       "</div>"
      ],
      "text/plain": [
       "            pm10  so2    co  o3  no2  max\n",
       "tanggal                                  \n",
       "2010-01-01    60    4  73.0  27   14   73\n",
       "2010-01-02    32    2  16.0  33    9   33\n",
       "2010-01-03    27    2  19.0  20    9   27\n",
       "2010-01-04    22    2  16.0  15    6   22\n",
       "2010-01-05    25    2  17.0  15    8   25"
      ]
     },
     "execution_count": 9,
     "metadata": {},
     "output_type": "execute_result"
    }
   ],
   "source": [
    "df.head()"
   ]
  },
  {
   "cell_type": "code",
   "execution_count": 10,
   "id": "optimum-explanation",
   "metadata": {},
   "outputs": [
    {
     "data": {
      "image/png": "[encoded data removed]",
      "text/plain": [
       "<Figure size 432x288 with 1 Axes>"
      ]
     },
     "metadata": {
      "needs_background": "light"
     },
     "output_type": "display_data"
    }
   ],
   "source": [
    "df['no2'].plot();"
   ]
  },
  {
   "cell_type": "code",
   "execution_count": 11,
   "id": "western-wallet",
   "metadata": {},
   "outputs": [],
   "source": [
    "target_names = ['pm10', 'so2', 'co', 'o3', 'no2']"
   ]
  },
  {
   "cell_type": "code",
   "execution_count": 12,
   "id": "brutal-shade",
   "metadata": {},
   "outputs": [],
   "source": [
    "shift_steps = 1"
   ]
  },
  {
   "cell_type": "code",
   "execution_count": 13,
   "id": "herbal-tucson",
   "metadata": {},
   "outputs": [],
   "source": [
    "df_targets = df[target_names].shift(-shift_steps)"
   ]
  },
  {
   "cell_type": "code",
   "execution_count": 14,
   "id": "described-indication",
   "metadata": {},
   "outputs": [
    {
     "data": {
      "text/html": [
       "<div>\n",
       "<style scoped>\n",
       "    .dataframe tbody tr th:only-of-type {\n",
       "        vertical-align: middle;\n",
       "    }\n",
       "\n",
       "    .dataframe tbody tr th {\n",
       "        vertical-align: top;\n",
       "    }\n",
       "\n",
       "    .dataframe thead th {\n",
       "        text-align: right;\n",
       "    }\n",
       "</style>\n",
       "<table border=\"1\" class=\"dataframe\">\n",
       "  <thead>\n",
       "    <tr style=\"text-align: right;\">\n",
       "      <th></th>\n",
       "      <th>pm10</th>\n",
       "      <th>so2</th>\n",
       "      <th>co</th>\n",
       "      <th>o3</th>\n",
       "      <th>no2</th>\n",
       "    </tr>\n",
       "    <tr>\n",
       "      <th>tanggal</th>\n",
       "      <th></th>\n",
       "      <th></th>\n",
       "      <th></th>\n",
       "      <th></th>\n",
       "      <th></th>\n",
       "    </tr>\n",
       "  </thead>\n",
       "  <tbody>\n",
       "    <tr>\n",
       "      <th>2010-01-01</th>\n",
       "      <td>60</td>\n",
       "      <td>4</td>\n",
       "      <td>73.0</td>\n",
       "      <td>27</td>\n",
       "      <td>14</td>\n",
       "    </tr>\n",
       "    <tr>\n",
       "      <th>2010-01-02</th>\n",
       "      <td>32</td>\n",
       "      <td>2</td>\n",
       "      <td>16.0</td>\n",
       "      <td>33</td>\n",
       "      <td>9</td>\n",
       "    </tr>\n",
       "    <tr>\n",
       "      <th>2010-01-03</th>\n",
       "      <td>27</td>\n",
       "      <td>2</td>\n",
       "      <td>19.0</td>\n",
       "      <td>20</td>\n",
       "      <td>9</td>\n",
       "    </tr>\n",
       "    <tr>\n",
       "      <th>2010-01-04</th>\n",
       "      <td>22</td>\n",
       "      <td>2</td>\n",
       "      <td>16.0</td>\n",
       "      <td>15</td>\n",
       "      <td>6</td>\n",
       "    </tr>\n",
       "    <tr>\n",
       "      <th>2010-01-05</th>\n",
       "      <td>25</td>\n",
       "      <td>2</td>\n",
       "      <td>17.0</td>\n",
       "      <td>15</td>\n",
       "      <td>8</td>\n",
       "    </tr>\n",
       "    <tr>\n",
       "      <th>2010-01-06</th>\n",
       "      <td>30</td>\n",
       "      <td>3</td>\n",
       "      <td>22.0</td>\n",
       "      <td>19</td>\n",
       "      <td>11</td>\n",
       "    </tr>\n",
       "  </tbody>\n",
       "</table>\n",
       "</div>"
      ],
      "text/plain": [
       "            pm10  so2    co  o3  no2\n",
       "tanggal                             \n",
       "2010-01-01    60    4  73.0  27   14\n",
       "2010-01-02    32    2  16.0  33    9\n",
       "2010-01-03    27    2  19.0  20    9\n",
       "2010-01-04    22    2  16.0  15    6\n",
       "2010-01-05    25    2  17.0  15    8\n",
       "2010-01-06    30    3  22.0  19   11"
      ]
     },
     "execution_count": 14,
     "metadata": {},
     "output_type": "execute_result"
    }
   ],
   "source": [
    "df[target_names].head(shift_steps + 5)"
   ]
  },
  {
   "cell_type": "code",
   "execution_count": 15,
   "id": "extended-phenomenon",
   "metadata": {},
   "outputs": [
    {
     "data": {
      "text/html": [
       "<div>\n",
       "<style scoped>\n",
       "    .dataframe tbody tr th:only-of-type {\n",
       "        vertical-align: middle;\n",
       "    }\n",
       "\n",
       "    .dataframe tbody tr th {\n",
       "        vertical-align: top;\n",
       "    }\n",
       "\n",
       "    .dataframe thead th {\n",
       "        text-align: right;\n",
       "    }\n",
       "</style>\n",
       "<table border=\"1\" class=\"dataframe\">\n",
       "  <thead>\n",
       "    <tr style=\"text-align: right;\">\n",
       "      <th></th>\n",
       "      <th>pm10</th>\n",
       "      <th>so2</th>\n",
       "      <th>co</th>\n",
       "      <th>o3</th>\n",
       "      <th>no2</th>\n",
       "    </tr>\n",
       "    <tr>\n",
       "      <th>tanggal</th>\n",
       "      <th></th>\n",
       "      <th></th>\n",
       "      <th></th>\n",
       "      <th></th>\n",
       "      <th></th>\n",
       "    </tr>\n",
       "  </thead>\n",
       "  <tbody>\n",
       "    <tr>\n",
       "      <th>2010-01-01</th>\n",
       "      <td>32.0</td>\n",
       "      <td>2.0</td>\n",
       "      <td>16.0</td>\n",
       "      <td>33.0</td>\n",
       "      <td>9.0</td>\n",
       "    </tr>\n",
       "    <tr>\n",
       "      <th>2010-01-02</th>\n",
       "      <td>27.0</td>\n",
       "      <td>2.0</td>\n",
       "      <td>19.0</td>\n",
       "      <td>20.0</td>\n",
       "      <td>9.0</td>\n",
       "    </tr>\n",
       "    <tr>\n",
       "      <th>2010-01-03</th>\n",
       "      <td>22.0</td>\n",
       "      <td>2.0</td>\n",
       "      <td>16.0</td>\n",
       "      <td>15.0</td>\n",
       "      <td>6.0</td>\n",
       "    </tr>\n",
       "    <tr>\n",
       "      <th>2010-01-04</th>\n",
       "      <td>25.0</td>\n",
       "      <td>2.0</td>\n",
       "      <td>17.0</td>\n",
       "      <td>15.0</td>\n",
       "      <td>8.0</td>\n",
       "    </tr>\n",
       "    <tr>\n",
       "      <th>2010-01-05</th>\n",
       "      <td>30.0</td>\n",
       "      <td>3.0</td>\n",
       "      <td>22.0</td>\n",
       "      <td>19.0</td>\n",
       "      <td>11.0</td>\n",
       "    </tr>\n",
       "  </tbody>\n",
       "</table>\n",
       "</div>"
      ],
      "text/plain": [
       "            pm10  so2    co    o3   no2\n",
       "tanggal                                \n",
       "2010-01-01  32.0  2.0  16.0  33.0   9.0\n",
       "2010-01-02  27.0  2.0  19.0  20.0   9.0\n",
       "2010-01-03  22.0  2.0  16.0  15.0   6.0\n",
       "2010-01-04  25.0  2.0  17.0  15.0   8.0\n",
       "2010-01-05  30.0  3.0  22.0  19.0  11.0"
      ]
     },
     "execution_count": 15,
     "metadata": {},
     "output_type": "execute_result"
    }
   ],
   "source": [
    "df_targets.head(5)"
   ]
  },
  {
   "cell_type": "code",
   "execution_count": 16,
   "id": "chronic-telescope",
   "metadata": {},
   "outputs": [
    {
     "data": {
      "text/html": [
       "<div>\n",
       "<style scoped>\n",
       "    .dataframe tbody tr th:only-of-type {\n",
       "        vertical-align: middle;\n",
       "    }\n",
       "\n",
       "    .dataframe tbody tr th {\n",
       "        vertical-align: top;\n",
       "    }\n",
       "\n",
       "    .dataframe thead th {\n",
       "        text-align: right;\n",
       "    }\n",
       "</style>\n",
       "<table border=\"1\" class=\"dataframe\">\n",
       "  <thead>\n",
       "    <tr style=\"text-align: right;\">\n",
       "      <th></th>\n",
       "      <th>pm10</th>\n",
       "      <th>so2</th>\n",
       "      <th>co</th>\n",
       "      <th>o3</th>\n",
       "      <th>no2</th>\n",
       "    </tr>\n",
       "    <tr>\n",
       "      <th>tanggal</th>\n",
       "      <th></th>\n",
       "      <th></th>\n",
       "      <th></th>\n",
       "      <th></th>\n",
       "      <th></th>\n",
       "    </tr>\n",
       "  </thead>\n",
       "  <tbody>\n",
       "    <tr>\n",
       "      <th>2021-03-27</th>\n",
       "      <td>57.0</td>\n",
       "      <td>43.0</td>\n",
       "      <td>15.0</td>\n",
       "      <td>71.0</td>\n",
       "      <td>31.0</td>\n",
       "    </tr>\n",
       "    <tr>\n",
       "      <th>2021-03-28</th>\n",
       "      <td>65.0</td>\n",
       "      <td>48.0</td>\n",
       "      <td>19.0</td>\n",
       "      <td>67.0</td>\n",
       "      <td>37.0</td>\n",
       "    </tr>\n",
       "    <tr>\n",
       "      <th>2021-03-29</th>\n",
       "      <td>59.0</td>\n",
       "      <td>42.0</td>\n",
       "      <td>15.0</td>\n",
       "      <td>55.0</td>\n",
       "      <td>30.0</td>\n",
       "    </tr>\n",
       "    <tr>\n",
       "      <th>2021-03-30</th>\n",
       "      <td>56.0</td>\n",
       "      <td>43.0</td>\n",
       "      <td>18.0</td>\n",
       "      <td>48.0</td>\n",
       "      <td>25.0</td>\n",
       "    </tr>\n",
       "    <tr>\n",
       "      <th>2021-03-31</th>\n",
       "      <td>NaN</td>\n",
       "      <td>NaN</td>\n",
       "      <td>NaN</td>\n",
       "      <td>NaN</td>\n",
       "      <td>NaN</td>\n",
       "    </tr>\n",
       "  </tbody>\n",
       "</table>\n",
       "</div>"
      ],
      "text/plain": [
       "            pm10   so2    co    o3   no2\n",
       "tanggal                                 \n",
       "2021-03-27  57.0  43.0  15.0  71.0  31.0\n",
       "2021-03-28  65.0  48.0  19.0  67.0  37.0\n",
       "2021-03-29  59.0  42.0  15.0  55.0  30.0\n",
       "2021-03-30  56.0  43.0  18.0  48.0  25.0\n",
       "2021-03-31   NaN   NaN   NaN   NaN   NaN"
      ]
     },
     "execution_count": 16,
     "metadata": {},
     "output_type": "execute_result"
    }
   ],
   "source": [
    "df_targets.tail()"
   ]
  },
  {
   "cell_type": "code",
   "execution_count": 17,
   "id": "straight-murray",
   "metadata": {},
   "outputs": [],
   "source": [
    "x_data = df.values[0:-shift_steps]"
   ]
  },
  {
   "cell_type": "code",
   "execution_count": 18,
   "id": "incredible-fourth",
   "metadata": {},
   "outputs": [
    {
     "name": "stdout",
     "output_type": "stream",
     "text": [
      "<class 'numpy.ndarray'>\n",
      "Shape: (4087, 6)\n"
     ]
    }
   ],
   "source": [
    "print(type(x_data))\n",
    "print(\"Shape:\", x_data.shape)"
   ]
  },
  {
   "cell_type": "code",
   "execution_count": 19,
   "id": "caroline-elite",
   "metadata": {},
   "outputs": [],
   "source": [
    "y_data = df_targets.values[:-shift_steps]"
   ]
  },
  {
   "cell_type": "code",
   "execution_count": 20,
   "id": "formal-elimination",
   "metadata": {},
   "outputs": [
    {
     "name": "stdout",
     "output_type": "stream",
     "text": [
      "<class 'numpy.ndarray'>\n",
      "Shape: (4087, 5)\n"
     ]
    }
   ],
   "source": [
    "print(type(y_data))\n",
    "print(\"Shape:\", y_data.shape)"
   ]
  },
  {
   "cell_type": "code",
   "execution_count": 21,
   "id": "provincial-corps",
   "metadata": {},
   "outputs": [
    {
     "data": {
      "text/plain": [
       "4087"
      ]
     },
     "execution_count": 21,
     "metadata": {},
     "output_type": "execute_result"
    }
   ],
   "source": [
    "num_data = len(x_data)\n",
    "num_data"
   ]
  },
  {
   "cell_type": "code",
   "execution_count": 22,
   "id": "processed-pottery",
   "metadata": {},
   "outputs": [],
   "source": [
    "train_split = 0.9"
   ]
  },
  {
   "cell_type": "code",
   "execution_count": 23,
   "id": "hired-vienna",
   "metadata": {},
   "outputs": [
    {
     "data": {
      "text/plain": [
       "3678"
      ]
     },
     "execution_count": 23,
     "metadata": {},
     "output_type": "execute_result"
    }
   ],
   "source": [
    "num_train = int(train_split * num_data)\n",
    "num_train"
   ]
  },
  {
   "cell_type": "code",
   "execution_count": 24,
   "id": "crucial-romance",
   "metadata": {},
   "outputs": [
    {
     "data": {
      "text/plain": [
       "409"
      ]
     },
     "execution_count": 24,
     "metadata": {},
     "output_type": "execute_result"
    }
   ],
   "source": [
    "num_test = num_data - num_train\n",
    "num_test"
   ]
  },
  {
   "cell_type": "code",
   "execution_count": 25,
   "id": "removable-salmon",
   "metadata": {},
   "outputs": [
    {
     "data": {
      "text/plain": [
       "4087"
      ]
     },
     "execution_count": 25,
     "metadata": {},
     "output_type": "execute_result"
    }
   ],
   "source": [
    "x_train = x_data[0:num_train]\n",
    "x_test = x_data[num_train:]\n",
    "len(x_train) + len(x_test)"
   ]
  },
  {
   "cell_type": "code",
   "execution_count": 26,
   "id": "stunning-driving",
   "metadata": {},
   "outputs": [
    {
     "data": {
      "text/plain": [
       "4087"
      ]
     },
     "execution_count": 26,
     "metadata": {},
     "output_type": "execute_result"
    }
   ],
   "source": [
    "y_train = y_data[0:num_train]\n",
    "y_test = y_data[num_train:]\n",
    "len(y_train) + len(y_test)"
   ]
  },
  {
   "cell_type": "code",
   "execution_count": 27,
   "id": "complicated-deposit",
   "metadata": {},
   "outputs": [
    {
     "data": {
      "text/plain": [
       "6"
      ]
     },
     "execution_count": 27,
     "metadata": {},
     "output_type": "execute_result"
    }
   ],
   "source": [
    "num_x_signals = x_data.shape[1]\n",
    "num_x_signals"
   ]
  },
  {
   "cell_type": "code",
   "execution_count": 28,
   "id": "apparent-least",
   "metadata": {},
   "outputs": [
    {
     "data": {
      "text/plain": [
       "5"
      ]
     },
     "execution_count": 28,
     "metadata": {},
     "output_type": "execute_result"
    }
   ],
   "source": [
    "num_y_signals = y_data.shape[1]\n",
    "num_y_signals"
   ]
  },
  {
   "cell_type": "code",
   "execution_count": 29,
   "id": "favorite-hughes",
   "metadata": {},
   "outputs": [
    {
     "name": "stdout",
     "output_type": "stream",
     "text": [
      "Min: 0.0\n",
      "Max: 314.0\n"
     ]
    }
   ],
   "source": [
    "print(\"Min:\", np.min(x_train))\n",
    "print(\"Max:\", np.max(x_train))"
   ]
  },
  {
   "cell_type": "code",
   "execution_count": 30,
   "id": "adequate-firmware",
   "metadata": {},
   "outputs": [],
   "source": [
    "x_scaler = MinMaxScaler()"
   ]
  },
  {
   "cell_type": "code",
   "execution_count": 31,
   "id": "broad-massachusetts",
   "metadata": {},
   "outputs": [],
   "source": [
    "x_train_scaled = x_scaler.fit_transform(x_train)"
   ]
  },
  {
   "cell_type": "code",
   "execution_count": 32,
   "id": "healthy-frontier",
   "metadata": {},
   "outputs": [
    {
     "name": "stdout",
     "output_type": "stream",
     "text": [
      "Min: 0.0\n",
      "Max: 1.0\n"
     ]
    }
   ],
   "source": [
    "print(\"Min:\", np.min(x_train_scaled))\n",
    "print(\"Max:\", np.max(x_train_scaled))"
   ]
  },
  {
   "cell_type": "code",
   "execution_count": 33,
   "id": "informed-republic",
   "metadata": {},
   "outputs": [],
   "source": [
    "x_test_scaled = x_scaler.transform(x_test)"
   ]
  },
  {
   "cell_type": "code",
   "execution_count": 34,
   "id": "future-mining",
   "metadata": {},
   "outputs": [],
   "source": [
    "y_scaler = MinMaxScaler()\n",
    "y_train_scaled = y_scaler.fit_transform(y_train)\n",
    "y_test_scaled = y_scaler.transform(y_test)"
   ]
  },
  {
   "cell_type": "code",
   "execution_count": 35,
   "id": "nasty-remark",
   "metadata": {},
   "outputs": [
    {
     "name": "stdout",
     "output_type": "stream",
     "text": [
      "(3678, 6)\n",
      "(3678, 5)\n"
     ]
    }
   ],
   "source": [
    "print(x_train_scaled.shape)\n",
    "print(y_train_scaled.shape)"
   ]
  },
  {
   "cell_type": "code",
   "execution_count": 36,
   "id": "athletic-indianapolis",
   "metadata": {},
   "outputs": [],
   "source": [
    "def batch_generator(batch_size, sequence_length):\n",
    "    \"\"\"\n",
    "    Generator function for creating random batches of training-data.\n",
    "    \"\"\"\n",
    "\n",
    "    # Infinite loop.\n",
    "    while True:\n",
    "        # Allocate a new array for the batch of input-signals.\n",
    "        x_shape = (batch_size, sequence_length, num_x_signals)\n",
    "        x_batch = np.zeros(shape=x_shape, dtype=np.float16)\n",
    "\n",
    "        # Allocate a new array for the batch of output-signals.\n",
    "        y_shape = (batch_size, sequence_length, num_y_signals)\n",
    "        y_batch = np.zeros(shape=y_shape, dtype=np.float16)\n",
    "\n",
    "        # Fill the batch with random sequences of data.\n",
    "        for i in range(batch_size):\n",
    "            # Get a random start-index.\n",
    "            # This points somewhere into the training-data.\n",
    "            idx = np.random.randint(num_train - sequence_length)\n",
    "            \n",
    "            # Copy the sequences of data starting at this index.\n",
    "            x_batch[i] = x_train_scaled[idx:idx+sequence_length]\n",
    "            y_batch[i] = y_train_scaled[idx:idx+sequence_length]\n",
    "        \n",
    "        yield (x_batch, y_batch)"
   ]
  },
  {
   "cell_type": "code",
   "execution_count": 37,
   "id": "three-torture",
   "metadata": {},
   "outputs": [],
   "source": [
    "batch_size = 128"
   ]
  },
  {
   "cell_type": "code",
   "execution_count": 38,
   "id": "informational-services",
   "metadata": {},
   "outputs": [],
   "source": [
    "sequence_length = 366"
   ]
  },
  {
   "cell_type": "code",
   "execution_count": 39,
   "id": "resident-struggle",
   "metadata": {},
   "outputs": [],
   "source": [
    "generator = batch_generator(batch_size=batch_size,\n",
    "                            sequence_length=sequence_length)"
   ]
  },
  {
   "cell_type": "code",
   "execution_count": 40,
   "id": "subject-prefix",
   "metadata": {},
   "outputs": [],
   "source": [
    "x_batch, y_batch = next(generator)"
   ]
  },
  {
   "cell_type": "code",
   "execution_count": 41,
   "id": "favorite-liver",
   "metadata": {},
   "outputs": [
    {
     "name": "stdout",
     "output_type": "stream",
     "text": [
      "(128, 366, 6)\n",
      "(128, 366, 5)\n"
     ]
    }
   ],
   "source": [
    "print(x_batch.shape)\n",
    "print(y_batch.shape)"
   ]
  },
  {
   "cell_type": "code",
   "execution_count": 42,
   "id": "gorgeous-support",
   "metadata": {},
   "outputs": [
    {
     "data": {
      "text/plain": [
       "[<matplotlib.lines.Line2D at 0x7fa52c4ce1c0>]"
      ]
     },
     "execution_count": 42,
     "metadata": {},
     "output_type": "execute_result"
    },
    {
     "data": {
      "image/png": "[encoded data removed]",
      "text/plain": [
       "<Figure size 432x288 with 1 Axes>"
      ]
     },
     "metadata": {
      "needs_background": "light"
     },
     "output_type": "display_data"
    }
   ],
   "source": [
    "batch = 0   # First sequence in the batch.\n",
    "signal = 0  # First signal from the 20 input-signals.\n",
    "seq = x_batch[batch, :, signal]\n",
    "plt.plot(seq)"
   ]
  },
  {
   "cell_type": "code",
   "execution_count": 43,
   "id": "metric-commission",
   "metadata": {},
   "outputs": [
    {
     "data": {
      "text/plain": [
       "[<matplotlib.lines.Line2D at 0x7fa52c431bb0>]"
      ]
     },
     "execution_count": 43,
     "metadata": {},
     "output_type": "execute_result"
    },
    {
     "data": {
      "image/png": "[encoded data removed]",
      "text/plain": [
       "<Figure size 432x288 with 1 Axes>"
      ]
     },
     "metadata": {
      "needs_background": "light"
     },
     "output_type": "display_data"
    }
   ],
   "source": [
    "seq = y_batch[batch, :, signal]\n",
    "plt.plot(seq)"
   ]
  },
  {
   "cell_type": "code",
   "execution_count": 44,
   "id": "introductory-double",
   "metadata": {},
   "outputs": [],
   "source": [
    "validation_data = (np.expand_dims(x_test_scaled, axis=0),\n",
    "                   np.expand_dims(y_test_scaled, axis=0))"
   ]
  },
  {
   "cell_type": "code",
   "execution_count": 45,
   "id": "corporate-grant",
   "metadata": {},
   "outputs": [],
   "source": [
    "path_checkpoint = '23_checkpoint.keras'\n",
    "callback_checkpoint = tf.keras.callbacks.ModelCheckpoint(filepath=path_checkpoint,\n",
    "                                      monitor='val_loss',\n",
    "                                      verbose=1,\n",
    "                                      save_weights_only=True,\n",
    "                                      save_best_only=True)"
   ]
  },
  {
   "cell_type": "code",
   "execution_count": 46,
   "id": "pressing-matthew",
   "metadata": {},
   "outputs": [],
   "source": [
    "callback_early_stopping = tf.keras.callbacks.EarlyStopping(monitor='val_loss',\n",
    "                                                           patience=5, verbose=1)"
   ]
  },
  {
   "cell_type": "code",
   "execution_count": 47,
   "id": "correct-wireless",
   "metadata": {},
   "outputs": [],
   "source": [
    "callback_tensorboard = tf.keras.callbacks.TensorBoard(log_dir='./23_logs/',\n",
    "                                                      histogram_freq=0,\n",
    "                                                      write_graph=False)"
   ]
  },
  {
   "cell_type": "code",
   "execution_count": 48,
   "id": "boolean-wrist",
   "metadata": {},
   "outputs": [],
   "source": [
    "callback_reduce_lr = tf.keras.callbacks.ReduceLROnPlateau(monitor='val_loss',\n",
    "                                                          factor=0.1,\n",
    "                                                          min_lr=1e-4,\n",
    "                                                          patience=0,\n",
    "                                                          verbose=1)"
   ]
  },
  {
   "cell_type": "code",
   "execution_count": 49,
   "id": "binding-modification",
   "metadata": {},
   "outputs": [],
   "source": [
    "model = tf.keras.models.Sequential([tf.keras.layers.GRU(units=512,\n",
    "                                    return_sequences=True,\n",
    "                                    input_shape=(None, num_x_signals,)),\n",
    "                                    tf.keras.layers.GRU(units=256,\n",
    "                                    return_sequences=True,\n",
    "                                    input_shape=(None, num_x_signals,)),\n",
    "                                    tf.keras.layers.Dense(num_y_signals, activation='sigmoid')\n",
    "])\n",
    "optimizer = tf.keras.optimizers.RMSprop(lr=1e-3)\n",
    "model.compile(loss=tf.keras.losses.MSE,\n",
    "              optimizer=optimizer)"
   ]
  },
  {
   "cell_type": "code",
   "execution_count": 50,
   "id": "baking-speech",
   "metadata": {},
   "outputs": [
    {
     "name": "stdout",
     "output_type": "stream",
     "text": [
      "Model: \"sequential\"\n",
      "_________________________________________________________________\n",
      "Layer (type)                 Output Shape              Param #   \n",
      "=================================================================\n",
      "gru (GRU)                    (None, None, 512)         798720    \n",
      "_________________________________________________________________\n",
      "gru_1 (GRU)                  (None, None, 256)         591360    \n",
      "_________________________________________________________________\n",
      "dense (Dense)                (None, None, 5)           1285      \n",
      "=================================================================\n",
      "Total params: 1,391,365\n",
      "Trainable params: 1,391,365\n",
      "Non-trainable params: 0\n",
      "_________________________________________________________________\n"
     ]
    }
   ],
   "source": [
    "model.summary()"
   ]
  },
  {
   "cell_type": "code",
   "execution_count": 51,
   "id": "diverse-protection",
   "metadata": {},
   "outputs": [
    {
     "name": "stdout",
     "output_type": "stream",
     "text": [
      "Epoch 1/20\n",
      "100/100 [==============================] - ETA: 0s - batch: 49.5000 - size: 128.0000 - loss: 0.0141"
     ]
    },
    {
     "name": "stderr",
     "output_type": "stream",
     "text": [
      "/home/nusa/.local/lib/python3.8/site-packages/tensorflow/python/keras/engine/training.py:2325: UserWarning: `Model.state_updates` will be removed in a future version. This property should not be used in TensorFlow 2.0, as `updates` are applied automatically.\n",
      "  warnings.warn('`Model.state_updates` will be removed in a future version. '\n"
     ]
    },
    {
     "name": "stdout",
     "output_type": "stream",
     "text": [
      "\n",
      "Epoch 00001: val_loss improved from inf to 0.04110, saving model to 23_checkpoint.keras\n",
      "100/100 [==============================] - 78s 763ms/step - batch: 49.5000 - size: 128.0000 - loss: 0.0141 - val_loss: 0.0411\n",
      "Epoch 2/20\n",
      "100/100 [==============================] - ETA: 0s - batch: 49.5000 - size: 128.0000 - loss: 0.0078\n",
      "Epoch 00002: val_loss improved from 0.04110 to 0.03627, saving model to 23_checkpoint.keras\n",
      "100/100 [==============================] - 77s 767ms/step - batch: 49.5000 - size: 128.0000 - loss: 0.0078 - val_loss: 0.0363\n",
      "Epoch 3/20\n",
      "100/100 [==============================] - ETA: 0s - batch: 49.5000 - size: 128.0000 - loss: 0.0068\n",
      "Epoch 00003: val_loss did not improve from 0.03627\n",
      "\n",
      "Epoch 00003: ReduceLROnPlateau reducing learning rate to 0.00010000000474974513.\n",
      "100/100 [==============================] - 76s 760ms/step - batch: 49.5000 - size: 128.0000 - loss: 0.0068 - val_loss: 0.0656\n",
      "Epoch 4/20\n",
      "100/100 [==============================] - ETA: 0s - batch: 49.5000 - size: 128.0000 - loss: 0.0060\n",
      "Epoch 00004: val_loss did not improve from 0.03627\n",
      "\n",
      "Epoch 00004: ReduceLROnPlateau reducing learning rate to 0.0001.\n",
      "100/100 [==============================] - 77s 767ms/step - batch: 49.5000 - size: 128.0000 - loss: 0.0060 - val_loss: 0.0717\n",
      "Epoch 5/20\n",
      "100/100 [==============================] - ETA: 0s - batch: 49.5000 - size: 128.0000 - loss: 0.0059\n",
      "Epoch 00005: val_loss did not improve from 0.03627\n",
      "100/100 [==============================] - 76s 761ms/step - batch: 49.5000 - size: 128.0000 - loss: 0.0059 - val_loss: 0.0768\n",
      "Epoch 6/20\n",
      "100/100 [==============================] - ETA: 0s - batch: 49.5000 - size: 128.0000 - loss: 0.0059\n",
      "Epoch 00006: val_loss did not improve from 0.03627\n",
      "100/100 [==============================] - 77s 773ms/step - batch: 49.5000 - size: 128.0000 - loss: 0.0059 - val_loss: 0.0796\n",
      "Epoch 7/20\n",
      "100/100 [==============================] - ETA: 0s - batch: 49.5000 - size: 128.0000 - loss: 0.0059\n",
      "Epoch 00007: val_loss did not improve from 0.03627\n",
      "100/100 [==============================] - 77s 770ms/step - batch: 49.5000 - size: 128.0000 - loss: 0.0059 - val_loss: 0.0807\n",
      "Epoch 8/20\n",
      "100/100 [==============================] - ETA: 0s - batch: 49.5000 - size: 128.0000 - loss: 0.0058\n",
      "Epoch 00008: val_loss did not improve from 0.03627\n",
      "100/100 [==============================] - 107s 1s/step - batch: 49.5000 - size: 128.0000 - loss: 0.0058 - val_loss: 0.0821\n",
      "Epoch 9/20\n",
      "100/100 [==============================] - ETA: 0s - batch: 49.5000 - size: 128.0000 - loss: 0.0058\n",
      "Epoch 00009: val_loss did not improve from 0.03627\n",
      "100/100 [==============================] - 77s 765ms/step - batch: 49.5000 - size: 128.0000 - loss: 0.0058 - val_loss: 0.0820\n",
      "Epoch 10/20\n",
      "100/100 [==============================] - ETA: 0s - batch: 49.5000 - size: 128.0000 - loss: 0.0058\n",
      "Epoch 00010: val_loss did not improve from 0.03627\n",
      "100/100 [==============================] - 76s 764ms/step - batch: 49.5000 - size: 128.0000 - loss: 0.0058 - val_loss: 0.0811\n",
      "Epoch 11/20\n",
      "100/100 [==============================] - ETA: 0s - batch: 49.5000 - size: 128.0000 - loss: 0.0058\n",
      "Epoch 00011: val_loss did not improve from 0.03627\n",
      "100/100 [==============================] - 116s 1s/step - batch: 49.5000 - size: 128.0000 - loss: 0.0058 - val_loss: 0.0838\n",
      "Epoch 12/20\n",
      "100/100 [==============================] - ETA: 0s - batch: 49.5000 - size: 128.0000 - loss: 0.0058\n",
      "Epoch 00012: val_loss did not improve from 0.03627\n",
      "100/100 [==============================] - 89s 894ms/step - batch: 49.5000 - size: 128.0000 - loss: 0.0058 - val_loss: 0.0846\n",
      "Epoch 13/20\n",
      "100/100 [==============================] - ETA: 0s - batch: 49.5000 - size: 128.0000 - loss: 0.0058\n",
      "Epoch 00013: val_loss did not improve from 0.03627\n",
      "100/100 [==============================] - 76s 757ms/step - batch: 49.5000 - size: 128.0000 - loss: 0.0058 - val_loss: 0.0843\n",
      "Epoch 14/20\n",
      "100/100 [==============================] - ETA: 0s - batch: 49.5000 - size: 128.0000 - loss: 0.0057\n",
      "Epoch 00014: val_loss did not improve from 0.03627\n",
      "100/100 [==============================] - 85s 853ms/step - batch: 49.5000 - size: 128.0000 - loss: 0.0057 - val_loss: 0.0879\n",
      "Epoch 15/20\n",
      "100/100 [==============================] - ETA: 0s - batch: 49.5000 - size: 128.0000 - loss: 0.0057\n",
      "Epoch 00015: val_loss did not improve from 0.03627\n",
      "100/100 [==============================] - 82s 820ms/step - batch: 49.5000 - size: 128.0000 - loss: 0.0057 - val_loss: 0.0886\n",
      "Epoch 16/20\n",
      "100/100 [==============================] - ETA: 0s - batch: 49.5000 - size: 128.0000 - loss: 0.0057\n",
      "Epoch 00016: val_loss did not improve from 0.03627\n",
      "100/100 [==============================] - 81s 815ms/step - batch: 49.5000 - size: 128.0000 - loss: 0.0057 - val_loss: 0.0906\n",
      "Epoch 17/20\n",
      "100/100 [==============================] - ETA: 0s - batch: 49.5000 - size: 128.0000 - loss: 0.0057\n",
      "Epoch 00017: val_loss did not improve from 0.03627\n",
      "100/100 [==============================] - 90s 902ms/step - batch: 49.5000 - size: 128.0000 - loss: 0.0057 - val_loss: 0.0950\n",
      "Epoch 18/20\n",
      "100/100 [==============================] - ETA: 0s - batch: 49.5000 - size: 128.0000 - loss: 0.0057\n",
      "Epoch 00018: val_loss did not improve from 0.03627\n",
      "100/100 [==============================] - 96s 938ms/step - batch: 49.5000 - size: 128.0000 - loss: 0.0057 - val_loss: 0.0974\n",
      "Epoch 19/20\n",
      "100/100 [==============================] - ETA: 0s - batch: 49.5000 - size: 128.0000 - loss: 0.0056\n",
      "Epoch 00019: val_loss did not improve from 0.03627\n",
      "100/100 [==============================] - 76s 759ms/step - batch: 49.5000 - size: 128.0000 - loss: 0.0056 - val_loss: 0.0993\n",
      "Epoch 20/20\n",
      "100/100 [==============================] - ETA: 0s - batch: 49.5000 - size: 128.0000 - loss: 0.0056\n",
      "Epoch 00020: val_loss did not improve from 0.03627\n",
      "100/100 [==============================] - 75s 754ms/step - batch: 49.5000 - size: 128.0000 - loss: 0.0056 - val_loss: 0.0976\n"
     ]
    },
    {
     "data": {
      "text/plain": [
       "<tensorflow.python.keras.callbacks.History at 0x7ff4516179d0>"
      ]
     },
     "execution_count": 51,
     "metadata": {},
     "output_type": "execute_result"
    }
   ],
   "source": [
    "model.fit(x=generator,\n",
    "          epochs=20,\n",
    "          steps_per_epoch=100,\n",
    "          validation_data=validation_data,\n",
    "          callbacks = [callback_early_stopping,\n",
    "                       callback_checkpoint,\n",
    "                       callback_tensorboard,\n",
    "                       callback_reduce_lr])"
   ]
  },
  {
   "cell_type": "code",
   "execution_count": 52,
   "id": "particular-alaska",
   "metadata": {},
   "outputs": [],
   "source": [
    "if False:\n",
    "    from tensorflow.python.keras.initializers import RandomUniform\n",
    "\n",
    "    # Maybe use lower init-ranges.\n",
    "    init = RandomUniform(minval=-0.05, maxval=0.05)\n",
    "\n",
    "    model.add(Dense(num_y_signals,\n",
    "                    activation='linear',\n",
    "                    kernel_initializer=init))"
   ]
  },
  {
   "cell_type": "code",
   "execution_count": 53,
   "id": "experienced-identity",
   "metadata": {},
   "outputs": [],
   "source": [
    "try:\n",
    "    model.load_weights(path_checkpoint)\n",
    "except Exception as error:\n",
    "    print(\"Error trying to load checkpoint.\")\n",
    "    print(error)"
   ]
  },
  {
   "cell_type": "code",
   "execution_count": 54,
   "id": "upset-designation",
   "metadata": {},
   "outputs": [],
   "source": [
    "result = model.evaluate(x=np.expand_dims(x_test_scaled, axis=0),\n",
    "                        y=np.expand_dims(y_test_scaled, axis=0))"
   ]
  },
  {
   "cell_type": "code",
   "execution_count": 55,
   "id": "trying-invalid",
   "metadata": {},
   "outputs": [
    {
     "name": "stdout",
     "output_type": "stream",
     "text": [
      "loss (test-set): 0.03626738116145134\n"
     ]
    }
   ],
   "source": [
    "print(\"loss (test-set):\", result)"
   ]
  },
  {
   "cell_type": "code",
   "execution_count": 56,
   "id": "eight-circular",
   "metadata": {},
   "outputs": [],
   "source": [
    "# If you have several metrics you can use this instead.\n",
    "if False:\n",
    "    for res, metric in zip(result, model.metrics_names):\n",
    "        print(\"{0}: {1:.3e}\".format(metric, res))"
   ]
  },
  {
   "cell_type": "code",
   "execution_count": 53,
   "id": "independent-magnitude",
   "metadata": {},
   "outputs": [],
   "source": [
    "def plot_comparison(start_idx, length=100, train=True):\n",
    "    \"\"\"\n",
    "    Plot the predicted and true output-signals.\n",
    "    \n",
    "    :param start_idx: Start-index for the time-series.\n",
    "    :param length: Sequence-length to process and plot.\n",
    "    :param train: Boolean whether to use training- or test-set.\n",
    "    \"\"\"\n",
    "    \n",
    "    if train:\n",
    "        x = x_train_scaled\n",
    "        y_true = y_train\n",
    "    else:\n",
    "        x = x_test_scaled\n",
    "        y_true = y_test\n",
    "    \n",
    "    end_idx = start_idx + length\n",
    "    \n",
    "    x = x[start_idx:end_idx]\n",
    "    y_true = y_true[start_idx:end_idx]\n",
    "    \n",
    "    x = np.expand_dims(x, axis=0)\n",
    "\n",
    "    y_pred = model.predict(x)\n",
    "    \n",
    "    y_pred_rescaled = y_scaler.inverse_transform(y_pred[0])\n",
    "    \n",
    "    for signal in range(len(target_names)):\n",
    "        signal_pred = y_pred_rescaled[:, signal]\n",
    "        \n",
    "        signal_true = y_true[:, signal]\n",
    "\n",
    "        plt.figure(figsize=(7,3))\n",
    "        \n",
    "        plt.plot(signal_true, label='true')\n",
    "        plt.plot(signal_pred, label='pred')\n",
    "        \n",
    "        #p = plt.axvspan(0, 50, facecolor='black', alpha=0.15)\n",
    "        \n",
    "        plt.ylabel(target_names[signal])\n",
    "        plt.legend()\n",
    "        plt.show()"
   ]
  },
  {
   "cell_type": "code",
   "execution_count": 54,
   "id": "hired-showcase",
   "metadata": {},
   "outputs": [
    {
     "data": {
      "image/png": "[encoded data removed]",
      "text/plain": [
       "<Figure size 504x216 with 1 Axes>"
      ]
     },
     "metadata": {
      "needs_background": "light"
     },
     "output_type": "display_data"
    },
    {
     "data": {
      "image/png": "[encoded data removed]",
      "text/plain": [
       "<Figure size 504x216 with 1 Axes>"
      ]
     },
     "metadata": {
      "needs_background": "light"
     },
     "output_type": "display_data"
    },
    {
     "data": {
      "image/png": "[encoded data removed]",
      "text/plain": [
       "<Figure size 504x216 with 1 Axes>"
      ]
     },
     "metadata": {
      "needs_background": "light"
     },
     "output_type": "display_data"
    },
    {
     "data": {
      "image/png": "[encoded data removed]",
      "text/plain": [
       "<Figure size 504x216 with 1 Axes>"
      ]
     },
     "metadata": {
      "needs_background": "light"
     },
     "output_type": "display_data"
    },
    {
     "data": {
      "image/png": "[encoded data removed]",
      "text/plain": [
       "<Figure size 504x216 with 1 Axes>"
      ]
     },
     "metadata": {
      "needs_background": "light"
     },
     "output_type": "display_data"
    }
   ],
   "source": [
    "plot_comparison(start_idx=1, length=1000, train=False)"
   ]
  },
  {
   "cell_type": "code",
   "execution_count": 62,
   "id": "focal-essence",
   "metadata": {},
   "outputs": [],
   "source": [
    "model.save(\"modelPredictall(=0.03626738116145134).h5\")"
   ]
  },
  {
   "cell_type": "code",
   "execution_count": 52,
   "id": "optional-making",
   "metadata": {},
   "outputs": [],
   "source": [
    "model = tf.keras.models.load_model('modelPredictall(=0.032510507851839066).h5')"
   ]
  },
  {
   "cell_type": "code",
   "execution_count": 56,
   "id": "dimensional-flash",
   "metadata": {},
   "outputs": [],
   "source": [
    "x = x_test_scaled\n",
    "y_true = y_test\n",
    "start_idx=1 \n",
    "length=1000\n",
    "end_idx = start_idx + length\n",
    "x = x[start_idx:end_idx]\n",
    "y_true = y_true[start_idx:end_idx]\n",
    "x = np.expand_dims(x, axis=0)\n",
    "y_pred = model.predict(x)\n",
    "y_pred_rescaled = y_scaler.inverse_transform(y_pred[0])"
   ]
  },
  {
   "cell_type": "code",
   "execution_count": 64,
   "id": "french-furniture",
   "metadata": {},
   "outputs": [
    {
     "data": {
      "text/plain": [
       "array([[ 62.,  30.,  55., 182.,  15.],\n",
       "       [ 54.,  22.,  28.,  62.,  11.],\n",
       "       [ 43.,  20.,  21.,  73.,  13.],\n",
       "       ...,\n",
       "       [ 65.,  48.,  19.,  67.,  37.],\n",
       "       [ 59.,  42.,  15.,  55.,  30.],\n",
       "       [ 56.,  43.,  18.,  48.,  25.]])"
      ]
     },
     "execution_count": 64,
     "metadata": {},
     "output_type": "execute_result"
    }
   ],
   "source": [
    "y_true"
   ]
  },
  {
   "cell_type": "code",
   "execution_count": 58,
   "id": "comic-toilet",
   "metadata": {},
   "outputs": [
    {
     "data": {
      "text/plain": [
       "array([[ 82.42896 ,  30.416847,  53.08786 , 158.85849 ,  26.442324],\n",
       "       [ 77.04276 ,  28.049461,  45.150826, 158.21713 ,  22.159706],\n",
       "       [ 65.51441 ,  25.644941,  36.016277, 112.25136 ,  16.513826],\n",
       "       ...,\n",
       "       [ 60.09013 ,  43.241104,  23.28547 ,  76.05024 ,  24.95045 ],\n",
       "       [ 63.01297 ,  44.269455,  24.511555,  79.42793 ,  26.983963],\n",
       "       [ 62.164036,  43.72482 ,  23.763796,  74.62552 ,  26.99716 ]],\n",
       "      dtype=float32)"
      ]
     },
     "execution_count": 58,
     "metadata": {},
     "output_type": "execute_result"
    }
   ],
   "source": [
    "y_pred_rescaled"
   ]
  },
  {
   "cell_type": "code",
   "execution_count": 89,
   "id": "rental-thing",
   "metadata": {},
   "outputs": [],
   "source": [
    "error=y_true-y_pred_rescaled"
   ]
  },
  {
   "cell_type": "code",
   "execution_count": 102,
   "id": "sporting-alcohol",
   "metadata": {},
   "outputs": [
    {
     "data": {
      "text/plain": [
       "array([ 9.57281672,  9.60676524,  7.49618286, 19.95363282, 11.40755795])"
      ]
     },
     "execution_count": 102,
     "metadata": {},
     "output_type": "execute_result"
    }
   ],
   "source": [
    "RMSE=sum((error**2)**0.5)/num_test\n",
    "RMSE"
   ]
  },
  {
   "cell_type": "code",
   "execution_count": null,
   "id": "usual-truth",
   "metadata": {},
   "outputs": [],
   "source": []
  }
 ],
 "metadata": {
  "kernelspec": {
   "display_name": "Python 3",
   "language": "python",
   "name": "python3"
  },
  "language_info": {
   "codemirror_mode": {
    "name": "ipython",
    "version": 3
   },
   "file_extension": ".py",
   "mimetype": "text/x-python",
   "name": "python",
   "nbconvert_exporter": "python",
   "pygments_lexer": "ipython3",
   "version": "3.8.5"
  }
 },
 "nbformat": 4,
 "nbformat_minor": 5
}
