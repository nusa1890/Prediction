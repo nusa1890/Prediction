{
 "metadata": {
  "language_info": {
   "codemirror_mode": {
    "name": "ipython",
    "version": 3
   },
   "file_extension": ".py",
   "mimetype": "text/x-python",
   "name": "python",
   "nbconvert_exporter": "python",
   "pygments_lexer": "ipython3",
   "version": "3.8.5"
  },
  "orig_nbformat": 2,
  "kernelspec": {
   "name": "python385jvsc74a57bd031f2aee4e71d21fbe5cf8b01ff0e069b9275f58929596ceb00d14d90e3e16cd6",
   "display_name": "Python 3.8.5 64-bit ('usr')"
  },
  "metadata": {
   "interpreter": {
    "hash": "31f2aee4e71d21fbe5cf8b01ff0e069b9275f58929596ceb00d14d90e3e16cd6"
   }
  }
 },
 "nbformat": 4,
 "nbformat_minor": 2,
 "cells": [
  {
   "cell_type": "code",
   "execution_count": 16,
   "metadata": {},
   "outputs": [],
   "source": [
    "from pandas import read_csv\n",
    "from datetime import datetime\n"
   ]
  },
  {
   "cell_type": "code",
   "execution_count": 17,
   "metadata": {},
   "outputs": [
    {
     "output_type": "stream",
     "name": "stdout",
     "text": [
      "          pm10  so2    co  o3  no2  max critical categori lokasi_spku\ntanggal                                                              \n1/1/2010    60    4  73.0  27   14   73       CO   SEDANG     JAKARTA\n1/2/2010    32    2  16.0  33    9   33       O3     BAIK     JAKARTA\n1/3/2010    27    2  19.0  20    9   27     PM10     BAIK     JAKARTA\n1/4/2010    22    2  16.0  15    6   22     PM10     BAIK     JAKARTA\n1/5/2010    25    2  17.0  15    8   25     PM10     BAIK     JAKARTA\n"
     ]
    }
   ],
   "source": [
    "def parse(x):\n",
    "\treturn datetime.strptime(x, '%m %d %Y')\n",
    "dataset = read_csv('/home/nusa/Documents/ProjectBangkit2021/data/Merged3.1.csv')\n",
    "dataset.columns = ['tanggal','pm10','so2','co','o3','no2', 'max', 'critical', 'categori', 'lokasi_spku']\n",
    "dataset.set_index('tanggal', inplace=True)\n",
    "print(dataset.head(5))\n",
    "dataset.to_csv('pollution.csv')"
   ]
  },
  {
   "cell_type": "code",
   "execution_count": null,
   "metadata": {},
   "outputs": [],
   "source": []
  }
 ]
}